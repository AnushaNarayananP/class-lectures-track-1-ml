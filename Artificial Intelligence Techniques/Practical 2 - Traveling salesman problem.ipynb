{
 "cells": [
  {
   "cell_type": "code",
   "execution_count": 1,
   "id": "ae28eec9",
   "metadata": {},
   "outputs": [],
   "source": [
    "from sys import maxsize\n",
    "from itertools import permutations\n"
   ]
  },
  {
   "cell_type": "code",
   "execution_count": 2,
   "id": "36fce4fa",
   "metadata": {},
   "outputs": [],
   "source": [
    "V=4"
   ]
  },
  {
   "cell_type": "code",
   "execution_count": 9,
   "id": "6db5656b",
   "metadata": {},
   "outputs": [],
   "source": [
    "def travellingSalesmanProblem(graph,s):\n",
    "    vertex=[]\n",
    "    for i in range(V):\n",
    "        if i !=s:\n",
    "            vertex.append(i)\n",
    "    print('nodes except ', s,' is ',vertex)\n",
    "    min_path=maxsize\n",
    "    print('maxsize=',maxsize)\n",
    "    next_permutation = permutations(vertex)\n",
    "    for i in next_permutation:\n",
    "        current_pathweight=0\n",
    "        k=s\n",
    "        for j in i:\n",
    "            current_pathweight += graph[k][j]\n",
    "            k=j\n",
    "        current_pathweight +=graph[k][s]\n",
    "        print('for permutation',i)\n",
    "        print('min_path ',min_path, ' current_pathweight',current_pathweight)\n",
    "        \n",
    "        min_path = min(min_path,current_pathweight)\n",
    "        print('comparing minimum path and current path weight the min value is',min_path)\n",
    "    return min_path"
   ]
  },
  {
   "cell_type": "code",
   "execution_count": 10,
   "id": "3f379564",
   "metadata": {},
   "outputs": [
    {
     "name": "stdout",
     "output_type": "stream",
     "text": [
      "nodes except  0  is  [1, 2, 3]\n",
      "maxsize= 9223372036854775807\n",
      "for permutation (1, 2, 3)\n",
      "min_path  9223372036854775807  current_pathweight 95\n",
      "comparing minimum path and current path weight the min value is 95\n",
      "for permutation (1, 3, 2)\n",
      "min_path  95  current_pathweight 80\n",
      "comparing minimum path and current path weight the min value is 80\n",
      "for permutation (2, 1, 3)\n",
      "min_path  80  current_pathweight 95\n",
      "comparing minimum path and current path weight the min value is 80\n",
      "for permutation (2, 3, 1)\n",
      "min_path  80  current_pathweight 80\n",
      "comparing minimum path and current path weight the min value is 80\n",
      "for permutation (3, 1, 2)\n",
      "min_path  80  current_pathweight 95\n",
      "comparing minimum path and current path weight the min value is 80\n",
      "for permutation (3, 2, 1)\n",
      "min_path  80  current_pathweight 95\n",
      "comparing minimum path and current path weight the min value is 80\n",
      "80\n"
     ]
    }
   ],
   "source": [
    "if __name__=='__main__':\n",
    "    graph=[[0,10,15,20],[10,0,35,25],[15,35,0,30],[20,25,30,0]]\n",
    "    s=0\n",
    "    print(travellingSalesmanProblem(graph,s))"
   ]
  },
  {
   "cell_type": "code",
   "execution_count": null,
   "id": "17026c68",
   "metadata": {},
   "outputs": [],
   "source": []
  }
 ],
 "metadata": {
  "kernelspec": {
   "display_name": "Python 3 (ipykernel)",
   "language": "python",
   "name": "python3"
  },
  "language_info": {
   "codemirror_mode": {
    "name": "ipython",
    "version": 3
   },
   "file_extension": ".py",
   "mimetype": "text/x-python",
   "name": "python",
   "nbconvert_exporter": "python",
   "pygments_lexer": "ipython3",
   "version": "3.9.12"
  }
 },
 "nbformat": 4,
 "nbformat_minor": 5
}
