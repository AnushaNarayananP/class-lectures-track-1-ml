{
 "cells": [
  {
   "cell_type": "code",
   "execution_count": 4,
   "id": "ba34fe55",
   "metadata": {},
   "outputs": [
    {
     "name": "stdout",
     "output_type": "stream",
     "text": [
      "Following is the Breadth-First Search\n",
      "5 no. of iteration  1\n",
      "['5', '3']\n",
      "['3']\n",
      "no. of iteration  2\n",
      "['5', '3', '7']\n",
      "['3', '7']\n",
      "3 no. of iteration  1\n",
      "['5', '3', '7', '2']\n",
      "['7', '2']\n",
      "no. of iteration  2\n",
      "['5', '3', '7', '2', '4']\n",
      "['7', '2', '4']\n",
      "7 no. of iteration  1\n",
      "['5', '3', '7', '2', '4', '8']\n",
      "['2', '4', '8']\n",
      "2 4 8 "
     ]
    }
   ],
   "source": [
    "graph = {\n",
    "  '5' : ['3','7'],\n",
    "  '3' : ['2', '4'],\n",
    "  '7' : ['8'],\n",
    "  '2' : [],\n",
    "  '4' : ['8'],\n",
    "  '8' : []\n",
    "}\n",
    "\n",
    "visited = [] # List for visited nodes.\n",
    "queue = []     #Initialize a queue\n",
    "\n",
    "def bfs(visited, graph, node): #function for BFS\n",
    "    visited.append(node)\n",
    "    queue.append(node)\n",
    "\n",
    "    while queue:          # Creating loop to visit each node\n",
    "        m = queue.pop(0)\n",
    "        print (m, end = \" \")\n",
    "        count=0\n",
    "\n",
    "        for neighbour in graph[m]:\n",
    "            if neighbour not in visited:\n",
    "                count +=1\n",
    "                print('no. of iteration ',count)\n",
    "                visited.append(neighbour)\n",
    "                queue.append(neighbour)\n",
    "                print(visited)\n",
    "                print(queue)\n",
    "\n",
    "# Driver Code\n",
    "print(\"Following is the Breadth-First Search\")\n",
    "bfs(visited, graph, '5')    # function calling"
   ]
  },
  {
   "cell_type": "code",
   "execution_count": 1,
   "id": "f595ca13",
   "metadata": {},
   "outputs": [
    {
     "name": "stdout",
     "output_type": "stream",
     "text": [
      "Following is the Breadth-First Search\n",
      "5 ['5', '3']\n",
      "['3']\n",
      "['5', '3', '7']\n",
      "['3', '7']\n",
      "3 ['5', '3', '7', '2']\n",
      "['7', '2']\n",
      "['5', '3', '7', '2', '4']\n",
      "['7', '2', '4']\n",
      "7 ['5', '3', '7', '2', '4', '8']\n",
      "['2', '4', '8']\n",
      "2 4 8 "
     ]
    }
   ],
   "source": [
    "graph = {\n",
    "  '5' : ['3','7'],\n",
    "  '3' : ['2', '4'],\n",
    "  '7' : ['8'],\n",
    "  '2' : [],\n",
    "  '4' : ['8'],\n",
    "  '8' : []\n",
    "}\n",
    "\n",
    "visited = [] # List for visited nodes.\n",
    "queue = []     #Initialize a queue\n",
    "\n",
    "def bfs(visited, graph, node): #function for BFS\n",
    "    visited.append(node)\n",
    "    queue.append(node)\n",
    "\n",
    "    while queue:          # Creating loop to visit each node\n",
    "        m = queue.pop(0)\n",
    "        print (m, end = \" \")\n",
    "        \n",
    "\n",
    "        for neighbour in graph[m]:\n",
    "            if neighbour not in visited:\n",
    "                \n",
    "                \n",
    "                visited.append(neighbour)\n",
    "                queue.append(neighbour)\n",
    "                print(visited)\n",
    "                print(queue)\n",
    "\n",
    "# Driver Code\n",
    "print(\"Following is the Breadth-First Search\")\n",
    "bfs(visited, graph, '5')    # function calling"
   ]
  },
  {
   "cell_type": "code",
   "execution_count": null,
   "id": "71ce7e1d",
   "metadata": {},
   "outputs": [],
   "source": []
  }
 ],
 "metadata": {
  "kernelspec": {
   "display_name": "Python 3 (ipykernel)",
   "language": "python",
   "name": "python3"
  },
  "language_info": {
   "codemirror_mode": {
    "name": "ipython",
    "version": 3
   },
   "file_extension": ".py",
   "mimetype": "text/x-python",
   "name": "python",
   "nbconvert_exporter": "python",
   "pygments_lexer": "ipython3",
   "version": "3.9.12"
  }
 },
 "nbformat": 4,
 "nbformat_minor": 5
}
