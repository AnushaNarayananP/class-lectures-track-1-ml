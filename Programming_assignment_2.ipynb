{
  "nbformat": 4,
  "nbformat_minor": 0,
  "metadata": {
    "colab": {
      "provenance": []
    },
    "kernelspec": {
      "name": "python3",
      "display_name": "Python 3"
    },
    "language_info": {
      "name": "python"
    }
  },
  "cells": [
    {
      "cell_type": "markdown",
      "source": [
        "importing library"
      ],
      "metadata": {
        "id": "OxTTQwhv-4Mv"
      }
    },
    {
      "cell_type": "code",
      "execution_count": null,
      "metadata": {
        "id": "0TEYueo3Hmr3"
      },
      "outputs": [],
      "source": [
        "import numpy as np "
      ]
    },
    {
      "cell_type": "markdown",
      "source": [
        "Detailed work"
      ],
      "metadata": {
        "id": "BjWblbBg_CJv"
      }
    },
    {
      "cell_type": "code",
      "source": [
        "A=np.array([[-1,1,0,0,0,0,0,1],[0,-1,1,-1,0,0,0,0],[0,0,0,0,0,-1,1,-1],[0,0,0,1,-1,1,0,0]])\n",
        "A"
      ],
      "metadata": {
        "colab": {
          "base_uri": "https://localhost:8080/"
        },
        "id": "Hl5iXm0BKyxK",
        "outputId": "16a1859c-afad-4375-8de5-55a24d58c117"
      },
      "execution_count": null,
      "outputs": [
        {
          "output_type": "execute_result",
          "data": {
            "text/plain": [
              "array([[-1,  1,  0,  0,  0,  0,  0,  1],\n",
              "       [ 0, -1,  1, -1,  0,  0,  0,  0],\n",
              "       [ 0,  0,  0,  0,  0, -1,  1, -1],\n",
              "       [ 0,  0,  0,  1, -1,  1,  0,  0]])"
            ]
          },
          "metadata": {},
          "execution_count": 2
        }
      ]
    },
    {
      "cell_type": "code",
      "source": [
        "rank_A=np.linalg.matrix_rank(A)\n",
        "rank_A"
      ],
      "metadata": {
        "colab": {
          "base_uri": "https://localhost:8080/"
        },
        "id": "tbfdXF1YMHRz",
        "outputId": "5865aaba-ad31-415e-ebad-ee1e72e706e1"
      },
      "execution_count": null,
      "outputs": [
        {
          "output_type": "execute_result",
          "data": {
            "text/plain": [
              "4"
            ]
          },
          "metadata": {},
          "execution_count": 13
        }
      ]
    },
    {
      "cell_type": "code",
      "source": [
        "b=np.array([[50],[60],[30],[40]])"
      ],
      "metadata": {
        "id": "pMigc39ZN9Nd"
      },
      "execution_count": null,
      "outputs": []
    },
    {
      "cell_type": "code",
      "source": [
        "b"
      ],
      "metadata": {
        "colab": {
          "base_uri": "https://localhost:8080/"
        },
        "id": "cnDYM-5dPTtR",
        "outputId": "ada96d06-ea5c-4fc8-d64e-ceac9205b04a"
      },
      "execution_count": null,
      "outputs": [
        {
          "output_type": "execute_result",
          "data": {
            "text/plain": [
              "array([[50],\n",
              "       [60],\n",
              "       [30],\n",
              "       [40]])"
            ]
          },
          "metadata": {},
          "execution_count": 5
        }
      ]
    },
    {
      "cell_type": "code",
      "source": [
        "multiplication=np.dot(A,A.T)\n",
        "multiplication"
      ],
      "metadata": {
        "colab": {
          "base_uri": "https://localhost:8080/"
        },
        "id": "s19M3GEnPYIK",
        "outputId": "98bc70a2-3ef6-4c81-9c1f-0cb07f7e4f4b"
      },
      "execution_count": null,
      "outputs": [
        {
          "output_type": "execute_result",
          "data": {
            "text/plain": [
              "array([[ 3, -1, -1,  0],\n",
              "       [-1,  3,  0, -1],\n",
              "       [-1,  0,  3, -1],\n",
              "       [ 0, -1, -1,  3]])"
            ]
          },
          "metadata": {},
          "execution_count": 27
        }
      ]
    },
    {
      "cell_type": "code",
      "source": [
        "P=np.linalg.inv(multiplication)\n",
        "P"
      ],
      "metadata": {
        "colab": {
          "base_uri": "https://localhost:8080/"
        },
        "id": "eHM7KCl_Rm0a",
        "outputId": "24b31453-63f6-471f-99ec-0226597e5de5"
      },
      "execution_count": null,
      "outputs": [
        {
          "output_type": "execute_result",
          "data": {
            "text/plain": [
              "array([[0.46666667, 0.2       , 0.2       , 0.13333333],\n",
              "       [0.2       , 0.46666667, 0.13333333, 0.2       ],\n",
              "       [0.2       , 0.13333333, 0.46666667, 0.2       ],\n",
              "       [0.13333333, 0.2       , 0.2       , 0.46666667]])"
            ]
          },
          "metadata": {},
          "execution_count": 18
        }
      ]
    },
    {
      "cell_type": "code",
      "source": [
        "X=np.dot(A.T,P)\n",
        "X"
      ],
      "metadata": {
        "colab": {
          "base_uri": "https://localhost:8080/"
        },
        "id": "rv2oP6LGR-v_",
        "outputId": "1eb9ea0a-b35a-46c0-8fde-575317941031"
      },
      "execution_count": null,
      "outputs": [
        {
          "output_type": "execute_result",
          "data": {
            "text/plain": [
              "array([[-0.46666667, -0.2       , -0.2       , -0.13333333],\n",
              "       [ 0.26666667, -0.26666667,  0.06666667, -0.06666667],\n",
              "       [ 0.2       ,  0.46666667,  0.13333333,  0.2       ],\n",
              "       [-0.06666667, -0.26666667,  0.06666667,  0.26666667],\n",
              "       [-0.13333333, -0.2       , -0.2       , -0.46666667],\n",
              "       [-0.06666667,  0.06666667, -0.26666667,  0.26666667],\n",
              "       [ 0.2       ,  0.13333333,  0.46666667,  0.2       ],\n",
              "       [ 0.26666667,  0.06666667, -0.26666667, -0.06666667]])"
            ]
          },
          "metadata": {},
          "execution_count": 8
        }
      ]
    },
    {
      "cell_type": "code",
      "source": [
        "x=np.dot(X,b)\n",
        "x"
      ],
      "metadata": {
        "colab": {
          "base_uri": "https://localhost:8080/"
        },
        "id": "9cA0KWyrWiMS",
        "outputId": "900c5a6a-bff8-4d91-a684-250602d47334"
      },
      "execution_count": null,
      "outputs": [
        {
          "output_type": "execute_result",
          "data": {
            "text/plain": [
              "array([[-46.66666667],\n",
              "       [ -3.33333333],\n",
              "       [ 50.        ],\n",
              "       [ -6.66666667],\n",
              "       [-43.33333333],\n",
              "       [  3.33333333],\n",
              "       [ 40.        ],\n",
              "       [  6.66666667]])"
            ]
          },
          "metadata": {},
          "execution_count": 9
        }
      ]
    },
    {
      "cell_type": "code",
      "source": [
        "vec_norm = np.linalg.norm(x)\n",
        "vec_norm"
      ],
      "metadata": {
        "colab": {
          "base_uri": "https://localhost:8080/"
        },
        "id": "XS2FAXUNXC1F",
        "outputId": "a828b09f-55c4-4dca-da1d-cb11602c70bf"
      },
      "execution_count": null,
      "outputs": [
        {
          "output_type": "execute_result",
          "data": {
            "text/plain": [
              "90.92121131323904"
            ]
          },
          "metadata": {},
          "execution_count": 10
        }
      ]
    },
    {
      "cell_type": "code",
      "source": [
        "Q=np.hstack((A,b))\n",
        "Q"
      ],
      "metadata": {
        "colab": {
          "base_uri": "https://localhost:8080/"
        },
        "id": "JvEMXfHKZ_04",
        "outputId": "7a4f205e-6535-411d-8f85-12f433ca75f5"
      },
      "execution_count": null,
      "outputs": [
        {
          "output_type": "execute_result",
          "data": {
            "text/plain": [
              "array([[-1,  1,  0,  0,  0,  0,  0,  1, 50],\n",
              "       [ 0, -1,  1, -1,  0,  0,  0,  0, 60],\n",
              "       [ 0,  0,  0,  0,  0, -1,  1, -1, 30],\n",
              "       [ 0,  0,  0,  1, -1,  1,  0,  0, 40]])"
            ]
          },
          "metadata": {},
          "execution_count": 17
        }
      ]
    },
    {
      "cell_type": "code",
      "source": [
        "rank_Q=np.linalg.matrix_rank(Q)\n",
        "rank_Q"
      ],
      "metadata": {
        "colab": {
          "base_uri": "https://localhost:8080/"
        },
        "id": "jHx5toao716S",
        "outputId": "064d4105-fd34-4e52-a02a-c73bd8740efb"
      },
      "execution_count": null,
      "outputs": [
        {
          "output_type": "execute_result",
          "data": {
            "text/plain": [
              "4"
            ]
          },
          "metadata": {},
          "execution_count": 20
        }
      ]
    },
    {
      "cell_type": "code",
      "source": [
        "rank_nullity = A.shape[1]-rank_A\n",
        "rank_nullity"
      ],
      "metadata": {
        "colab": {
          "base_uri": "https://localhost:8080/"
        },
        "id": "MS-4pNUy8yRD",
        "outputId": "13400ac9-995f-445b-d290-6a9db45c36d0"
      },
      "execution_count": null,
      "outputs": [
        {
          "output_type": "execute_result",
          "data": {
            "text/plain": [
              "4"
            ]
          },
          "metadata": {},
          "execution_count": 16
        }
      ]
    },
    {
      "cell_type": "markdown",
      "source": [
        "Concise work into class"
      ],
      "metadata": {
        "id": "1eereYC3_wDo"
      }
    },
    {
      "cell_type": "code",
      "source": [
        "class programmimg_assignment_2 :\n",
        "  A=np.array([[-1,1,0,0,0,0,0,1],[0,-1,1,-1,0,0,0,0],[0,0,0,0,0,-1,1,-1],[0,0,0,1,-1,1,0,0]])\n",
        "  b=np.array([[50],[60],[30],[40]])\n",
        "  \n",
        "  def unknown_variable(self,A,b):\n",
        "    multiplication=np.dot(A,A.T)\n",
        "    P=np.linalg.inv(multiplication)\n",
        "    X=np.dot(A.T,P)\n",
        "    x=np.dot(X,b)\n",
        "    print('The solution point is =',x)\n",
        "    print('The norm of unknown variable is ',np.linalg.norm(x))\n",
        "  def rank_A(self,A):\n",
        "    print('the rank of A is',np.linalg.matrix_rank(A))\n",
        "  def rank_Ab(self,A,b):\n",
        "    Q=np.hstack((A,b))\n",
        "    print('The rank of A given b is ',np.linalg.matrix_rank(Q))\n",
        "  def rank_nullity(self,A):\n",
        "    print('Rank-Nullity of matrix A is',A.shape[1]-np.linalg.matrix_rank(A))\n",
        "    "
      ],
      "metadata": {
        "id": "3Cn205S_AD2b"
      },
      "execution_count": null,
      "outputs": []
    },
    {
      "cell_type": "code",
      "source": [
        "c=programmimg_assignment_2()\n",
        "c.unknown_variable(A,b)"
      ],
      "metadata": {
        "colab": {
          "base_uri": "https://localhost:8080/"
        },
        "id": "j5CxetsQJ_3A",
        "outputId": "1456efb4-d5be-4119-f850-d7a45182720f"
      },
      "execution_count": null,
      "outputs": [
        {
          "output_type": "stream",
          "name": "stdout",
          "text": [
            "The solution point is = [[-46.66666667]\n",
            " [ -3.33333333]\n",
            " [ 50.        ]\n",
            " [ -6.66666667]\n",
            " [-43.33333333]\n",
            " [  3.33333333]\n",
            " [ 40.        ]\n",
            " [  6.66666667]]\n",
            "The norm of unknown variable is  90.92121131323904\n"
          ]
        }
      ]
    },
    {
      "cell_type": "code",
      "source": [
        "c.rank_A(A)"
      ],
      "metadata": {
        "colab": {
          "base_uri": "https://localhost:8080/"
        },
        "id": "1YmhG7TlLtv-",
        "outputId": "17e94491-e6db-4343-f5e8-bfa6f72df5ce"
      },
      "execution_count": null,
      "outputs": [
        {
          "output_type": "stream",
          "name": "stdout",
          "text": [
            "the rank of A is 4\n"
          ]
        }
      ]
    },
    {
      "cell_type": "code",
      "source": [
        "c.rank_Ab(A,b)"
      ],
      "metadata": {
        "colab": {
          "base_uri": "https://localhost:8080/"
        },
        "id": "y1BZvLcSL8u8",
        "outputId": "0dc73925-4eaa-4ae6-9b72-4d75b20353d9"
      },
      "execution_count": null,
      "outputs": [
        {
          "output_type": "stream",
          "name": "stdout",
          "text": [
            "The rank of A given b is  4\n"
          ]
        }
      ]
    },
    {
      "cell_type": "code",
      "source": [
        "c.rank_nullity(A)"
      ],
      "metadata": {
        "colab": {
          "base_uri": "https://localhost:8080/"
        },
        "id": "zyVUDHsdMDHe",
        "outputId": "0fc931ad-7257-4a58-94e6-41bfc7a35afd"
      },
      "execution_count": null,
      "outputs": [
        {
          "output_type": "stream",
          "name": "stdout",
          "text": [
            "Rank-Nullity of matrix A is 4\n"
          ]
        }
      ]
    }
  ]
}