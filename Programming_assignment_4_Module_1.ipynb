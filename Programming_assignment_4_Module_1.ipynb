{
  "nbformat": 4,
  "nbformat_minor": 0,
  "metadata": {
    "colab": {
      "provenance": []
    },
    "kernelspec": {
      "name": "python3",
      "display_name": "Python 3"
    },
    "language_info": {
      "name": "python"
    }
  },
  "cells": [
    {
      "cell_type": "markdown",
      "source": [
        "importing libraries"
      ],
      "metadata": {
        "id": "qX0zlP9Cg5kh"
      }
    },
    {
      "cell_type": "code",
      "execution_count": null,
      "metadata": {
        "id": "waMnrvEGgrz-"
      },
      "outputs": [],
      "source": [
        "import numpy as np\n",
        "import matplotlib.pyplot as plt\n",
        "import pandas as pd"
      ]
    },
    {
      "cell_type": "code",
      "source": [
        "import tensorflow as tf\n",
        "from tensorflow import keras"
      ],
      "metadata": {
        "id": "B4fC8xlcXZQK"
      },
      "execution_count": null,
      "outputs": []
    },
    {
      "cell_type": "markdown",
      "source": [
        "Forward Propagation"
      ],
      "metadata": {
        "id": "apd2eVeHz69l"
      }
    },
    {
      "cell_type": "code",
      "source": [
        "X=np.array([[1,0,0],[1,0,1],[1,1,0],[1,1,1]])\n",
        "W=np.array([[0,0,0],[-0.5,0,1],[-0.5,1,0],[-0.5,1,1]])"
      ],
      "metadata": {
        "id": "w5KroEJjO__w"
      },
      "execution_count": null,
      "outputs": []
    },
    {
      "cell_type": "code",
      "source": [
        "\n",
        "Z=np.sum(X*W,axis=1)\n",
        "Z"
      ],
      "metadata": {
        "id": "k_xYmy91hYKq",
        "colab": {
          "base_uri": "https://localhost:8080/"
        },
        "outputId": "a8a17c14-91bb-4d5a-cccf-24e2ac3e8bac"
      },
      "execution_count": null,
      "outputs": [
        {
          "output_type": "execute_result",
          "data": {
            "text/plain": [
              "array([0. , 0.5, 0.5, 1.5])"
            ]
          },
          "metadata": {},
          "execution_count": 4
        }
      ]
    },
    {
      "cell_type": "code",
      "source": [
        "Z=Z.reshape(Z.shape[0],1)\n",
        "Z"
      ],
      "metadata": {
        "colab": {
          "base_uri": "https://localhost:8080/"
        },
        "id": "0iSTLOdr7nxM",
        "outputId": "d3fde17a-950f-41ea-f28c-68e998bb05da"
      },
      "execution_count": null,
      "outputs": [
        {
          "output_type": "execute_result",
          "data": {
            "text/plain": [
              "array([[0. ],\n",
              "       [0.5],\n",
              "       [0.5],\n",
              "       [1.5]])"
            ]
          },
          "metadata": {},
          "execution_count": 5
        }
      ]
    },
    {
      "cell_type": "code",
      "source": [
        "model = keras.activations.sigmoid(Z)\n",
        "model"
      ],
      "metadata": {
        "colab": {
          "base_uri": "https://localhost:8080/"
        },
        "id": "Gb7NB8S7ZSBy",
        "outputId": "127d2cda-9eb3-4192-d25b-54f82b6d21ee"
      },
      "execution_count": null,
      "outputs": [
        {
          "output_type": "execute_result",
          "data": {
            "text/plain": [
              "<tf.Tensor: shape=(4, 1), dtype=float64, numpy=\n",
              "array([[0.5       ],\n",
              "       [0.62245933],\n",
              "       [0.62245933],\n",
              "       [0.81757448]])>"
            ]
          },
          "metadata": {},
          "execution_count": 6
        }
      ]
    },
    {
      "cell_type": "code",
      "source": [
        "def sigmoid(Z):\n",
        "  e=1/(1+np.exp(-(Z)))\n",
        "  return e"
      ],
      "metadata": {
        "id": "f6pOFwb-EPAV"
      },
      "execution_count": null,
      "outputs": []
    },
    {
      "cell_type": "code",
      "source": [
        "e=sigmoid(Z)\n",
        "e"
      ],
      "metadata": {
        "colab": {
          "base_uri": "https://localhost:8080/"
        },
        "id": "GJV_Vt__FZ11",
        "outputId": "d5a135d9-985a-4c3d-847f-e0f6bf84dd4a"
      },
      "execution_count": null,
      "outputs": [
        {
          "output_type": "execute_result",
          "data": {
            "text/plain": [
              "array([[0.5       ],\n",
              "       [0.62245933],\n",
              "       [0.62245933],\n",
              "       [0.81757448]])"
            ]
          },
          "metadata": {},
          "execution_count": 8
        }
      ]
    },
    {
      "cell_type": "code",
      "source": [
        "p=np.array(model)\n",
        "p"
      ],
      "metadata": {
        "colab": {
          "base_uri": "https://localhost:8080/"
        },
        "id": "R4iSa-Tte89S",
        "outputId": "717b2452-e6e9-46c1-d670-e114632dc0fc"
      },
      "execution_count": null,
      "outputs": [
        {
          "output_type": "execute_result",
          "data": {
            "text/plain": [
              "array([[0.5       ],\n",
              "       [0.62245933],\n",
              "       [0.62245933],\n",
              "       [0.81757448]])"
            ]
          },
          "metadata": {},
          "execution_count": 9
        }
      ]
    },
    {
      "cell_type": "code",
      "source": [
        "def threshold(p):\n",
        "  total=[]\n",
        "  for i in p:\n",
        "    if i >= 0.5:\n",
        "      q=1\n",
        "      total.append(q)\n",
        "    else :\n",
        "      q=0\n",
        "      total.append(q)\n",
        "  s= np.array(total)\n",
        "  return s"
      ],
      "metadata": {
        "id": "nhOYuQIafScf"
      },
      "execution_count": null,
      "outputs": []
    },
    {
      "cell_type": "code",
      "source": [
        "t=threshold(p)\n",
        "t=t.reshape(t.shape[0],1)\n",
        "t"
      ],
      "metadata": {
        "colab": {
          "base_uri": "https://localhost:8080/"
        },
        "id": "OMWEE081jqoF",
        "outputId": "a50002d2-8349-4039-8cbc-f87e718f0862"
      },
      "execution_count": null,
      "outputs": [
        {
          "output_type": "execute_result",
          "data": {
            "text/plain": [
              "array([[1],\n",
              "       [1],\n",
              "       [1],\n",
              "       [1]])"
            ]
          },
          "metadata": {},
          "execution_count": 11
        }
      ]
    },
    {
      "cell_type": "code",
      "source": [
        "y=np.array([[0],[1],[1],[1]])\n",
        "y"
      ],
      "metadata": {
        "colab": {
          "base_uri": "https://localhost:8080/"
        },
        "id": "Jxtmmu_rlKIG",
        "outputId": "aebd299f-ce48-4ebf-c9f8-a6ad56820d04"
      },
      "execution_count": null,
      "outputs": [
        {
          "output_type": "execute_result",
          "data": {
            "text/plain": [
              "array([[0],\n",
              "       [1],\n",
              "       [1],\n",
              "       [1]])"
            ]
          },
          "metadata": {},
          "execution_count": 12
        }
      ]
    },
    {
      "cell_type": "code",
      "source": [
        "def loss(y,p_cap):\n",
        "  x=-y*np.log(p_cap)-(1-y)*np.log(1-p_cap)\n",
        "  return x"
      ],
      "metadata": {
        "id": "wb4F9IU9v4jl"
      },
      "execution_count": null,
      "outputs": []
    },
    {
      "cell_type": "code",
      "source": [
        "x=loss(y,p)\n",
        "x"
      ],
      "metadata": {
        "colab": {
          "base_uri": "https://localhost:8080/"
        },
        "id": "Yy6hf8E2x3zl",
        "outputId": "ea780fba-2598-4e07-f394-f92633bf30eb"
      },
      "execution_count": null,
      "outputs": [
        {
          "output_type": "execute_result",
          "data": {
            "text/plain": [
              "array([[0.69314718],\n",
              "       [0.47407698],\n",
              "       [0.47407698],\n",
              "       [0.20141328]])"
            ]
          },
          "metadata": {},
          "execution_count": 14
        }
      ]
    },
    {
      "cell_type": "markdown",
      "source": [
        "backward propagation"
      ],
      "metadata": {
        "id": "_gWgGvDimSh7"
      }
    },
    {
      "cell_type": "code",
      "source": [
        "def L_p(y,p_cap):\n",
        "  c=(-y/p_cap)+(1-y)/(1-p_cap)\n",
        "  return c\n"
      ],
      "metadata": {
        "id": "E8g30ecylu3_"
      },
      "execution_count": null,
      "outputs": []
    },
    {
      "cell_type": "code",
      "source": [
        "c=L_p(y,p)\n",
        "c"
      ],
      "metadata": {
        "colab": {
          "base_uri": "https://localhost:8080/"
        },
        "id": "TBB2fMd92pqf",
        "outputId": "7d2b19b0-3a84-468e-8742-5f5d8c52be84"
      },
      "execution_count": null,
      "outputs": [
        {
          "output_type": "execute_result",
          "data": {
            "text/plain": [
              "array([[ 2.        ],\n",
              "       [-1.60653066],\n",
              "       [-1.60653066],\n",
              "       [-1.22313016]])"
            ]
          },
          "metadata": {},
          "execution_count": 16
        }
      ]
    },
    {
      "cell_type": "code",
      "source": [
        "def p_z(p_cap):\n",
        "  d=p_cap*(1-p_cap)\n",
        "  return d\n"
      ],
      "metadata": {
        "id": "k8FfysYS-0hO"
      },
      "execution_count": null,
      "outputs": []
    },
    {
      "cell_type": "code",
      "source": [
        "d=p_z(p)\n",
        "d"
      ],
      "metadata": {
        "colab": {
          "base_uri": "https://localhost:8080/"
        },
        "id": "ELLYS3I51H83",
        "outputId": "aeb38aee-922d-4ce7-8a64-6cf5c7bae415"
      },
      "execution_count": null,
      "outputs": [
        {
          "output_type": "execute_result",
          "data": {
            "text/plain": [
              "array([[0.25      ],\n",
              "       [0.23500371],\n",
              "       [0.23500371],\n",
              "       [0.14914645]])"
            ]
          },
          "metadata": {},
          "execution_count": 18
        }
      ]
    },
    {
      "cell_type": "code",
      "source": [
        "L_z=c*d\n",
        "L_z"
      ],
      "metadata": {
        "colab": {
          "base_uri": "https://localhost:8080/"
        },
        "id": "nMkVO3c-2rvJ",
        "outputId": "ddcbc0ce-17f4-46f4-b2f0-0a7acbabc333"
      },
      "execution_count": null,
      "outputs": [
        {
          "output_type": "execute_result",
          "data": {
            "text/plain": [
              "array([[ 0.5       ],\n",
              "       [-0.37754067],\n",
              "       [-0.37754067],\n",
              "       [-0.18242552]])"
            ]
          },
          "metadata": {},
          "execution_count": 19
        }
      ]
    },
    {
      "cell_type": "code",
      "source": [
        "error=L_z*X"
      ],
      "metadata": {
        "id": "nSgKhXZZNXss"
      },
      "execution_count": null,
      "outputs": []
    },
    {
      "cell_type": "code",
      "source": [
        "alpha=1\n",
        "W1=W-alpha*error"
      ],
      "metadata": {
        "id": "dV0le4zDb9aa"
      },
      "execution_count": null,
      "outputs": []
    },
    {
      "cell_type": "code",
      "source": [
        "W1"
      ],
      "metadata": {
        "colab": {
          "base_uri": "https://localhost:8080/"
        },
        "id": "Z6L6dbozcSQw",
        "outputId": "9acc0280-69c1-417b-eba0-1961f59e9052"
      },
      "execution_count": null,
      "outputs": [
        {
          "output_type": "execute_result",
          "data": {
            "text/plain": [
              "array([[-0.5       ,  0.        ,  0.        ],\n",
              "       [-0.12245933,  0.        ,  1.37754067],\n",
              "       [-0.12245933,  1.37754067,  0.        ],\n",
              "       [-0.31757448,  1.18242552,  1.18242552]])"
            ]
          },
          "metadata": {},
          "execution_count": 22
        }
      ]
    },
    {
      "cell_type": "code",
      "source": [
        "Z=np.sum(X*W1,axis=1)\n",
        "Z"
      ],
      "metadata": {
        "colab": {
          "base_uri": "https://localhost:8080/"
        },
        "id": "8OA2BTllcxW3",
        "outputId": "4d2a6796-a1f3-4522-d8da-26312953e90a"
      },
      "execution_count": null,
      "outputs": [
        {
          "output_type": "execute_result",
          "data": {
            "text/plain": [
              "array([-0.5       ,  1.25508134,  1.25508134,  2.04727657])"
            ]
          },
          "metadata": {},
          "execution_count": 23
        }
      ]
    },
    {
      "cell_type": "code",
      "source": [
        "Z=Z.reshape(Z.shape[0],1)\n",
        "Z"
      ],
      "metadata": {
        "colab": {
          "base_uri": "https://localhost:8080/"
        },
        "id": "WKMgLj4AdJxL",
        "outputId": "9a736297-1192-40bc-cb55-12bcfbf9b3ef"
      },
      "execution_count": null,
      "outputs": [
        {
          "output_type": "execute_result",
          "data": {
            "text/plain": [
              "array([[-0.5       ],\n",
              "       [ 1.25508134],\n",
              "       [ 1.25508134],\n",
              "       [ 2.04727657]])"
            ]
          },
          "metadata": {},
          "execution_count": 24
        }
      ]
    },
    {
      "cell_type": "code",
      "source": [
        "model1=keras.activations.sigmoid(Z)\n",
        "p1=np.array(model1)\n",
        "p1"
      ],
      "metadata": {
        "colab": {
          "base_uri": "https://localhost:8080/"
        },
        "id": "AfWTMvGddTmE",
        "outputId": "bb2b336f-9a7b-4a34-e81c-85bb4f124c58"
      },
      "execution_count": null,
      "outputs": [
        {
          "output_type": "execute_result",
          "data": {
            "text/plain": [
              "array([[0.37754067],\n",
              "       [0.77817823],\n",
              "       [0.77817823],\n",
              "       [0.88567214]])"
            ]
          },
          "metadata": {},
          "execution_count": 25
        }
      ]
    },
    {
      "cell_type": "code",
      "source": [
        "t=threshold(p1)\n",
        "t=t.reshape(t.shape[0],1)\n",
        "t"
      ],
      "metadata": {
        "colab": {
          "base_uri": "https://localhost:8080/"
        },
        "id": "0_ul2EEBd6F9",
        "outputId": "4a198dfd-e816-4cca-fad5-f4537acf359c"
      },
      "execution_count": null,
      "outputs": [
        {
          "output_type": "execute_result",
          "data": {
            "text/plain": [
              "array([[0],\n",
              "       [1],\n",
              "       [1],\n",
              "       [1]])"
            ]
          },
          "metadata": {},
          "execution_count": 26
        }
      ]
    },
    {
      "cell_type": "code",
      "source": [
        "class programming_assignment_4_Module1:\n",
        "  X=np.array([[1,0,0],[1,0,1],[1,1,0],[1,1,1]])\n",
        "  W=np.array([[0,0,0],[-0.5,0,1],[-0.5,1,0],[-0.5,1,1]])\n",
        "  y=np.array([[0],[1],[1],[1]])\n",
        "  print('Y_train=',y)\n",
        "  def threshold(p):\n",
        "    total=[]\n",
        "    for i in p:\n",
        "      if i >= 0.5:\n",
        "        q=1\n",
        "        total.append(q)\n",
        "      else :\n",
        "        q=0\n",
        "        total.append(q)\n",
        "    s= np.array(total)\n",
        "    return s\n",
        "  def loss(y,p_cap):\n",
        "    x=-y*np.log(p_cap)-(1-y)*np.log(1-p_cap)\n",
        "    return x\n",
        "  def p_z(p_cap):\n",
        "    d=p_cap*(1-p_cap)\n",
        "    return d\n",
        "  def Forward_Propagation(self,X,W,y):\n",
        "    Z=np.sum(X*W,axis=1)\n",
        "    Z=Z.reshape(Z.shape[0],1)\n",
        "    model = keras.activations.sigmoid(Z)\n",
        "    global p\n",
        "    p=np.array(model)\n",
        "    t=threshold(p)\n",
        "    t=t.reshape(t.shape[0],1)\n",
        "    print('Y_predicted =',t)\n",
        "    x=loss(y,p)\n",
        "    print('errors in each y_predicted =',x)\n",
        "  def Back_Propagation(self,y,X,W,p):\n",
        "    c=L_p(y,p)\n",
        "    d=p_z(p)\n",
        "    error=L_z*X\n",
        "    alpha=1\n",
        "    W=W-alpha*error\n",
        "    print('weights for x train=',W)\n",
        "    Z=np.sum(X*W,axis=1)\n",
        "    Z=Z.reshape(Z.shape[0],1)\n",
        "    model1=keras.activations.sigmoid(Z)\n",
        "    p1=np.array(model1)\n",
        "    t=threshold(p1)\n",
        "    t=t.reshape(t.shape[0],1)\n",
        "    print('correctly predicted y')"
      ],
      "metadata": {
        "colab": {
          "base_uri": "https://localhost:8080/"
        },
        "id": "Kxo9qeKhAqWe",
        "outputId": "f1e837a2-3c38-453f-98ec-c3443ba22484"
      },
      "execution_count": null,
      "outputs": [
        {
          "output_type": "stream",
          "name": "stdout",
          "text": [
            "Y_train= [[0]\n",
            " [1]\n",
            " [1]\n",
            " [1]]\n"
          ]
        }
      ]
    },
    {
      "cell_type": "code",
      "source": [
        "c=programming_assignment_4_Module1()"
      ],
      "metadata": {
        "id": "2jecthRALV8x"
      },
      "execution_count": null,
      "outputs": []
    },
    {
      "cell_type": "code",
      "source": [
        "c.Forward_Propagation(X,W,y)"
      ],
      "metadata": {
        "colab": {
          "base_uri": "https://localhost:8080/"
        },
        "id": "wqUNIBsyLaHz",
        "outputId": "a1e28f1c-6672-4843-cc67-7aa71cd457e4"
      },
      "execution_count": null,
      "outputs": [
        {
          "output_type": "stream",
          "name": "stdout",
          "text": [
            "Y_predicted = [[1]\n",
            " [1]\n",
            " [1]\n",
            " [1]]\n",
            "errors in each y_predicted = [[0.69314718]\n",
            " [0.47407698]\n",
            " [0.47407698]\n",
            " [0.20141328]]\n"
          ]
        }
      ]
    },
    {
      "cell_type": "code",
      "source": [
        "c.Back_Propagation(y,X,W,p)"
      ],
      "metadata": {
        "colab": {
          "base_uri": "https://localhost:8080/"
        },
        "id": "RGsJf3_RQBzD",
        "outputId": "d1609498-83ef-49da-d277-6841fd9f6eb5"
      },
      "execution_count": null,
      "outputs": [
        {
          "output_type": "stream",
          "name": "stdout",
          "text": [
            "weights for x train= [[-0.5         0.          0.        ]\n",
            " [-0.12245933  0.          1.37754067]\n",
            " [-0.12245933  1.37754067  0.        ]\n",
            " [-0.31757448  1.18242552  1.18242552]]\n",
            "correctly predicted y\n"
          ]
        }
      ]
    }
  ]
}