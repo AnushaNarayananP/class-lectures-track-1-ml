{
 "cells": [
  {
   "cell_type": "markdown",
   "id": "f476afc0",
   "metadata": {},
   "source": [
    "importing libraries"
   ]
  },
  {
   "cell_type": "code",
   "execution_count": 27,
   "id": "0314a368",
   "metadata": {},
   "outputs": [],
   "source": [
    "import pandas as pd\n",
    "import numpy as np\n",
    "import matplotlib.pyplot as plt\n",
    "from sklearn.linear_model import LinearRegression"
   ]
  },
  {
   "cell_type": "code",
   "execution_count": 28,
   "id": "76632cbf",
   "metadata": {},
   "outputs": [],
   "source": [
    "df=pd.read_csv('C:\\\\Users\\\\LENOVO\\\\House_prediction1.csv')"
   ]
  },
  {
   "cell_type": "code",
   "execution_count": 29,
   "id": "a969effb",
   "metadata": {},
   "outputs": [
    {
     "data": {
      "text/html": [
       "<div>\n",
       "<style scoped>\n",
       "    .dataframe tbody tr th:only-of-type {\n",
       "        vertical-align: middle;\n",
       "    }\n",
       "\n",
       "    .dataframe tbody tr th {\n",
       "        vertical-align: top;\n",
       "    }\n",
       "\n",
       "    .dataframe thead th {\n",
       "        text-align: right;\n",
       "    }\n",
       "</style>\n",
       "<table border=\"1\" class=\"dataframe\">\n",
       "  <thead>\n",
       "    <tr style=\"text-align: right;\">\n",
       "      <th></th>\n",
       "      <th>town</th>\n",
       "      <th>area</th>\n",
       "      <th>price</th>\n",
       "    </tr>\n",
       "  </thead>\n",
       "  <tbody>\n",
       "    <tr>\n",
       "      <th>0</th>\n",
       "      <td>Mumbai</td>\n",
       "      <td>2000</td>\n",
       "      <td>5500000</td>\n",
       "    </tr>\n",
       "    <tr>\n",
       "      <th>1</th>\n",
       "      <td>Mumbai</td>\n",
       "      <td>2100</td>\n",
       "      <td>5530000</td>\n",
       "    </tr>\n",
       "    <tr>\n",
       "      <th>2</th>\n",
       "      <td>Mumbai</td>\n",
       "      <td>2200</td>\n",
       "      <td>5560000</td>\n",
       "    </tr>\n",
       "    <tr>\n",
       "      <th>3</th>\n",
       "      <td>Mumbai</td>\n",
       "      <td>2300</td>\n",
       "      <td>5590000</td>\n",
       "    </tr>\n",
       "    <tr>\n",
       "      <th>4</th>\n",
       "      <td>Mumbai</td>\n",
       "      <td>2400</td>\n",
       "      <td>5620000</td>\n",
       "    </tr>\n",
       "  </tbody>\n",
       "</table>\n",
       "</div>"
      ],
      "text/plain": [
       "     town  area    price\n",
       "0  Mumbai  2000  5500000\n",
       "1  Mumbai  2100  5530000\n",
       "2  Mumbai  2200  5560000\n",
       "3  Mumbai  2300  5590000\n",
       "4  Mumbai  2400  5620000"
      ]
     },
     "execution_count": 29,
     "metadata": {},
     "output_type": "execute_result"
    }
   ],
   "source": [
    "df.head()"
   ]
  },
  {
   "cell_type": "code",
   "execution_count": 30,
   "id": "d4631d57",
   "metadata": {},
   "outputs": [
    {
     "data": {
      "text/plain": [
       "(40, 3)"
      ]
     },
     "execution_count": 30,
     "metadata": {},
     "output_type": "execute_result"
    }
   ],
   "source": [
    "df.shape"
   ]
  },
  {
   "cell_type": "code",
   "execution_count": 31,
   "id": "2019e965",
   "metadata": {},
   "outputs": [
    {
     "name": "stdout",
     "output_type": "stream",
     "text": [
      "<class 'pandas.core.frame.DataFrame'>\n",
      "RangeIndex: 40 entries, 0 to 39\n",
      "Data columns (total 3 columns):\n",
      " #   Column  Non-Null Count  Dtype \n",
      "---  ------  --------------  ----- \n",
      " 0   town    39 non-null     object\n",
      " 1   area    40 non-null     int64 \n",
      " 2   price   40 non-null     int64 \n",
      "dtypes: int64(2), object(1)\n",
      "memory usage: 1.1+ KB\n"
     ]
    }
   ],
   "source": [
    "df.info()"
   ]
  },
  {
   "cell_type": "code",
   "execution_count": 32,
   "id": "c385983c",
   "metadata": {},
   "outputs": [
    {
     "data": {
      "text/plain": [
       "town     1\n",
       "area     0\n",
       "price    0\n",
       "dtype: int64"
      ]
     },
     "execution_count": 32,
     "metadata": {},
     "output_type": "execute_result"
    }
   ],
   "source": [
    "df.isnull().sum()"
   ]
  },
  {
   "cell_type": "code",
   "execution_count": 33,
   "id": "969104c2",
   "metadata": {},
   "outputs": [
    {
     "data": {
      "image/png": "[encoded data removed]",
      "text/plain": [
       "<Figure size 432x288 with 1 Axes>"
      ]
     },
     "metadata": {
      "needs_background": "light"
     },
     "output_type": "display_data"
    }
   ],
   "source": [
    "plt.scatter(df.area,df.price)\n",
    "plt.show()"
   ]
  },
  {
   "cell_type": "code",
   "execution_count": 34,
   "id": "27394ed0",
   "metadata": {},
   "outputs": [],
   "source": [
    "from sklearn.model_selection import train_test_split"
   ]
  },
  {
   "cell_type": "code",
   "execution_count": 35,
   "id": "4d84f0ee",
   "metadata": {},
   "outputs": [],
   "source": [
    "X = df[['area']]\n",
    "y = df[['price']]"
   ]
  },
  {
   "cell_type": "code",
   "execution_count": 36,
   "id": "91529969",
   "metadata": {},
   "outputs": [],
   "source": [
    "X_train,X_test,y_train,y_test = train_test_split(X,y,test_size = 0.2)"
   ]
  },
  {
   "cell_type": "code",
   "execution_count": 37,
   "id": "907c66e0",
   "metadata": {},
   "outputs": [
    {
     "data": {
      "text/plain": [
       "(32, 1)"
      ]
     },
     "execution_count": 37,
     "metadata": {},
     "output_type": "execute_result"
    }
   ],
   "source": [
    "X_train.shape"
   ]
  },
  {
   "cell_type": "code",
   "execution_count": 38,
   "id": "863c30a7",
   "metadata": {},
   "outputs": [
    {
     "data": {
      "text/plain": [
       "(8, 1)"
      ]
     },
     "execution_count": 38,
     "metadata": {},
     "output_type": "execute_result"
    }
   ],
   "source": [
    "X_test.shape"
   ]
  },
  {
   "cell_type": "code",
   "execution_count": 39,
   "id": "510503fe",
   "metadata": {},
   "outputs": [
    {
     "data": {
      "text/plain": [
       "(32, 1)"
      ]
     },
     "execution_count": 39,
     "metadata": {},
     "output_type": "execute_result"
    }
   ],
   "source": [
    "y_train.shape"
   ]
  },
  {
   "cell_type": "code",
   "execution_count": 40,
   "id": "2fcd15ac",
   "metadata": {},
   "outputs": [
    {
     "data": {
      "text/plain": [
       "(8, 1)"
      ]
     },
     "execution_count": 40,
     "metadata": {},
     "output_type": "execute_result"
    }
   ],
   "source": [
    "y_test.shape"
   ]
  },
  {
   "cell_type": "code",
   "execution_count": 41,
   "id": "3c8ba87f",
   "metadata": {},
   "outputs": [],
   "source": [
    "X_train, X_test, y_train, y_test = train_test_split(X, y, test_size=0.2, random_state=42)"
   ]
  },
  {
   "cell_type": "code",
   "execution_count": 42,
   "id": "bed10010",
   "metadata": {},
   "outputs": [
    {
     "data": {
      "text/plain": [
       "LinearRegression()"
      ]
     },
     "execution_count": 42,
     "metadata": {},
     "output_type": "execute_result"
    }
   ],
   "source": [
    "model = LinearRegression()\n",
    "model.fit(X_train ,y_train)"
   ]
  },
  {
   "cell_type": "code",
   "execution_count": 43,
   "id": "9b719ced",
   "metadata": {},
   "outputs": [
    {
     "data": {
      "text/plain": [
       "1.0"
      ]
     },
     "execution_count": 43,
     "metadata": {},
     "output_type": "execute_result"
    }
   ],
   "source": [
    "model.score(X_test,y_test)"
   ]
  },
  {
   "cell_type": "code",
   "execution_count": 44,
   "id": "3326bd5b",
   "metadata": {},
   "outputs": [],
   "source": [
    "y_pred = model.predict(X_test)"
   ]
  },
  {
   "cell_type": "code",
   "execution_count": 45,
   "id": "239a1c53",
   "metadata": {},
   "outputs": [
    {
     "data": {
      "text/plain": [
       "array([[6070000.],\n",
       "       [5980000.],\n",
       "       [5950000.],\n",
       "       [6280000.],\n",
       "       [5620000.],\n",
       "       [5860000.],\n",
       "       [6610000.],\n",
       "       [6310000.]])"
      ]
     },
     "execution_count": 45,
     "metadata": {},
     "output_type": "execute_result"
    }
   ],
   "source": [
    "y_pred"
   ]
  },
  {
   "cell_type": "code",
   "execution_count": 46,
   "id": "d003aaa0",
   "metadata": {},
   "outputs": [
    {
     "data": {
      "text/html": [
       "<div>\n",
       "<style scoped>\n",
       "    .dataframe tbody tr th:only-of-type {\n",
       "        vertical-align: middle;\n",
       "    }\n",
       "\n",
       "    .dataframe tbody tr th {\n",
       "        vertical-align: top;\n",
       "    }\n",
       "\n",
       "    .dataframe thead th {\n",
       "        text-align: right;\n",
       "    }\n",
       "</style>\n",
       "<table border=\"1\" class=\"dataframe\">\n",
       "  <thead>\n",
       "    <tr style=\"text-align: right;\">\n",
       "      <th></th>\n",
       "      <th>price</th>\n",
       "    </tr>\n",
       "  </thead>\n",
       "  <tbody>\n",
       "    <tr>\n",
       "      <th>19</th>\n",
       "      <td>6070000</td>\n",
       "    </tr>\n",
       "    <tr>\n",
       "      <th>16</th>\n",
       "      <td>5980000</td>\n",
       "    </tr>\n",
       "    <tr>\n",
       "      <th>15</th>\n",
       "      <td>5950000</td>\n",
       "    </tr>\n",
       "    <tr>\n",
       "      <th>26</th>\n",
       "      <td>6280000</td>\n",
       "    </tr>\n",
       "    <tr>\n",
       "      <th>4</th>\n",
       "      <td>5620000</td>\n",
       "    </tr>\n",
       "    <tr>\n",
       "      <th>12</th>\n",
       "      <td>5860000</td>\n",
       "    </tr>\n",
       "    <tr>\n",
       "      <th>37</th>\n",
       "      <td>6610000</td>\n",
       "    </tr>\n",
       "    <tr>\n",
       "      <th>27</th>\n",
       "      <td>6310000</td>\n",
       "    </tr>\n",
       "  </tbody>\n",
       "</table>\n",
       "</div>"
      ],
      "text/plain": [
       "      price\n",
       "19  6070000\n",
       "16  5980000\n",
       "15  5950000\n",
       "26  6280000\n",
       "4   5620000\n",
       "12  5860000\n",
       "37  6610000\n",
       "27  6310000"
      ]
     },
     "execution_count": 46,
     "metadata": {},
     "output_type": "execute_result"
    }
   ],
   "source": [
    "y_test"
   ]
  },
  {
   "cell_type": "markdown",
   "id": "8c49fde1",
   "metadata": {},
   "source": [
    "Feature Scaling Method"
   ]
  },
  {
   "cell_type": "code",
   "execution_count": 51,
   "id": "a184759c",
   "metadata": {},
   "outputs": [],
   "source": [
    "df=pd.read_csv('C:\\\\Users\\\\LENOVO\\\\cars2(1).csv')"
   ]
  },
  {
   "cell_type": "code",
   "execution_count": 52,
   "id": "093bb337",
   "metadata": {},
   "outputs": [
    {
     "data": {
      "text/plain": [
       "(36, 5)"
      ]
     },
     "execution_count": 52,
     "metadata": {},
     "output_type": "execute_result"
    }
   ],
   "source": [
    "df.shape"
   ]
  },
  {
   "cell_type": "code",
   "execution_count": 53,
   "id": "5ba35d1b",
   "metadata": {},
   "outputs": [
    {
     "data": {
      "text/html": [
       "<div>\n",
       "<style scoped>\n",
       "    .dataframe tbody tr th:only-of-type {\n",
       "        vertical-align: middle;\n",
       "    }\n",
       "\n",
       "    .dataframe tbody tr th {\n",
       "        vertical-align: top;\n",
       "    }\n",
       "\n",
       "    .dataframe thead th {\n",
       "        text-align: right;\n",
       "    }\n",
       "</style>\n",
       "<table border=\"1\" class=\"dataframe\">\n",
       "  <thead>\n",
       "    <tr style=\"text-align: right;\">\n",
       "      <th></th>\n",
       "      <th>Car</th>\n",
       "      <th>Model</th>\n",
       "      <th>Volume</th>\n",
       "      <th>Weight</th>\n",
       "      <th>CO2</th>\n",
       "    </tr>\n",
       "  </thead>\n",
       "  <tbody>\n",
       "    <tr>\n",
       "      <th>0</th>\n",
       "      <td>Toyoty</td>\n",
       "      <td>Aygo</td>\n",
       "      <td>1.0</td>\n",
       "      <td>790</td>\n",
       "      <td>99</td>\n",
       "    </tr>\n",
       "    <tr>\n",
       "      <th>1</th>\n",
       "      <td>Mitsubishi</td>\n",
       "      <td>Space Star</td>\n",
       "      <td>1.2</td>\n",
       "      <td>1160</td>\n",
       "      <td>95</td>\n",
       "    </tr>\n",
       "    <tr>\n",
       "      <th>2</th>\n",
       "      <td>Skoda</td>\n",
       "      <td>Citigo</td>\n",
       "      <td>1.0</td>\n",
       "      <td>929</td>\n",
       "      <td>95</td>\n",
       "    </tr>\n",
       "    <tr>\n",
       "      <th>3</th>\n",
       "      <td>Fiat</td>\n",
       "      <td>500</td>\n",
       "      <td>0.9</td>\n",
       "      <td>865</td>\n",
       "      <td>90</td>\n",
       "    </tr>\n",
       "    <tr>\n",
       "      <th>4</th>\n",
       "      <td>Mini</td>\n",
       "      <td>Cooper</td>\n",
       "      <td>1.5</td>\n",
       "      <td>1140</td>\n",
       "      <td>105</td>\n",
       "    </tr>\n",
       "  </tbody>\n",
       "</table>\n",
       "</div>"
      ],
      "text/plain": [
       "          Car       Model  Volume  Weight  CO2\n",
       "0      Toyoty        Aygo     1.0     790   99\n",
       "1  Mitsubishi  Space Star     1.2    1160   95\n",
       "2       Skoda      Citigo     1.0     929   95\n",
       "3        Fiat         500     0.9     865   90\n",
       "4        Mini      Cooper     1.5    1140  105"
      ]
     },
     "execution_count": 53,
     "metadata": {},
     "output_type": "execute_result"
    }
   ],
   "source": [
    "df.head()"
   ]
  },
  {
   "cell_type": "code",
   "execution_count": 54,
   "id": "c2b90dda",
   "metadata": {},
   "outputs": [
    {
     "name": "stdout",
     "output_type": "stream",
     "text": [
      "<class 'pandas.core.frame.DataFrame'>\n",
      "RangeIndex: 36 entries, 0 to 35\n",
      "Data columns (total 5 columns):\n",
      " #   Column  Non-Null Count  Dtype  \n",
      "---  ------  --------------  -----  \n",
      " 0   Car     36 non-null     object \n",
      " 1   Model   36 non-null     object \n",
      " 2   Volume  36 non-null     float64\n",
      " 3   Weight  36 non-null     int64  \n",
      " 4   CO2     36 non-null     int64  \n",
      "dtypes: float64(1), int64(2), object(2)\n",
      "memory usage: 1.5+ KB\n"
     ]
    }
   ],
   "source": [
    "df.info()"
   ]
  },
  {
   "cell_type": "markdown",
   "id": "387c8efe",
   "metadata": {},
   "source": [
    "standardization "
   ]
  },
  {
   "cell_type": "code",
   "execution_count": 57,
   "id": "ddb0db7b",
   "metadata": {},
   "outputs": [
    {
     "data": {
      "text/plain": [
       "1292.2777777777778"
      ]
     },
     "execution_count": 57,
     "metadata": {},
     "output_type": "execute_result"
    }
   ],
   "source": [
    "mean_w =df[\"Weight\"].mean()\n",
    "mean_w"
   ]
  },
  {
   "cell_type": "code",
   "execution_count": 58,
   "id": "d5f34a8e",
   "metadata": {},
   "outputs": [
    {
     "data": {
      "text/plain": [
       "242.12388931655997"
      ]
     },
     "execution_count": 58,
     "metadata": {},
     "output_type": "execute_result"
    }
   ],
   "source": [
    "std_w = df['Weight'].std()\n",
    "std_w"
   ]
  },
  {
   "cell_type": "code",
   "execution_count": 59,
   "id": "0062bf54",
   "metadata": {},
   "outputs": [
    {
     "data": {
      "text/plain": [
       "-2.074466006619797"
      ]
     },
     "execution_count": 59,
     "metadata": {},
     "output_type": "execute_result"
    }
   ],
   "source": [
    "X_new_w = (790 - mean_w)/std_w\n",
    "X_new_w"
   ]
  },
  {
   "cell_type": "code",
   "execution_count": 60,
   "id": "9abbd25f",
   "metadata": {},
   "outputs": [
    {
     "data": {
      "text/plain": [
       "1.6111111111111116"
      ]
     },
     "execution_count": 60,
     "metadata": {},
     "output_type": "execute_result"
    }
   ],
   "source": [
    "mean_v =df[\"Volume\"].mean()\n",
    "mean_v"
   ]
  },
  {
   "cell_type": "code",
   "execution_count": 61,
   "id": "2a3bc674",
   "metadata": {},
   "outputs": [
    {
     "data": {
      "text/plain": [
       "0.38897504714517006"
      ]
     },
     "execution_count": 61,
     "metadata": {},
     "output_type": "execute_result"
    }
   ],
   "source": [
    "std_v = df['Volume'].std()\n",
    "std_v"
   ]
  },
  {
   "cell_type": "code",
   "execution_count": 62,
   "id": "b8825f54",
   "metadata": {},
   "outputs": [
    {
     "data": {
      "text/plain": [
       "-1.056908699229954"
      ]
     },
     "execution_count": 62,
     "metadata": {},
     "output_type": "execute_result"
    }
   ],
   "source": [
    "X_new_v = (1.2 - mean_v)/std_v\n",
    "X_new_v"
   ]
  },
  {
   "cell_type": "code",
   "execution_count": 63,
   "id": "3b249f2e",
   "metadata": {},
   "outputs": [],
   "source": [
    "from sklearn.preprocessing import StandardScaler"
   ]
  },
  {
   "cell_type": "code",
   "execution_count": 64,
   "id": "cac9d95b",
   "metadata": {},
   "outputs": [],
   "source": [
    "scaler = StandardScaler()"
   ]
  },
  {
   "cell_type": "code",
   "execution_count": 65,
   "id": "fc513308",
   "metadata": {},
   "outputs": [],
   "source": [
    "X = df[['Volume','Weight']]\n",
    "y = df[['CO2']]"
   ]
  },
  {
   "cell_type": "code",
   "execution_count": 68,
   "id": "4276d590",
   "metadata": {},
   "outputs": [
    {
     "data": {
      "text/plain": [
       "array([[-1.59336644, -2.10389253],\n",
       "       [-1.07190106, -0.55407235],\n",
       "       [-1.59336644, -1.52166278],\n",
       "       [-1.85409913, -1.78973979],\n",
       "       [-0.28970299, -0.63784641],\n",
       "       [-1.59336644, -1.52166278],\n",
       "       [-0.55043568, -0.76769621],\n",
       "       [-0.28970299,  0.3046118 ],\n",
       "       [-0.28970299, -0.7551301 ],\n",
       "       [-0.0289703 , -0.59595938],\n",
       "       [-1.33263375, -1.30803892],\n",
       "       [-0.81116837, -1.26615189],\n",
       "       [-1.59336644, -0.7551301 ],\n",
       "       [-0.0289703 , -0.16871166],\n",
       "       [-0.0289703 ,  0.14125238],\n",
       "       [-0.0289703 ,  0.15800719],\n",
       "       [-0.0289703 ,  0.3046118 ],\n",
       "       [ 1.53542584, -0.05142797],\n",
       "       [-0.0289703 , -0.72580918],\n",
       "       [ 1.01396046,  0.14962979],\n",
       "       [-0.0289703 ,  1.2219378 ],\n",
       "       [ 1.01396046,  0.5685001 ],\n",
       "       [ 1.27469315,  0.3046118 ],\n",
       "       [-0.0289703 ,  0.51404696],\n",
       "       [ 1.01396046,  0.51404696],\n",
       "       [-0.28970299,  0.72348212],\n",
       "       [ 1.01396046,  0.8281997 ],\n",
       "       [ 1.01396046,  1.81254495],\n",
       "       [-0.0289703 ,  0.96642691],\n",
       "       [ 1.01396046,  1.72877089],\n",
       "       [ 1.27469315,  1.30990057],\n",
       "       [ 1.01396046,  1.90050772],\n",
       "       [-0.0289703 , -0.23991961],\n",
       "       [-0.0289703 ,  0.40932938],\n",
       "       [-0.0289703 ,  0.47215993],\n",
       "       [ 2.31762392,  0.4302729 ]])"
      ]
     },
     "execution_count": 68,
     "metadata": {},
     "output_type": "execute_result"
    }
   ],
   "source": [
    "X_scaled =scaler.fit_transform(X)\n",
    "X_scaled "
   ]
  },
  {
   "cell_type": "code",
   "execution_count": 69,
   "id": "851210ef",
   "metadata": {},
   "outputs": [
    {
     "data": {
      "text/plain": [
       "LinearRegression()"
      ]
     },
     "execution_count": 69,
     "metadata": {},
     "output_type": "execute_result"
    }
   ],
   "source": [
    "model.fit(X_scaled,y)"
   ]
  },
  {
   "cell_type": "code",
   "execution_count": 70,
   "id": "5ec0b3c5",
   "metadata": {},
   "outputs": [
    {
     "data": {
      "text/plain": [
       "0.37655640436199866"
      ]
     },
     "execution_count": 70,
     "metadata": {},
     "output_type": "execute_result"
    }
   ],
   "source": [
    "model.score(X_scaled,y)"
   ]
  },
  {
   "cell_type": "code",
   "execution_count": 71,
   "id": "3203a064",
   "metadata": {},
   "outputs": [
    {
     "data": {
      "text/plain": [
       "array([[ 93.46522516],\n",
       "       [ 97.82012716],\n",
       "       [ 94.51480683],\n",
       "       [ 93.25102045],\n",
       "       [100.01068547],\n",
       "       [ 94.51480683],\n",
       "       [ 98.99608035],\n",
       "       [101.70964861],\n",
       "       [ 99.79925895],\n",
       "       [100.8667207 ],\n",
       "       [ 95.6804309 ],\n",
       "       [ 97.31699187],\n",
       "       [ 95.89663018],\n",
       "       [101.63691732],\n",
       "       [102.19568742],\n",
       "       [102.22589121],\n",
       "       [102.49017436],\n",
       "       [106.53149836],\n",
       "       [100.63264133],\n",
       "       [105.33289232],\n",
       "       [104.14383181],\n",
       "       [106.08798705],\n",
       "       [106.39280312],\n",
       "       [102.86772172],\n",
       "       [105.98982473],\n",
       "       [102.46474333],\n",
       "       [106.55614578],\n",
       "       [108.33061839],\n",
       "       [103.68322403],\n",
       "       [108.17959944],\n",
       "       [108.20503047],\n",
       "       [108.48918828],\n",
       "       [101.50855121],\n",
       "       [102.67894804],\n",
       "       [102.79221225],\n",
       "       [109.74143455]])"
      ]
     },
     "execution_count": 71,
     "metadata": {},
     "output_type": "execute_result"
    }
   ],
   "source": [
    "model.predict(X_scaled)"
   ]
  },
  {
   "cell_type": "code",
   "execution_count": 72,
   "id": "f58fa234",
   "metadata": {},
   "outputs": [],
   "source": [
    "from sklearn.preprocessing import MinMaxScaler"
   ]
  },
  {
   "cell_type": "code",
   "execution_count": 78,
   "id": "7233e9e3",
   "metadata": {},
   "outputs": [],
   "source": [
    "min_scaler = MinMaxScaler()"
   ]
  },
  {
   "cell_type": "code",
   "execution_count": 74,
   "id": "950fef5d",
   "metadata": {},
   "outputs": [
    {
     "data": {
      "text/plain": [
       "1.0"
      ]
     },
     "execution_count": 74,
     "metadata": {},
     "output_type": "execute_result"
    }
   ],
   "source": [
    "sample = df['Volume'][0]\n",
    "sample"
   ]
  },
  {
   "cell_type": "code",
   "execution_count": 75,
   "id": "a4a0bd82",
   "metadata": {},
   "outputs": [
    {
     "data": {
      "text/plain": [
       "0.9"
      ]
     },
     "execution_count": 75,
     "metadata": {},
     "output_type": "execute_result"
    }
   ],
   "source": [
    "min_v = df['Volume'].min()\n",
    "min_v"
   ]
  },
  {
   "cell_type": "code",
   "execution_count": 76,
   "id": "b06a8ef3",
   "metadata": {},
   "outputs": [
    {
     "data": {
      "text/plain": [
       "2.5"
      ]
     },
     "execution_count": 76,
     "metadata": {},
     "output_type": "execute_result"
    }
   ],
   "source": [
    "max_v = df['Volume'].max()\n",
    "max_v"
   ]
  },
  {
   "cell_type": "code",
   "execution_count": 77,
   "id": "bdd9aeba",
   "metadata": {},
   "outputs": [
    {
     "data": {
      "text/plain": [
       "0.062499999999999986"
      ]
     },
     "execution_count": 77,
     "metadata": {},
     "output_type": "execute_result"
    }
   ],
   "source": [
    "scaled_sample = (sample - min_v)/(max_v - min_v)\n",
    "scaled_sample"
   ]
  },
  {
   "cell_type": "code",
   "execution_count": 79,
   "id": "f0a694bb",
   "metadata": {},
   "outputs": [
    {
     "data": {
      "text/plain": [
       "array([[0.0625    , 0.        ],\n",
       "       [0.1875    , 0.38702929],\n",
       "       [0.0625    , 0.14539749],\n",
       "       [0.        , 0.07845188],\n",
       "       [0.375     , 0.36610879],\n",
       "       [0.0625    , 0.14539749],\n",
       "       [0.3125    , 0.33368201],\n",
       "       [0.375     , 0.60146444],\n",
       "       [0.375     , 0.33682008],\n",
       "       [0.4375    , 0.37656904],\n",
       "       [0.125     , 0.19874477],\n",
       "       [0.25      , 0.20920502],\n",
       "       [0.0625    , 0.33682008],\n",
       "       [0.4375    , 0.4832636 ],\n",
       "       [0.4375    , 0.56066946],\n",
       "       [0.4375    , 0.56485356],\n",
       "       [0.4375    , 0.60146444],\n",
       "       [0.8125    , 0.5125523 ],\n",
       "       [0.4375    , 0.34414226],\n",
       "       [0.6875    , 0.56276151],\n",
       "       [0.4375    , 0.83054393],\n",
       "       [0.6875    , 0.66736402],\n",
       "       [0.75      , 0.60146444],\n",
       "       [0.4375    , 0.65376569],\n",
       "       [0.6875    , 0.65376569],\n",
       "       [0.375     , 0.70606695],\n",
       "       [0.6875    , 0.73221757],\n",
       "       [0.6875    , 0.97803347],\n",
       "       [0.4375    , 0.7667364 ],\n",
       "       [0.6875    , 0.95711297],\n",
       "       [0.75      , 0.85251046],\n",
       "       [0.6875    , 1.        ],\n",
       "       [0.4375    , 0.46548117],\n",
       "       [0.4375    , 0.62761506],\n",
       "       [0.4375    , 0.64330544],\n",
       "       [1.        , 0.63284519]])"
      ]
     },
     "execution_count": 79,
     "metadata": {},
     "output_type": "execute_result"
    }
   ],
   "source": [
    "scaled_data = min_scaler.fit_transform(X)\n",
    "scaled_data"
   ]
  },
  {
   "cell_type": "code",
   "execution_count": 80,
   "id": "59c61b0c",
   "metadata": {},
   "outputs": [
    {
     "data": {
      "text/plain": [
       "LinearRegression()"
      ]
     },
     "execution_count": 80,
     "metadata": {},
     "output_type": "execute_result"
    }
   ],
   "source": [
    "model.fit(scaled_data,y)"
   ]
  },
  {
   "cell_type": "code",
   "execution_count": 81,
   "id": "ecb35dda",
   "metadata": {},
   "outputs": [
    {
     "data": {
      "text/plain": [
       "0.3765564043619988"
      ]
     },
     "execution_count": 81,
     "metadata": {},
     "output_type": "execute_result"
    }
   ],
   "source": [
    "model.score(scaled_data,y)"
   ]
  },
  {
   "cell_type": "code",
   "execution_count": 83,
   "id": "6f1ce6a4",
   "metadata": {},
   "outputs": [
    {
     "data": {
      "text/plain": [
       "array([[ 93.46522516],\n",
       "       [ 97.82012716],\n",
       "       [ 94.51480683],\n",
       "       [ 93.25102045],\n",
       "       [100.01068547],\n",
       "       [ 94.51480683],\n",
       "       [ 98.99608035],\n",
       "       [101.70964861],\n",
       "       [ 99.79925895],\n",
       "       [100.8667207 ],\n",
       "       [ 95.6804309 ],\n",
       "       [ 97.31699187],\n",
       "       [ 95.89663018],\n",
       "       [101.63691732],\n",
       "       [102.19568742],\n",
       "       [102.22589121],\n",
       "       [102.49017436],\n",
       "       [106.53149836],\n",
       "       [100.63264133],\n",
       "       [105.33289232],\n",
       "       [104.14383181],\n",
       "       [106.08798705],\n",
       "       [106.39280312],\n",
       "       [102.86772172],\n",
       "       [105.98982473],\n",
       "       [102.46474333],\n",
       "       [106.55614578],\n",
       "       [108.33061839],\n",
       "       [103.68322403],\n",
       "       [108.17959944],\n",
       "       [108.20503047],\n",
       "       [108.48918828],\n",
       "       [101.50855121],\n",
       "       [102.67894804],\n",
       "       [102.79221225],\n",
       "       [109.74143455]])"
      ]
     },
     "execution_count": 83,
     "metadata": {},
     "output_type": "execute_result"
    }
   ],
   "source": [
    "model.predict(scaled_data)"
   ]
  },
  {
   "cell_type": "code",
   "execution_count": null,
   "id": "f3df1515",
   "metadata": {},
   "outputs": [],
   "source": []
  }
 ],
 "metadata": {
  "kernelspec": {
   "display_name": "Python 3 (ipykernel)",
   "language": "python",
   "name": "python3"
  },
  "language_info": {
   "codemirror_mode": {
    "name": "ipython",
    "version": 3
   },
   "file_extension": ".py",
   "mimetype": "text/x-python",
   "name": "python",
   "nbconvert_exporter": "python",
   "pygments_lexer": "ipython3",
   "version": "3.9.12"
  }
 },
 "nbformat": 4,
 "nbformat_minor": 5
}
