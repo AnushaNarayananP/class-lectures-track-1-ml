{
 "cells": [
  {
   "cell_type": "code",
   "execution_count": 7,
   "id": "6795b0cd",
   "metadata": {},
   "outputs": [],
   "source": [
    "import requests\n",
    "import json\n",
    "response_API = requests.get('https://ev.caltech.edu/api/v1/sessions/xO3bHNhO-xNaIZmXrKZZ97J-ZfUFsEwug4uquvFzIqQ')"
   ]
  },
  {
   "cell_type": "code",
   "execution_count": 8,
   "id": "d002f2fb",
   "metadata": {},
   "outputs": [],
   "source": [
    "data = response_API.text"
   ]
  },
  {
   "cell_type": "code",
   "execution_count": 9,
   "id": "b9e2f088",
   "metadata": {},
   "outputs": [
    {
     "data": {
      "text/plain": [
       "'{\"_status\": \"ERR\", \"_error\": {\"code\": 404, \"message\": \"The requested URL was not found on the server.  If you entered the URL manually please check your spelling and try again.\"}}'"
      ]
     },
     "execution_count": 9,
     "metadata": {},
     "output_type": "execute_result"
    }
   ],
   "source": [
    "data"
   ]
  },
  {
   "cell_type": "code",
   "execution_count": null,
   "id": "e0ea770e",
   "metadata": {},
   "outputs": [],
   "source": []
  }
 ],
 "metadata": {
  "kernelspec": {
   "display_name": "Python 3 (ipykernel)",
   "language": "python",
   "name": "python3"
  },
  "language_info": {
   "codemirror_mode": {
    "name": "ipython",
    "version": 3
   },
   "file_extension": ".py",
   "mimetype": "text/x-python",
   "name": "python",
   "nbconvert_exporter": "python",
   "pygments_lexer": "ipython3",
   "version": "3.9.12"
  }
 },
 "nbformat": 4,
 "nbformat_minor": 5
}
