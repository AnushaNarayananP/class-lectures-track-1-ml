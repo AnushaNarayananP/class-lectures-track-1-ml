{
 "cells": [
  {
   "cell_type": "raw",
   "id": "900fb64a",
   "metadata": {},
   "source": [
    "imports"
   ]
  },
  {
   "cell_type": "code",
   "execution_count": 1,
   "id": "b2107e1b",
   "metadata": {},
   "outputs": [],
   "source": [
    "import speech_recognition as sr\n",
    "from gtts import gTTS\n",
    "import playsound"
   ]
  },
  {
   "cell_type": "code",
   "execution_count": 2,
   "id": "7afd1cd1",
   "metadata": {},
   "outputs": [],
   "source": [
    "import os"
   ]
  },
  {
   "cell_type": "code",
   "execution_count": 3,
   "id": "dd280e7d",
   "metadata": {},
   "outputs": [],
   "source": [
    "from datetime import date,time,datetime"
   ]
  },
  {
   "cell_type": "code",
   "execution_count": 4,
   "id": "61b9488f",
   "metadata": {},
   "outputs": [],
   "source": [
    "import requests"
   ]
  },
  {
   "cell_type": "code",
   "execution_count": 5,
   "id": "845c9054",
   "metadata": {},
   "outputs": [],
   "source": [
    "import yfinance as yf"
   ]
  },
  {
   "cell_type": "code",
   "execution_count": 6,
   "id": "608150e0",
   "metadata": {},
   "outputs": [],
   "source": [
    "import wolframalpha"
   ]
  },
  {
   "cell_type": "code",
   "execution_count": 26,
   "id": "22205237",
   "metadata": {},
   "outputs": [],
   "source": [
    "import translators as ts"
   ]
  },
  {
   "cell_type": "raw",
   "id": "5f5fd6ba",
   "metadata": {},
   "source": [
    "1. Voice Assistant Coding Section"
   ]
  },
  {
   "cell_type": "code",
   "execution_count": 13,
   "id": "bc7b3d00",
   "metadata": {},
   "outputs": [],
   "source": [
    "crypto_api='https://api.geckoterminal.com/api/v2/networks/eth/dexes?page=1'"
   ]
  },
  {
   "cell_type": "code",
   "execution_count": 14,
   "id": "e00b4f4c",
   "metadata": {},
   "outputs": [],
   "source": [
    "wolfram_api='UV7X63-L25EJ6R2WV'"
   ]
  },
  {
   "cell_type": "code",
   "execution_count": 39,
   "id": "39bf32a9",
   "metadata": {},
   "outputs": [],
   "source": [
    "chuck_norris_api ='https://api.chucknorris.io/jokes/random'"
   ]
  },
  {
   "cell_type": "code",
   "execution_count": 15,
   "id": "eeea1777",
   "metadata": {},
   "outputs": [],
   "source": [
    "def wolfram_alpha_country_capital(text):\n",
    "    client = wolframalpha.Client(wolfram_api)\n",
    "    result = client.query(text)\n",
    "    answer=next(result.results).text\n",
    "    answer_split=answer.split()\n",
    "    capital_result = 'The capital of ' + answer_split[-1] + ' is '+ answer_split[0]\n",
    "    anusha_talk(capital_result)"
   ]
  },
  {
   "cell_type": "code",
   "execution_count": 16,
   "id": "06591be1",
   "metadata": {},
   "outputs": [],
   "source": [
    "def wolfram_alpha_calculator(text):\n",
    "    client = wolframalpha.Client(wolfram_api)\n",
    "    result = client.query(text)\n",
    "    answer=next(result.results).text\n",
    "    print(answer)\n",
    "    anusha_talk('The answer is '+ answer)"
   ]
  },
  {
   "cell_type": "code",
   "execution_count": 17,
   "id": "28802cd6",
   "metadata": {},
   "outputs": [],
   "source": [
    "def wolfram_alpha_president(text):\n",
    "    \n",
    "    client = wolframalpha.Client(wolfram_api)\n",
    "    result = client.query(text)\n",
    "    answer=next(result.results).text\n",
    "    anusha_talk('The President is ' + answer)"
   ]
  },
  {
   "cell_type": "code",
   "execution_count": 34,
   "id": "55a29ee0",
   "metadata": {},
   "outputs": [],
   "source": [
    "def translator(text):\n",
    "    alina_talk_de(ts.translate_text(text, translator='google',from_language ='en',to_language='de'))"
   ]
  },
  {
   "cell_type": "code",
   "execution_count": 40,
   "id": "da91152c",
   "metadata": {},
   "outputs": [],
   "source": [
    "def chuck_norris():\n",
    "    cn_data=requests.get(chuck_norris_api)\n",
    "    cn_json=cn_data.json()\n",
    "    joke=cn_json['value']\n",
    "    print(joke)\n",
    "    anusha_talk(joke)"
   ]
  },
  {
   "cell_type": "markdown",
   "id": "8cc3815c",
   "metadata": {},
   "source": [
    "convert speech to text as we can use text for the next step"
   ]
  },
  {
   "cell_type": "code",
   "execution_count": 18,
   "id": "cad2b335",
   "metadata": {},
   "outputs": [],
   "source": [
    "def anusha_listen():\n",
    "    r= sr.Recognizer()\n",
    "    with sr.Microphone() as source:\n",
    "        audio= r.listen(source)\n",
    "        text =''\n",
    "        try:\n",
    "            text= r.recognize_google(audio)\n",
    "        except sr.RequestError as re:\n",
    "            print(re)\n",
    "        except sr.UnknownValueError as uve:\n",
    "            print(uve)\n",
    "        except sr.WaitTimeoutError as wte:\n",
    "            print(wte)\n",
    "    text= text.lower()\n",
    "    return text\n",
    "\n",
    "    "
   ]
  },
  {
   "cell_type": "markdown",
   "id": "6a91e701",
   "metadata": {},
   "source": [
    "convert text to speech"
   ]
  },
  {
   "cell_type": "code",
   "execution_count": null,
   "id": "706e6e31",
   "metadata": {},
   "outputs": [],
   "source": []
  },
  {
   "cell_type": "code",
   "execution_count": 19,
   "id": "506f4d66",
   "metadata": {},
   "outputs": [],
   "source": [
    "\n",
    "def anusha_talk(text):\n",
    "    now = datetime.now()\n",
    "    today_date = date.today()\n",
    "    today_time = now.strftime(\"%H_%M_%S\")\n",
    "    file_name ='file_'+str(today_date)+'_'+str(today_time)+'.mp3'\n",
    "    tts=gTTS(text=text,lang='en')\n",
    "    tts.save(file_name)\n",
    "    playsound.playsound(file_name)\n",
    "    os.remove(file_name)"
   ]
  },
  {
   "cell_type": "raw",
   "id": "43ccf7bb",
   "metadata": {},
   "source": [
    "convert text to speech (german)"
   ]
  },
  {
   "cell_type": "code",
   "execution_count": 33,
   "id": "eee59cc0",
   "metadata": {},
   "outputs": [],
   "source": [
    "def anusha_talk_de(text):\n",
    "    now = datetime.now()\n",
    "    today_date = date.today()\n",
    "    today_time = now.strftime(\"%H_%M_%S\")\n",
    "    file_name ='file_'+str(today_date)+'_'+str(today_time)+'.mp3'\n",
    "    tts=gTTS(text=text,lang='de')\n",
    "    tts.save(file_name)\n",
    "    playsound.playsound(file_name)\n",
    "    os.remove(file_name)"
   ]
  },
  {
   "cell_type": "markdown",
   "id": "c3aeaac3",
   "metadata": {},
   "source": [
    "create a function which will give us reply based on input text"
   ]
  },
  {
   "cell_type": "code",
   "execution_count": 41,
   "id": "08667afc",
   "metadata": {},
   "outputs": [],
   "source": [
    "def anusha_reply(text):\n",
    "    if 'what' in text and 'name' in text :\n",
    "        anusha_talk('My name is Anusha and I am your personal assistant')\n",
    "    elif 'why' in text and 'name' in text:\n",
    "        anusha_talk('I was created to work for you. I dont need a break and I will never ask for days off.')\n",
    "    elif 'when' in text and 'sleep' in text :\n",
    "        anusha_talk('I never sleep .I was created to support you 24 hours')\n",
    "    elif 'you' in text and 'stupid' in text:\n",
    "        anusha_talk('No, I am not stupid . My grandmother told me that there are no stupid person out there'+'I try to give you my best everyday continously.')\n",
    "    elif 'favourite' in text or 'favorite' in text and 'movie' in text:\n",
    "        anusha_talk('My favourite movie is The Life of a Pie . I watch it with my friends all the time')\n",
    "    elif 'ethereum' in text:\n",
    "        response=requests.get(crypto_api)\n",
    "        crypto_json= response.json()\n",
    "        \n",
    "        def crypto(a):\n",
    "            l=[]\n",
    "            for i in range(len(a)):\n",
    "                l.append(a[i ]['id'])\n",
    "            return l\n",
    "        anusha_talk('current dexes of ethereum are ' + str(crypto(crypto_json['data'])))\n",
    "    elif 'apple' in text:\n",
    "        apple=yf.Ticker('AAPL')\n",
    "        anusha_talk('At this moment you can buy an apple share of '+ str(apple.info['dayHigh'])+' US dollars')\n",
    "    elif 'tesla' in text:\n",
    "        tsla=yf.Ticker('TSLA')\n",
    "        anusha_talk('At this moment you can buy an tesla share of '+str(tsla.info['dayHigh'])+' US dollars')\n",
    "    elif 'google' in text:\n",
    "        google=yf.Ticker('GOOG')\n",
    "        anusha_talk('At this moment you can buy an google share of '+str(google.info['dayHigh'])+' US dollars')\n",
    "    elif 'meta' in text:\n",
    "        meta=yf.Ticker('META')\n",
    "        anusha_talk('At this moment you can buy an meta share of '+str(meta.info['dayHigh'])+' US dollars')\n",
    "    elif  'capital' in text and 'of' in text:\n",
    "        wolfram_alpha_country_capital(text)\n",
    "    elif '+' in text or '-' in text or 'multiply' in text or 'multiplied' in text or 'divide' in text or 'root' in text :\n",
    "        wolfram_alpha_calculator(text)\n",
    "    elif 'who' in text and 'president' in text :\n",
    "        wolfram_alpha_president(text)\n",
    "    elif 'translate' in text:\n",
    "        alina_talk('Sure, what do you need me to translate?')\n",
    "        while True:\n",
    "            text_to_translate = alina_listen()\n",
    "            if text_to_translate != 'turn off translator':\n",
    "                translator(text_to_translate)\n",
    "            else:\n",
    "                anusha_talk('The translator will be turned off.What can I do for you?')\n",
    "                break\n",
    "    elif 'chuck norris' in text:\n",
    "        chuck_norris()\n",
    "    elif 'stop' in text:\n",
    "        anusha_talk('It was a pleasure to help you , I wish you a wonderful day')\n",
    "    else :\n",
    "        anusha_talk('Excuse me, I did not get that .Can you please repeat it')"
   ]
  },
  {
   "cell_type": "raw",
   "id": "a4aabbae",
   "metadata": {},
   "source": [
    "2. Voice Assistant Execution Section"
   ]
  },
  {
   "cell_type": "code",
   "execution_count": 21,
   "id": "400b7aeb",
   "metadata": {},
   "outputs": [],
   "source": [
    "def execute_assistant():\n",
    "    anusha_talk('Hi ,I am here to support you .Can you please tell me your name?')\n",
    "    listen_name = anusha_listen()\n",
    "    anusha_talk('Hi '+ listen_name + '.  what can I do for you?')\n",
    "    \n",
    "    while True:\n",
    "        listen_anusha=anusha_listen()\n",
    "        print(listen_anusha)\n",
    "        anusha_reply(listen_anusha)\n",
    "        if 'stop' in listen_anusha:\n",
    "            break"
   ]
  },
  {
   "cell_type": "code",
   "execution_count": 85,
   "id": "5d3ef21d",
   "metadata": {},
   "outputs": [
    {
     "name": "stdout",
     "output_type": "stream",
     "text": [
      "\n",
      "\n",
      "tell me the route of 24\n",
      "tell me the route of 24\n",
      "\n",
      "\n",
      "root of 24\n",
      "2 sqrt(6)\n",
      "\n",
      "\n",
      "stop\n"
     ]
    }
   ],
   "source": [
    "execute_assistant()"
   ]
  },
  {
   "cell_type": "raw",
   "id": "c9c94003",
   "metadata": {},
   "source": [
    "3. Example and Preparation Section"
   ]
  },
  {
   "cell_type": "code",
   "execution_count": 87,
   "id": "069aa04d",
   "metadata": {},
   "outputs": [
    {
     "name": "stdout",
     "output_type": "stream",
     "text": [
      "The President is Vladimir Putin (from 07/05/2012 to present)\n"
     ]
    }
   ],
   "source": [
    "client = wolframalpha.Client(wolfram_api)\n",
    "result = client.query('Who is current president of Russia')\n",
    "answer=next(result.results).text\n",
    "print('The President is ' + answer)"
   ]
  },
  {
   "cell_type": "code",
   "execution_count": 32,
   "id": "de5c53b8",
   "metadata": {},
   "outputs": [
    {
     "data": {
      "text/plain": [
       "'Ich lebe in Hamburg und heute möchte ich etwas essen'"
      ]
     },
     "execution_count": 32,
     "metadata": {},
     "output_type": "execute_result"
    }
   ],
   "source": [
    "ts.translate_text('I live in hamburg and today I want to eat something', translator='google',from_language ='en',to_language='de')"
   ]
  },
  {
   "cell_type": "code",
   "execution_count": 37,
   "id": "9282d080",
   "metadata": {},
   "outputs": [
    {
     "name": "stdout",
     "output_type": "stream",
     "text": [
      "Chuck Norris breaks the hand that feeds him.\n"
     ]
    }
   ],
   "source": [
    "chuck_norris_api ='https://api.chucknorris.io/jokes/random'\n",
    "cn_data=requests.get(chuck_norris_api)\n",
    "cn_json=cn_data.json()\n",
    "print(cn_json['value'])"
   ]
  },
  {
   "cell_type": "code",
   "execution_count": 43,
   "id": "b4815c37",
   "metadata": {},
   "outputs": [
    {
     "name": "stdout",
     "output_type": "stream",
     "text": [
      "{'status': 'ok', 'totalResults': 37, 'articles': [{'source': {'id': None, 'name': 'CNBC'}, 'author': 'Michelle Fox', 'title': 'Stocks making the biggest premarket moves: Walmart, Adobe, Cisco, Hawaiian Electric and more - CNBC', 'description': 'These are the stocks posting the largest moves in the premarket.', 'url': 'https://www.cnbc.com/2023/08/17/stocks-making-the-biggest-premarket-moves-.html', 'urlToImage': 'https://image.cnbcfm.com/api/v1/image/107261744-1687536970151-gettyimages-1258918244-porzycki-vermonte230619_npGBD.jpeg?v=1692275338&w=1920&h=1080', 'publishedAt': '2023-08-17T12:28:58Z', 'content': 'Check out the companies making the biggest moves in premarket trading:\\r\\nWalmart Shares added as much as 1% after the big-box retailer raised its full-year forecast and reported an earnings and revenu… [+2430 chars]'}, {'source': {'id': None, 'name': 'YouTube'}, 'author': None, 'title': 'Blasphemous 2 Review - IGN', 'description': 'Blasphemous 2 reviewed by Travis Northup on PC. Also available on Xbox Series X/S, PlayStation 5, and Nintendo Switch.\"Blasphemous 2 is an excellent Metroidv...', 'url': 'https://www.youtube.com/watch?v=mhkESLb1boo', 'urlToImage': 'https://i.ytimg.com/vi/mhkESLb1boo/maxresdefault.jpg', 'publishedAt': '2023-08-17T12:00:41Z', 'content': None}, {'source': {'id': None, 'name': 'BuzzFeed News'}, 'author': 'Ellen Durney', 'title': 'Britney Shared A Cryptic Instagram Caption After Sam Asghari Filed For Divorce - BuzzFeed News', 'description': 'Reports say that Sam and Britney’s split is what’s “best” for her.', 'url': 'https://www.buzzfeednews.com/article/ellendurney/britney-spears-cryptic-instagram-after-sam-asghari-divorce', 'urlToImage': 'https://img.buzzfeed.com/buzzfeed-static/static/2023-08/17/11/enhanced/a03dcbe4602b/original-2043-1692270330-2.jpg?crop=1244:651;1,8%26downsize=1250:*', 'publishedAt': '2023-08-17T11:39:56Z', 'content': None}, {'source': {'id': 'cnn', 'name': 'CNN'}, 'author': 'Heather Chan, Irene Nasser', 'title': 'At least 10 dead in Malaysia after plane crashes onto expressway - CNN', 'description': 'At least 10 people have died after a charter plane crashed onto an expressway north of Kuala Lumpur on Thursday.', 'url': 'https://www.cnn.com/2023/08/17/asia/malaysia-plane-crash-intl/index.html', 'urlToImage': 'https://media.cnn.com/api/v1/images/stellar/prod/230817121120-03-malaysia-plane-crash-081723.jpg?c=16x9&q=w_800,c_fill', 'publishedAt': '2023-08-17T11:35:00Z', 'content': 'At least 10 people have died after a charter plane crashed onto an expressway north of Kuala Lumpur on Thursday.\\r\\nThe plane, carrying six passengers and two flight crew, departed from Langkawi Intern… [+1073 chars]'}, {'source': {'id': 'cnn', 'name': 'CNN'}, 'author': 'Nathaniel Meyersohn', 'title': 'Walmart’s sales are surging - CNN', 'description': 'Target and Home Depot are slumping. But more shoppers are heading to Walmart for groceries and essentials.', 'url': 'https://www.cnn.com/2023/08/17/investing/walmart-q2-earnings/index.html', 'urlToImage': 'https://media.cnn.com/api/v1/images/stellar/prod/230817070634-walmart-store-061923-restricted.jpg?c=16x9&q=w_800,c_fill', 'publishedAt': '2023-08-17T11:14:00Z', 'content': 'Target and Home Depot are slumping. But more shoppers are heading to Walmart for groceries and essentials.\\r\\nWalmart\\r\\n(WMT)s sales at stores open for at least a year grew 6.4% last quarter from a year… [+292 chars]'}, {'source': {'id': 'al-jazeera-english', 'name': 'Al Jazeera English'}, 'author': 'Al Jazeera', 'title': 'Indian moon lander module splits from propulsion section in key step - Al Jazeera English', 'description': 'The lander module of the Chandrayaan-3 has successfully separated ahead of a planned moon landing slated for August 23.', 'url': 'https://www.aljazeera.com/news/2023/8/17/indian-lunar-lander-splits-from-propulsion-module-in-key-step', 'urlToImage': 'https://www.aljazeera.com/wp-content/uploads/2023/08/33P27LA-highres-1692267654.jpg?resize=1920%2C1440', 'publishedAt': '2023-08-17T11:07:40Z', 'content': 'Indias latest space mission has completed a key step in the countrys second attempt at a lunar landing, with its moon module separating from its propulsion section.\\r\\nThe Indian Space Research Organis… [+2482 chars]'}, {'source': {'id': 'abc-news', 'name': 'ABC News'}, 'author': 'ANNE M. PETERSON AP Sports Writer', 'title': 'US women’s national team coach Vlatko Andonovski resigns after early World Cup exit, AP source says - ABC News', 'description': 'U.S. women’s national team coach Vlatko Andonovski has resigned, a person familiar with the decision tells The Associated Press', 'url': 'https://abcnews.go.com/US/wireStory/us-womens-national-team-coach-vlatko-andonovski-resigns-102329340', 'urlToImage': 'https://s.abcnews.com/images/US/wirestory_f7bee4f5a7e489d54f9c853e01fe8ba6_16x9_992.jpg', 'publishedAt': '2023-08-17T10:41:15Z', 'content': \"U.S. women's national team coach Vlatko Andonovski has resigned, a person familiar with the decision told The Associated Press on Wednesday.\\r\\nThe move comes less than two weeks after the Americans we… [+3574 chars]\"}, {'source': {'id': 'cnn', 'name': 'CNN'}, 'author': 'Sarah Dean, Issy Ronald', 'title': 'Michael Parkinson, UK chat show host and presenter, dies age 88 - CNN', 'description': 'Veteran British broadcaster Michael Parkinson has died at the age of 88, his former employer the BBC reported Thursday, citing a statement from his family.', 'url': 'https://www.cnn.com/2023/08/17/entertainment/michael-parkinson-death-intl-scli/index.html', 'urlToImage': 'https://media.cnn.com/api/v1/images/stellar/prod/230817103448-michael-parkinson-1987.jpg?c=16x9&q=w_800,c_fill', 'publishedAt': '2023-08-17T10:28:00Z', 'content': 'Veteran British broadcaster Michael Parkinson has died at the age of 88, his former employer the BBC reported Thursday, citing a statement from his family.\\r\\nAfter a brief illness Sir Michael Parkinso… [+1191 chars]'}, {'source': {'id': 'engadget', 'name': 'Engadget'}, 'author': None, 'title': \"Lenovo's leaked Legion Go is part Steam Deck, part Nintendo Switch - Engadget\", 'description': 'Lenovo may soon release a gaming handheld to rival Windows models like the Steam Deck and ASUS ROG Ally, while offering removable controls like a Switch..', 'url': 'https://www.engadget.com/lenovos-leaked-legion-go-is-part-steam-deck-part-nintendo-switch-102508065.html', 'urlToImage': 'https://s.yimg.com/uu/api/res/1.2/g494cQeRuKewXFHHev_rEw--~B/Zmk9ZmlsbDtoPTYzMDtweW9mZj0wO3c9MTIwMDthcHBpZD15dGFjaHlvbg--/https://media-mbst-pub-ue1.s3.amazonaws.com/creatr-uploaded-images/2023-08/74c52790-3ce1-11ee-beef-9f82786a5725.cf.jpg', 'publishedAt': '2023-08-17T10:25:36Z', 'content': 'Lenovo may soon release a gaming handheld to rival Windows models like the Steam Deck and ASUS ROG Ally, while offering removable controls like a Switch, according to a leak from Windows Report. Call… [+972 chars]'}, {'source': {'id': 'cbs-news', 'name': 'CBS News'}, 'author': 'Graham Kates', 'title': 'Rudy Giuliani\\'s former colleagues reflect on his path from law-and-order champion to RICO defendant: \"A tragedy\" - CBS News', 'description': '\"In the 1980s, if you said that Rudy Giuliani had been indicted on RICO charges, someone would\\'ve thought it was a bad \\'Saturday Night Live\\' skit,\" said a colleague from his days as a prosecutor.', 'url': 'https://www.cbsnews.com/news/rudy-giuliani-trump-co-defendant-georgia-rico-case/', 'urlToImage': 'https://assets2.cbsnewsstatic.com/hub/i/r/2023/08/16/b1024247-5dc9-493e-8721-a53484637314/thumbnail/1200x630g2/9bddd0b324b3febbbe0f1427d686b84a/gettyimages-1231760656.jpg?v=46e0dad4db516ed39a3a8f6257e75e73', 'publishedAt': '2023-08-17T10:00:00Z', 'content': 'Waving his glasses in front of his face while recording his YouTube show on Tuesday, Rudy Giuliani taunted the prosecutor who had just charged him with racketeering.\\r\\n\"You\\'re screwed, Fani. Giuliani … [+7473 chars]'}, {'source': {'id': None, 'name': 'Pittsburgh Post-Gazette'}, 'author': None, 'title': \"U.S. Steel takeover would threaten Pittsburgh's identity, historians say - Pittsburgh Post-Gazette\", 'description': 'False', 'url': 'https://www.post-gazette.com/business/powersource/2023/08/17/us-steel-pittsburgh-cleveland-cliffs-esmark/stories/202308160095', 'urlToImage': 'https://9b16f79ca967fd0708d1-2713572fef44aa49ec323e813b06d2d9.ssl.cf2.rackcdn.com/1140x_a10-7_cTC/20210924arSteelBuilding01-1692268223.jpg', 'publishedAt': '2023-08-17T09:30:00Z', 'content': 'MENU'}, {'source': {'id': 'reuters', 'name': 'Reuters'}, 'author': 'Ankur Banerjee, Alun John', 'title': 'U.S. 10-year yield at highest since October, drags on shares - Reuters', 'description': \"The U.S. 10-year treasury yield on Thursday reached its highest in 10 months, underpinned by fears that U.S. interest rates might stay higher for longer, contributing, along with China's economic woes, to world stocks languishing at five-week lows.\", 'url': 'https://www.reuters.com/markets/global-markets-wrapup-1-2023-08-17/', 'urlToImage': 'https://www.reuters.com/resizer/BzSz7Tj-waNdHdyHzHr6LuJgdDU=/1200x628/smart/filters:quality(80)/cloudfront-us-east-2.images.arcpublishing.com/reuters/HLM3ZF2YAZM6ZB4NLS5POR7QUE.jpg', 'publishedAt': '2023-08-17T09:09:00Z', 'content': 'SINGAPORE/LONDON, Aug 17 (Reuters) - The U.S. 10-year treasury yield on Thursday reached its highest in 10 months, underpinned by fears that U.S. interest rates might stay higher for longer, contribu… [+4176 chars]'}, {'source': {'id': 'cnn', 'name': 'CNN'}, 'author': 'Devan Cole', 'title': 'Trump may try to move the Fulton County criminal case to federal court. Here’s why - CNN', 'description': 'Just hours after former White House chief of staff Mark Meadows was dealt state charges accusing him, along with 18 other defendants including Donald Trump, of taking part in a broad criminal conspiracy to overturn Georgia’s 2020 election results, he mounted …', 'url': 'https://www.cnn.com/2023/08/17/politics/georgia-election-criminal-case-removal-federal-court-explainer/index.html', 'urlToImage': 'https://media.cnn.com/api/v1/images/stellar/prod/230816164804-mark-meadows-donald-trump-split.jpg?c=16x9&q=w_800,c_fill', 'publishedAt': '2023-08-17T09:04:00Z', 'content': 'Just hours after former White House chief of staff Mark Meadows was dealt state charges accusing him, along with 18 other defendants including Donald Trump, of taking part in a broad criminal conspir… [+6570 chars]'}, {'source': {'id': 'reuters', 'name': 'Reuters'}, 'author': 'Tim Cocks', 'title': 'BRICS nations to meet in South Africa seeking to blunt Western dominance - Reuters', 'description': \"BRICS leaders meet in South Africa next week to discuss how to turn a loose club of nations accounting for a quarter of the global economy into a geopolitical force that can challenge the West's dominance in world affairs.\", 'url': 'https://www.reuters.com/world/africa/brics-nations-meet-south-africa-seeking-blunt-western-dominance-2023-08-17/', 'urlToImage': 'https://www.reuters.com/resizer/HaXzRQnI60Igz4Os5qlqIFtO9aM=/1200x628/smart/filters:quality(80)/cloudfront-us-east-2.images.arcpublishing.com/reuters/LSH2ZGQGUVJ7NOLUVTQLIM2Z7Y.jpg', 'publishedAt': '2023-08-17T08:55:43Z', 'content': 'JOHANNESBURG, Aug 17 (Reuters) - BRICS leaders meet in South Africa next week to discuss how to turn a loose club of nations accounting for a quarter of the global economy into a geopolitical force t… [+3712 chars]'}, {'source': {'id': 'cnn', 'name': 'CNN'}, 'author': 'Mitchell McCluskey, Aya Elamroussi', 'title': 'Hundreds of wildfires raging in Canada’s Northwest Territories prompt evacuations in what officials are calling a ‘crisis situation’ - CNN', 'description': 'Hundreds of wildfires raging in parts of Canada’s Northwest Territories have prompted officials to issue evacuation orders and declare a state of emergency as the blazes threaten the capital city of Yellowknife.', 'url': 'https://www.cnn.com/2023/08/16/americas/canada-northwest-territories-wildfires-thursday/index.html', 'urlToImage': 'https://media.cnn.com/api/v1/images/stellar/prod/230816214344-01-northwest-territories-wildfire-081523.jpg?c=16x9&q=w_800,c_fill', 'publishedAt': '2023-08-17T07:48:00Z', 'content': 'Hundreds of wildfires raging in parts of Canadas Northwest Territories have prompted officials to issue evacuation orders and declare a state of emergency as the blazes threaten the capital city of Y… [+4729 chars]'}, {'source': {'id': 'reuters', 'name': 'Reuters'}, 'author': 'Trevor Hunnicutt, Hyonhee Shin, Sakura Murakami', 'title': 'Biden hopes to tighten South Korean, Japanese bond at Camp David - Reuters', 'description': \"When Yoon Suk Yeol this week commemorated his country's 1945 independence from Japan, the South Korean president didn't dwell on the brutal 35-year occupation his people endured under their neighbor.\", 'url': 'https://www.reuters.com/world/biden-hopes-tighten-s-korean-japanese-bond-camp-david-2023-08-17/', 'urlToImage': 'https://www.reuters.com/resizer/wbK86y2emZxEERaD38dLe5sVgLA=/1200x628/smart/filters:quality(80)/cloudfront-us-east-2.images.arcpublishing.com/reuters/DVBASHB5RNJSDGK34UFB7LISFQ.jpg', 'publishedAt': '2023-08-17T07:35:36Z', 'content': \"WASHINGTON/SEOUL/TOKYO, Aug 17 (Reuters) - When Yoon Suk Yeol this week commemorated his country's 1945 independence from Japan, the South Korean president didn't dwell on the brutal 35-year occupati… [+5197 chars]\"}, {'source': {'id': 'cnn', 'name': 'CNN'}, 'author': 'Deidre McPhillips', 'title': 'Two research teams detail advancements in transplanting pig kidneys to humans, marking key steps on path to clinical trials - CNN', 'description': 'New advancements in transplanting pig kidneys to humans, detailed by two separate research teams on Wednesday, mark key steps forward in the evolving field of\\xa0xenotransplantation, the use of non-human tissues or organs to treat medical conditions in humans.', 'url': 'https://www.cnn.com/2023/08/16/health/pig-human-kidney-transplant-scn/index.html', 'urlToImage': 'https://media.cnn.com/api/v1/images/stellar/prod/230816111652-01-pig-kidney-transplant.jpg?c=16x9&q=w_800,c_fill', 'publishedAt': '2023-08-17T05:49:00Z', 'content': 'New advancements in transplanting pig kidneys to humans, detailed by two separate research teams on Wednesday, mark key steps forward in the evolving field of\\xa0xenotransplantation, the use of non-huma… [+4320 chars]'}, {'source': {'id': 'cnn', 'name': 'CNN'}, 'author': 'Kaitlan Collins, Paula Reid', 'title': 'Rudy Giuliani made desperate appeal to Trump to pay his legal bills in Mar-a-Lago meeting - CNN', 'description': 'With his attorney in tow, Rudy Giuliani traveled to Mar-a-Lago in recent months on a mission to make a personal and desperate appeal to former President Donald Trump to pay his legal bills. By going in person, a source familiar with the matter told CNN, Giuli…', 'url': 'https://www.cnn.com/2023/08/16/politics/giuliani-trump-legal-bills/index.html', 'urlToImage': 'https://media.cnn.com/api/v1/images/stellar/prod/230814234556-rudy-giuliani-051923.jpg?c=16x9&q=w_800,c_fill', 'publishedAt': '2023-08-17T04:49:00Z', 'content': 'With his attorney in tow, Rudy Giuliani traveled to Mar-a-Lago in recent months on a mission to make a personal and desperate appeal to former President Donald Trump to pay his legal bills. By going … [+3834 chars]'}, {'source': {'id': None, 'name': 'Florida Today'}, 'author': 'Jamie Groh', 'title': 'SpaceX launch sends more Starlink satellites to orbit late Wednesday - Florida Today', 'description': 'Late Wednesday, a SpaceX Falcon 9 sent more Starlink internet satellites to orbit after an 11:36 p.m. EDT lift off from Cape Canaveral.', 'url': 'https://www.floridatoday.com/story/tech/science/space/2023/08/17/spacex-launch-sends-more-starlink-satellites-to-orbit-late-wednesday/70588910007/', 'urlToImage': 'https://www.floridatoday.com/gcdn/presto/2023/08/17/PBRE/cf47827b-3c20-4f53-b499-edb1c7127993-SpaceX_Starlink_6-10.jpg?crop=5309,2987,x0,y467&width=3200&height=1801&format=pjpg&auto=webp', 'publishedAt': '2023-08-17T04:19:35Z', 'content': 'Late Wednesday, a SpaceX Falcon 9 carried more Starlink internet satellites to orbit after lifting off from Cape Canaveral Space Force Station at 11:36 p.m. EDT.\\r\\nThe 230-foot rocket vaulted away fro… [+2146 chars]'}, {'source': {'id': None, 'name': 'profootballrumors.com'}, 'author': None, 'title': 'Colts RB Jonathan Taylor Leaves Camp Due To Personal Matter - profootballrumors.com', 'description': 'Once again, Colts running back Jonathan Taylor is away from the team this preseason. After spending about a week away &hellip;', 'url': 'https://www.profootballrumors.com/2023/08/colts-rb-jonathan-taylor-leaves-camp-due-to-personal-matter', 'urlToImage': 'https://cdn.profootballrumors.com/files/2023/08/USATSI_19429040-1024x768.jpg', 'publishedAt': '2023-08-17T04:17:00Z', 'content': 'Once again, Colts running back Jonathan Taylor is away from the team this preseason. After spending about a week away from the team rehabilitating a nagging ankle injury amidst contract struggles, Ta… [+1692 chars]'}]}\n",
      "[{'source': {'id': None, 'name': 'CNBC'}, 'author': 'Michelle Fox', 'title': 'Stocks making the biggest premarket moves: Walmart, Adobe, Cisco, Hawaiian Electric and more - CNBC', 'description': 'These are the stocks posting the largest moves in the premarket.', 'url': 'https://www.cnbc.com/2023/08/17/stocks-making-the-biggest-premarket-moves-.html', 'urlToImage': 'https://image.cnbcfm.com/api/v1/image/107261744-1687536970151-gettyimages-1258918244-porzycki-vermonte230619_npGBD.jpeg?v=1692275338&w=1920&h=1080', 'publishedAt': '2023-08-17T12:28:58Z', 'content': 'Check out the companies making the biggest moves in premarket trading:\\r\\nWalmart Shares added as much as 1% after the big-box retailer raised its full-year forecast and reported an earnings and revenu… [+2430 chars]'}, {'source': {'id': None, 'name': 'YouTube'}, 'author': None, 'title': 'Blasphemous 2 Review - IGN', 'description': 'Blasphemous 2 reviewed by Travis Northup on PC. Also available on Xbox Series X/S, PlayStation 5, and Nintendo Switch.\"Blasphemous 2 is an excellent Metroidv...', 'url': 'https://www.youtube.com/watch?v=mhkESLb1boo', 'urlToImage': 'https://i.ytimg.com/vi/mhkESLb1boo/maxresdefault.jpg', 'publishedAt': '2023-08-17T12:00:41Z', 'content': None}, {'source': {'id': None, 'name': 'BuzzFeed News'}, 'author': 'Ellen Durney', 'title': 'Britney Shared A Cryptic Instagram Caption After Sam Asghari Filed For Divorce - BuzzFeed News', 'description': 'Reports say that Sam and Britney’s split is what’s “best” for her.', 'url': 'https://www.buzzfeednews.com/article/ellendurney/britney-spears-cryptic-instagram-after-sam-asghari-divorce', 'urlToImage': 'https://img.buzzfeed.com/buzzfeed-static/static/2023-08/17/11/enhanced/a03dcbe4602b/original-2043-1692270330-2.jpg?crop=1244:651;1,8%26downsize=1250:*', 'publishedAt': '2023-08-17T11:39:56Z', 'content': None}, {'source': {'id': 'cnn', 'name': 'CNN'}, 'author': 'Heather Chan, Irene Nasser', 'title': 'At least 10 dead in Malaysia after plane crashes onto expressway - CNN', 'description': 'At least 10 people have died after a charter plane crashed onto an expressway north of Kuala Lumpur on Thursday.', 'url': 'https://www.cnn.com/2023/08/17/asia/malaysia-plane-crash-intl/index.html', 'urlToImage': 'https://media.cnn.com/api/v1/images/stellar/prod/230817121120-03-malaysia-plane-crash-081723.jpg?c=16x9&q=w_800,c_fill', 'publishedAt': '2023-08-17T11:35:00Z', 'content': 'At least 10 people have died after a charter plane crashed onto an expressway north of Kuala Lumpur on Thursday.\\r\\nThe plane, carrying six passengers and two flight crew, departed from Langkawi Intern… [+1073 chars]'}, {'source': {'id': 'cnn', 'name': 'CNN'}, 'author': 'Nathaniel Meyersohn', 'title': 'Walmart’s sales are surging - CNN', 'description': 'Target and Home Depot are slumping. But more shoppers are heading to Walmart for groceries and essentials.', 'url': 'https://www.cnn.com/2023/08/17/investing/walmart-q2-earnings/index.html', 'urlToImage': 'https://media.cnn.com/api/v1/images/stellar/prod/230817070634-walmart-store-061923-restricted.jpg?c=16x9&q=w_800,c_fill', 'publishedAt': '2023-08-17T11:14:00Z', 'content': 'Target and Home Depot are slumping. But more shoppers are heading to Walmart for groceries and essentials.\\r\\nWalmart\\r\\n(WMT)s sales at stores open for at least a year grew 6.4% last quarter from a year… [+292 chars]'}, {'source': {'id': 'al-jazeera-english', 'name': 'Al Jazeera English'}, 'author': 'Al Jazeera', 'title': 'Indian moon lander module splits from propulsion section in key step - Al Jazeera English', 'description': 'The lander module of the Chandrayaan-3 has successfully separated ahead of a planned moon landing slated for August 23.', 'url': 'https://www.aljazeera.com/news/2023/8/17/indian-lunar-lander-splits-from-propulsion-module-in-key-step', 'urlToImage': 'https://www.aljazeera.com/wp-content/uploads/2023/08/33P27LA-highres-1692267654.jpg?resize=1920%2C1440', 'publishedAt': '2023-08-17T11:07:40Z', 'content': 'Indias latest space mission has completed a key step in the countrys second attempt at a lunar landing, with its moon module separating from its propulsion section.\\r\\nThe Indian Space Research Organis… [+2482 chars]'}, {'source': {'id': 'abc-news', 'name': 'ABC News'}, 'author': 'ANNE M. PETERSON AP Sports Writer', 'title': 'US women’s national team coach Vlatko Andonovski resigns after early World Cup exit, AP source says - ABC News', 'description': 'U.S. women’s national team coach Vlatko Andonovski has resigned, a person familiar with the decision tells The Associated Press', 'url': 'https://abcnews.go.com/US/wireStory/us-womens-national-team-coach-vlatko-andonovski-resigns-102329340', 'urlToImage': 'https://s.abcnews.com/images/US/wirestory_f7bee4f5a7e489d54f9c853e01fe8ba6_16x9_992.jpg', 'publishedAt': '2023-08-17T10:41:15Z', 'content': \"U.S. women's national team coach Vlatko Andonovski has resigned, a person familiar with the decision told The Associated Press on Wednesday.\\r\\nThe move comes less than two weeks after the Americans we… [+3574 chars]\"}, {'source': {'id': 'cnn', 'name': 'CNN'}, 'author': 'Sarah Dean, Issy Ronald', 'title': 'Michael Parkinson, UK chat show host and presenter, dies age 88 - CNN', 'description': 'Veteran British broadcaster Michael Parkinson has died at the age of 88, his former employer the BBC reported Thursday, citing a statement from his family.', 'url': 'https://www.cnn.com/2023/08/17/entertainment/michael-parkinson-death-intl-scli/index.html', 'urlToImage': 'https://media.cnn.com/api/v1/images/stellar/prod/230817103448-michael-parkinson-1987.jpg?c=16x9&q=w_800,c_fill', 'publishedAt': '2023-08-17T10:28:00Z', 'content': 'Veteran British broadcaster Michael Parkinson has died at the age of 88, his former employer the BBC reported Thursday, citing a statement from his family.\\r\\nAfter a brief illness Sir Michael Parkinso… [+1191 chars]'}, {'source': {'id': 'engadget', 'name': 'Engadget'}, 'author': None, 'title': \"Lenovo's leaked Legion Go is part Steam Deck, part Nintendo Switch - Engadget\", 'description': 'Lenovo may soon release a gaming handheld to rival Windows models like the Steam Deck and ASUS ROG Ally, while offering removable controls like a Switch..', 'url': 'https://www.engadget.com/lenovos-leaked-legion-go-is-part-steam-deck-part-nintendo-switch-102508065.html', 'urlToImage': 'https://s.yimg.com/uu/api/res/1.2/g494cQeRuKewXFHHev_rEw--~B/Zmk9ZmlsbDtoPTYzMDtweW9mZj0wO3c9MTIwMDthcHBpZD15dGFjaHlvbg--/https://media-mbst-pub-ue1.s3.amazonaws.com/creatr-uploaded-images/2023-08/74c52790-3ce1-11ee-beef-9f82786a5725.cf.jpg', 'publishedAt': '2023-08-17T10:25:36Z', 'content': 'Lenovo may soon release a gaming handheld to rival Windows models like the Steam Deck and ASUS ROG Ally, while offering removable controls like a Switch, according to a leak from Windows Report. Call… [+972 chars]'}, {'source': {'id': 'cbs-news', 'name': 'CBS News'}, 'author': 'Graham Kates', 'title': 'Rudy Giuliani\\'s former colleagues reflect on his path from law-and-order champion to RICO defendant: \"A tragedy\" - CBS News', 'description': '\"In the 1980s, if you said that Rudy Giuliani had been indicted on RICO charges, someone would\\'ve thought it was a bad \\'Saturday Night Live\\' skit,\" said a colleague from his days as a prosecutor.', 'url': 'https://www.cbsnews.com/news/rudy-giuliani-trump-co-defendant-georgia-rico-case/', 'urlToImage': 'https://assets2.cbsnewsstatic.com/hub/i/r/2023/08/16/b1024247-5dc9-493e-8721-a53484637314/thumbnail/1200x630g2/9bddd0b324b3febbbe0f1427d686b84a/gettyimages-1231760656.jpg?v=46e0dad4db516ed39a3a8f6257e75e73', 'publishedAt': '2023-08-17T10:00:00Z', 'content': 'Waving his glasses in front of his face while recording his YouTube show on Tuesday, Rudy Giuliani taunted the prosecutor who had just charged him with racketeering.\\r\\n\"You\\'re screwed, Fani. Giuliani … [+7473 chars]'}, {'source': {'id': None, 'name': 'Pittsburgh Post-Gazette'}, 'author': None, 'title': \"U.S. Steel takeover would threaten Pittsburgh's identity, historians say - Pittsburgh Post-Gazette\", 'description': 'False', 'url': 'https://www.post-gazette.com/business/powersource/2023/08/17/us-steel-pittsburgh-cleveland-cliffs-esmark/stories/202308160095', 'urlToImage': 'https://9b16f79ca967fd0708d1-2713572fef44aa49ec323e813b06d2d9.ssl.cf2.rackcdn.com/1140x_a10-7_cTC/20210924arSteelBuilding01-1692268223.jpg', 'publishedAt': '2023-08-17T09:30:00Z', 'content': 'MENU'}, {'source': {'id': 'reuters', 'name': 'Reuters'}, 'author': 'Ankur Banerjee, Alun John', 'title': 'U.S. 10-year yield at highest since October, drags on shares - Reuters', 'description': \"The U.S. 10-year treasury yield on Thursday reached its highest in 10 months, underpinned by fears that U.S. interest rates might stay higher for longer, contributing, along with China's economic woes, to world stocks languishing at five-week lows.\", 'url': 'https://www.reuters.com/markets/global-markets-wrapup-1-2023-08-17/', 'urlToImage': 'https://www.reuters.com/resizer/BzSz7Tj-waNdHdyHzHr6LuJgdDU=/1200x628/smart/filters:quality(80)/cloudfront-us-east-2.images.arcpublishing.com/reuters/HLM3ZF2YAZM6ZB4NLS5POR7QUE.jpg', 'publishedAt': '2023-08-17T09:09:00Z', 'content': 'SINGAPORE/LONDON, Aug 17 (Reuters) - The U.S. 10-year treasury yield on Thursday reached its highest in 10 months, underpinned by fears that U.S. interest rates might stay higher for longer, contribu… [+4176 chars]'}, {'source': {'id': 'cnn', 'name': 'CNN'}, 'author': 'Devan Cole', 'title': 'Trump may try to move the Fulton County criminal case to federal court. Here’s why - CNN', 'description': 'Just hours after former White House chief of staff Mark Meadows was dealt state charges accusing him, along with 18 other defendants including Donald Trump, of taking part in a broad criminal conspiracy to overturn Georgia’s 2020 election results, he mounted …', 'url': 'https://www.cnn.com/2023/08/17/politics/georgia-election-criminal-case-removal-federal-court-explainer/index.html', 'urlToImage': 'https://media.cnn.com/api/v1/images/stellar/prod/230816164804-mark-meadows-donald-trump-split.jpg?c=16x9&q=w_800,c_fill', 'publishedAt': '2023-08-17T09:04:00Z', 'content': 'Just hours after former White House chief of staff Mark Meadows was dealt state charges accusing him, along with 18 other defendants including Donald Trump, of taking part in a broad criminal conspir… [+6570 chars]'}, {'source': {'id': 'reuters', 'name': 'Reuters'}, 'author': 'Tim Cocks', 'title': 'BRICS nations to meet in South Africa seeking to blunt Western dominance - Reuters', 'description': \"BRICS leaders meet in South Africa next week to discuss how to turn a loose club of nations accounting for a quarter of the global economy into a geopolitical force that can challenge the West's dominance in world affairs.\", 'url': 'https://www.reuters.com/world/africa/brics-nations-meet-south-africa-seeking-blunt-western-dominance-2023-08-17/', 'urlToImage': 'https://www.reuters.com/resizer/HaXzRQnI60Igz4Os5qlqIFtO9aM=/1200x628/smart/filters:quality(80)/cloudfront-us-east-2.images.arcpublishing.com/reuters/LSH2ZGQGUVJ7NOLUVTQLIM2Z7Y.jpg', 'publishedAt': '2023-08-17T08:55:43Z', 'content': 'JOHANNESBURG, Aug 17 (Reuters) - BRICS leaders meet in South Africa next week to discuss how to turn a loose club of nations accounting for a quarter of the global economy into a geopolitical force t… [+3712 chars]'}, {'source': {'id': 'cnn', 'name': 'CNN'}, 'author': 'Mitchell McCluskey, Aya Elamroussi', 'title': 'Hundreds of wildfires raging in Canada’s Northwest Territories prompt evacuations in what officials are calling a ‘crisis situation’ - CNN', 'description': 'Hundreds of wildfires raging in parts of Canada’s Northwest Territories have prompted officials to issue evacuation orders and declare a state of emergency as the blazes threaten the capital city of Yellowknife.', 'url': 'https://www.cnn.com/2023/08/16/americas/canada-northwest-territories-wildfires-thursday/index.html', 'urlToImage': 'https://media.cnn.com/api/v1/images/stellar/prod/230816214344-01-northwest-territories-wildfire-081523.jpg?c=16x9&q=w_800,c_fill', 'publishedAt': '2023-08-17T07:48:00Z', 'content': 'Hundreds of wildfires raging in parts of Canadas Northwest Territories have prompted officials to issue evacuation orders and declare a state of emergency as the blazes threaten the capital city of Y… [+4729 chars]'}, {'source': {'id': 'reuters', 'name': 'Reuters'}, 'author': 'Trevor Hunnicutt, Hyonhee Shin, Sakura Murakami', 'title': 'Biden hopes to tighten South Korean, Japanese bond at Camp David - Reuters', 'description': \"When Yoon Suk Yeol this week commemorated his country's 1945 independence from Japan, the South Korean president didn't dwell on the brutal 35-year occupation his people endured under their neighbor.\", 'url': 'https://www.reuters.com/world/biden-hopes-tighten-s-korean-japanese-bond-camp-david-2023-08-17/', 'urlToImage': 'https://www.reuters.com/resizer/wbK86y2emZxEERaD38dLe5sVgLA=/1200x628/smart/filters:quality(80)/cloudfront-us-east-2.images.arcpublishing.com/reuters/DVBASHB5RNJSDGK34UFB7LISFQ.jpg', 'publishedAt': '2023-08-17T07:35:36Z', 'content': \"WASHINGTON/SEOUL/TOKYO, Aug 17 (Reuters) - When Yoon Suk Yeol this week commemorated his country's 1945 independence from Japan, the South Korean president didn't dwell on the brutal 35-year occupati… [+5197 chars]\"}, {'source': {'id': 'cnn', 'name': 'CNN'}, 'author': 'Deidre McPhillips', 'title': 'Two research teams detail advancements in transplanting pig kidneys to humans, marking key steps on path to clinical trials - CNN', 'description': 'New advancements in transplanting pig kidneys to humans, detailed by two separate research teams on Wednesday, mark key steps forward in the evolving field of\\xa0xenotransplantation, the use of non-human tissues or organs to treat medical conditions in humans.', 'url': 'https://www.cnn.com/2023/08/16/health/pig-human-kidney-transplant-scn/index.html', 'urlToImage': 'https://media.cnn.com/api/v1/images/stellar/prod/230816111652-01-pig-kidney-transplant.jpg?c=16x9&q=w_800,c_fill', 'publishedAt': '2023-08-17T05:49:00Z', 'content': 'New advancements in transplanting pig kidneys to humans, detailed by two separate research teams on Wednesday, mark key steps forward in the evolving field of\\xa0xenotransplantation, the use of non-huma… [+4320 chars]'}, {'source': {'id': 'cnn', 'name': 'CNN'}, 'author': 'Kaitlan Collins, Paula Reid', 'title': 'Rudy Giuliani made desperate appeal to Trump to pay his legal bills in Mar-a-Lago meeting - CNN', 'description': 'With his attorney in tow, Rudy Giuliani traveled to Mar-a-Lago in recent months on a mission to make a personal and desperate appeal to former President Donald Trump to pay his legal bills. By going in person, a source familiar with the matter told CNN, Giuli…', 'url': 'https://www.cnn.com/2023/08/16/politics/giuliani-trump-legal-bills/index.html', 'urlToImage': 'https://media.cnn.com/api/v1/images/stellar/prod/230814234556-rudy-giuliani-051923.jpg?c=16x9&q=w_800,c_fill', 'publishedAt': '2023-08-17T04:49:00Z', 'content': 'With his attorney in tow, Rudy Giuliani traveled to Mar-a-Lago in recent months on a mission to make a personal and desperate appeal to former President Donald Trump to pay his legal bills. By going … [+3834 chars]'}, {'source': {'id': None, 'name': 'Florida Today'}, 'author': 'Jamie Groh', 'title': 'SpaceX launch sends more Starlink satellites to orbit late Wednesday - Florida Today', 'description': 'Late Wednesday, a SpaceX Falcon 9 sent more Starlink internet satellites to orbit after an 11:36 p.m. EDT lift off from Cape Canaveral.', 'url': 'https://www.floridatoday.com/story/tech/science/space/2023/08/17/spacex-launch-sends-more-starlink-satellites-to-orbit-late-wednesday/70588910007/', 'urlToImage': 'https://www.floridatoday.com/gcdn/presto/2023/08/17/PBRE/cf47827b-3c20-4f53-b499-edb1c7127993-SpaceX_Starlink_6-10.jpg?crop=5309,2987,x0,y467&width=3200&height=1801&format=pjpg&auto=webp', 'publishedAt': '2023-08-17T04:19:35Z', 'content': 'Late Wednesday, a SpaceX Falcon 9 carried more Starlink internet satellites to orbit after lifting off from Cape Canaveral Space Force Station at 11:36 p.m. EDT.\\r\\nThe 230-foot rocket vaulted away fro… [+2146 chars]'}, {'source': {'id': None, 'name': 'profootballrumors.com'}, 'author': None, 'title': 'Colts RB Jonathan Taylor Leaves Camp Due To Personal Matter - profootballrumors.com', 'description': 'Once again, Colts running back Jonathan Taylor is away from the team this preseason. After spending about a week away &hellip;', 'url': 'https://www.profootballrumors.com/2023/08/colts-rb-jonathan-taylor-leaves-camp-due-to-personal-matter', 'urlToImage': 'https://cdn.profootballrumors.com/files/2023/08/USATSI_19429040-1024x768.jpg', 'publishedAt': '2023-08-17T04:17:00Z', 'content': 'Once again, Colts running back Jonathan Taylor is away from the team this preseason. After spending about a week away from the team rehabilitating a nagging ankle injury amidst contract struggles, Ta… [+1692 chars]'}]\n"
     ]
    }
   ],
   "source": [
    "news_api_key='2f9d8961ce784d22944335e5ac7e2f80'\n",
    "news_url = 'https://newsapi.org/v2/top-headlines?country=us&apiKey='+news_api_key\n",
    "news = requests.get(news_url).json()\n",
    "print(news)\n",
    "articles=news['articles']\n",
    "print(articles)"
   ]
  },
  {
   "cell_type": "code",
   "execution_count": null,
   "id": "20031418",
   "metadata": {},
   "outputs": [],
   "source": []
  }
 ],
 "metadata": {
  "kernelspec": {
   "display_name": "Python 3 (ipykernel)",
   "language": "python",
   "name": "python3"
  },
  "language_info": {
   "codemirror_mode": {
    "name": "ipython",
    "version": 3
   },
   "file_extension": ".py",
   "mimetype": "text/x-python",
   "name": "python",
   "nbconvert_exporter": "python",
   "pygments_lexer": "ipython3",
   "version": "3.9.12"
  }
 },
 "nbformat": 4,
 "nbformat_minor": 5
}
