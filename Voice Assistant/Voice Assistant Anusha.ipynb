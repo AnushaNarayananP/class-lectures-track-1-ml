{
 "cells": [
  {
   "cell_type": "raw",
   "id": "900fb64a",
   "metadata": {},
   "source": [
    "imports"
   ]
  },
  {
   "cell_type": "code",
   "execution_count": 1,
   "id": "b2107e1b",
   "metadata": {},
   "outputs": [],
   "source": [
    "import speech_recognition as sr\n",
    "from gtts import gTTS\n",
    "import playsound"
   ]
  },
  {
   "cell_type": "code",
   "execution_count": 2,
   "id": "7afd1cd1",
   "metadata": {},
   "outputs": [],
   "source": [
    "import os"
   ]
  },
  {
   "cell_type": "code",
   "execution_count": 3,
   "id": "dd280e7d",
   "metadata": {},
   "outputs": [],
   "source": [
    "from datetime import date,time,datetime"
   ]
  },
  {
   "cell_type": "code",
   "execution_count": 4,
   "id": "61b9488f",
   "metadata": {},
   "outputs": [],
   "source": [
    "import requests"
   ]
  },
  {
   "cell_type": "code",
   "execution_count": 5,
   "id": "845c9054",
   "metadata": {},
   "outputs": [],
   "source": [
    "import yfinance as yf"
   ]
  },
  {
   "cell_type": "code",
   "execution_count": 6,
   "id": "608150e0",
   "metadata": {},
   "outputs": [],
   "source": [
    "import wolframalpha"
   ]
  },
  {
   "cell_type": "code",
   "execution_count": 7,
   "id": "22205237",
   "metadata": {},
   "outputs": [
    {
     "name": "stderr",
     "output_type": "stream",
     "text": [
      "Using India server backend.\n"
     ]
    }
   ],
   "source": [
    "import translators as ts"
   ]
  },
  {
   "cell_type": "raw",
   "id": "5f5fd6ba",
   "metadata": {},
   "source": [
    "1. Voice Assistant Coding Section"
   ]
  },
  {
   "cell_type": "code",
   "execution_count": 8,
   "id": "bc7b3d00",
   "metadata": {},
   "outputs": [],
   "source": [
    "crypto_api='https://api.geckoterminal.com/api/v2/networks/eth/dexes?page=1'"
   ]
  },
  {
   "cell_type": "code",
   "execution_count": 9,
   "id": "e00b4f4c",
   "metadata": {},
   "outputs": [],
   "source": [
    "wolfram_api='UV7X63-L25EJ6R2WV'"
   ]
  },
  {
   "cell_type": "code",
   "execution_count": 10,
   "id": "39bf32a9",
   "metadata": {},
   "outputs": [],
   "source": [
    "chuck_norris_api ='https://api.chucknorris.io/jokes/random'"
   ]
  },
  {
   "cell_type": "code",
   "execution_count": 24,
   "id": "5e2c7f37",
   "metadata": {},
   "outputs": [],
   "source": [
    "news_api_key='2f9d8961ce784d22944335e5ac7e2f80'"
   ]
  },
  {
   "cell_type": "code",
   "execution_count": 11,
   "id": "eeea1777",
   "metadata": {},
   "outputs": [],
   "source": [
    "def wolfram_alpha_country_capital(text):\n",
    "    client = wolframalpha.Client(wolfram_api)\n",
    "    result = client.query(text)\n",
    "    answer=next(result.results).text\n",
    "    answer_split=answer.split()\n",
    "    capital_result = 'The capital of ' + answer_split[-1] + ' is '+ answer_split[0]\n",
    "    anusha_talk(capital_result)"
   ]
  },
  {
   "cell_type": "code",
   "execution_count": 12,
   "id": "06591be1",
   "metadata": {},
   "outputs": [],
   "source": [
    "def wolfram_alpha_calculator(text):\n",
    "    client = wolframalpha.Client(wolfram_api)\n",
    "    result = client.query(text)\n",
    "    answer=next(result.results).text\n",
    "    print(answer)\n",
    "    anusha_talk('The answer is '+ answer)"
   ]
  },
  {
   "cell_type": "code",
   "execution_count": 13,
   "id": "28802cd6",
   "metadata": {},
   "outputs": [],
   "source": [
    "def wolfram_alpha_president(text):\n",
    "    \n",
    "    client = wolframalpha.Client(wolfram_api)\n",
    "    result = client.query(text)\n",
    "    answer=next(result.results).text\n",
    "    anusha_talk('The President is ' + answer)"
   ]
  },
  {
   "cell_type": "code",
   "execution_count": 14,
   "id": "55a29ee0",
   "metadata": {},
   "outputs": [],
   "source": [
    "def translator(text):\n",
    "    alina_talk_de(ts.translate_text(text, translator='google',from_language ='en',to_language='de'))"
   ]
  },
  {
   "cell_type": "code",
   "execution_count": 15,
   "id": "da91152c",
   "metadata": {},
   "outputs": [],
   "source": [
    "def chuck_norris():\n",
    "    cn_data=requests.get(chuck_norris_api)\n",
    "    cn_json=cn_data.json()\n",
    "    joke=cn_json['value']\n",
    "    print(joke)\n",
    "    anusha_talk(joke)"
   ]
  },
  {
   "cell_type": "code",
   "execution_count": 25,
   "id": "1c00b52a",
   "metadata": {},
   "outputs": [],
   "source": [
    "def get_news():\n",
    "    news_url = 'https://newsapi.org/v2/top-headlines?country=us&apiKey='+news_api_key\n",
    "    news = requests.get(news_url).json()\n",
    "    articles=news['articles']\n",
    "    news_headlines=[]\n",
    "    for art in articles :\n",
    "        news_headlines.append(art['title'])\n",
    "    for i in range(3):\n",
    "        print(news_headlines[i])\n",
    "        anusha_talk(news_headlines[i])\n",
    "        "
   ]
  },
  {
   "cell_type": "code",
   "execution_count": null,
   "id": "d42b906b",
   "metadata": {},
   "outputs": [],
   "source": []
  },
  {
   "cell_type": "markdown",
   "id": "8cc3815c",
   "metadata": {},
   "source": [
    "convert speech to text as we can use text for the next step"
   ]
  },
  {
   "cell_type": "code",
   "execution_count": 16,
   "id": "cad2b335",
   "metadata": {},
   "outputs": [],
   "source": [
    "def anusha_listen():\n",
    "    r= sr.Recognizer()\n",
    "    with sr.Microphone() as source:\n",
    "        audio= r.listen(source)\n",
    "        text =''\n",
    "        try:\n",
    "            text= r.recognize_google(audio)\n",
    "        except sr.RequestError as re:\n",
    "            print(re)\n",
    "        except sr.UnknownValueError as uve:\n",
    "            print(uve)\n",
    "        except sr.WaitTimeoutError as wte:\n",
    "            print(wte)\n",
    "    text= text.lower()\n",
    "    return text\n",
    "\n",
    "    "
   ]
  },
  {
   "cell_type": "markdown",
   "id": "6a91e701",
   "metadata": {},
   "source": [
    "convert text to speech"
   ]
  },
  {
   "cell_type": "code",
   "execution_count": null,
   "id": "706e6e31",
   "metadata": {},
   "outputs": [],
   "source": []
  },
  {
   "cell_type": "code",
   "execution_count": 17,
   "id": "506f4d66",
   "metadata": {},
   "outputs": [],
   "source": [
    "\n",
    "def anusha_talk(text):\n",
    "    now = datetime.now()\n",
    "    today_date = date.today()\n",
    "    today_time = now.strftime(\"%H_%M_%S\")\n",
    "    file_name ='file_'+str(today_date)+'_'+str(today_time)+'.mp3'\n",
    "    tts=gTTS(text=text,lang='en')\n",
    "    tts.save(file_name)\n",
    "    playsound.playsound(file_name)\n",
    "    os.remove(file_name)"
   ]
  },
  {
   "cell_type": "raw",
   "id": "43ccf7bb",
   "metadata": {},
   "source": [
    "convert text to speech (german)"
   ]
  },
  {
   "cell_type": "code",
   "execution_count": 18,
   "id": "eee59cc0",
   "metadata": {},
   "outputs": [],
   "source": [
    "def anusha_talk_de(text):\n",
    "    now = datetime.now()\n",
    "    today_date = date.today()\n",
    "    today_time = now.strftime(\"%H_%M_%S\")\n",
    "    file_name ='file_'+str(today_date)+'_'+str(today_time)+'.mp3'\n",
    "    tts=gTTS(text=text,lang='de')\n",
    "    tts.save(file_name)\n",
    "    playsound.playsound(file_name)\n",
    "    os.remove(file_name)"
   ]
  },
  {
   "cell_type": "markdown",
   "id": "c3aeaac3",
   "metadata": {},
   "source": [
    "create a function which will give us reply based on input text"
   ]
  },
  {
   "cell_type": "code",
   "execution_count": 26,
   "id": "08667afc",
   "metadata": {},
   "outputs": [],
   "source": [
    "def anusha_reply(text):\n",
    "    if 'what' in text and 'name' in text :\n",
    "        anusha_talk('My name is Anusha and I am your personal assistant')\n",
    "    elif 'why' in text and 'name' in text:\n",
    "        anusha_talk('I was created to work for you. I dont need a break and I will never ask for days off.')\n",
    "    elif 'when' in text and 'sleep' in text :\n",
    "        anusha_talk('I never sleep .I was created to support you 24 hours')\n",
    "    elif 'you' in text and 'stupid' in text:\n",
    "        anusha_talk('No, I am not stupid . My grandmother told me that there are no stupid person out there'+'I try to give you my best everyday continously.')\n",
    "    elif 'favourite' in text or 'favorite' in text and 'movie' in text:\n",
    "        anusha_talk('My favourite movie is The Life of a Pie . I watch it with my friends all the time')\n",
    "    elif 'ethereum' in text:\n",
    "        response=requests.get(crypto_api)\n",
    "        crypto_json= response.json()\n",
    "        \n",
    "        def crypto(a):\n",
    "            l=[]\n",
    "            for i in range(len(a)):\n",
    "                l.append(a[i ]['id'])\n",
    "            return l\n",
    "        anusha_talk('current dexes of ethereum are ' + str(crypto(crypto_json['data'])))\n",
    "    elif 'apple' in text:\n",
    "        apple=yf.Ticker('AAPL')\n",
    "        anusha_talk('At this moment you can buy an apple share of '+ str(apple.info['dayHigh'])+' US dollars')\n",
    "    elif 'tesla' in text:\n",
    "        tsla=yf.Ticker('TSLA')\n",
    "        anusha_talk('At this moment you can buy an tesla share of '+str(tsla.info['dayHigh'])+' US dollars')\n",
    "    elif 'google' in text:\n",
    "        google=yf.Ticker('GOOG')\n",
    "        anusha_talk('At this moment you can buy an google share of '+str(google.info['dayHigh'])+' US dollars')\n",
    "    elif 'meta' in text:\n",
    "        meta=yf.Ticker('META')\n",
    "        anusha_talk('At this moment you can buy an meta share of '+str(meta.info['dayHigh'])+' US dollars')\n",
    "    elif  'capital' in text and 'of' in text:\n",
    "        wolfram_alpha_country_capital(text)\n",
    "    elif '+' in text or '-' in text or 'multiply' in text or 'multiplied' in text or 'divide' in text or 'root' in text :\n",
    "        wolfram_alpha_calculator(text)\n",
    "    elif 'who' in text and 'president' in text :\n",
    "        wolfram_alpha_president(text)\n",
    "    elif 'translate' in text:\n",
    "        alina_talk('Sure, what do you need me to translate?')\n",
    "        while True:\n",
    "            text_to_translate = alina_listen()\n",
    "            if text_to_translate != 'turn off translator':\n",
    "                translator(text_to_translate)\n",
    "            else:\n",
    "                anusha_talk('The translator will be turned off.What can I do for you?')\n",
    "                break\n",
    "    elif 'chuck norris' in text:\n",
    "        chuck_norris()\n",
    "    elif 'news' in text:\n",
    "        anusha_talk('Alright, let me tell you the first three headlines')\n",
    "        get_news()\n",
    "    elif 'stop' in text:\n",
    "        anusha_talk('It was a pleasure to help you , I wish you a wonderful day')\n",
    "    else :\n",
    "        anusha_talk('Excuse me, I did not get that .Can you please repeat it')"
   ]
  },
  {
   "cell_type": "raw",
   "id": "a4aabbae",
   "metadata": {},
   "source": [
    "2. Voice Assistant Execution Section"
   ]
  },
  {
   "cell_type": "code",
   "execution_count": 20,
   "id": "400b7aeb",
   "metadata": {},
   "outputs": [],
   "source": [
    "def execute_assistant():\n",
    "    anusha_talk('Hi ,I am here to support you .Can you please tell me your name?')\n",
    "    listen_name = anusha_listen()\n",
    "    anusha_talk('Hi '+ listen_name + '.  what can I do for you?')\n",
    "    \n",
    "    while True:\n",
    "        listen_anusha=anusha_listen()\n",
    "        print(listen_anusha)\n",
    "        anusha_reply(listen_anusha)\n",
    "        if 'stop' in listen_anusha:\n",
    "            break"
   ]
  },
  {
   "cell_type": "code",
   "execution_count": 85,
   "id": "5d3ef21d",
   "metadata": {},
   "outputs": [
    {
     "name": "stdout",
     "output_type": "stream",
     "text": [
      "\n",
      "\n",
      "tell me the route of 24\n",
      "tell me the route of 24\n",
      "\n",
      "\n",
      "root of 24\n",
      "2 sqrt(6)\n",
      "\n",
      "\n",
      "stop\n"
     ]
    }
   ],
   "source": [
    "execute_assistant()"
   ]
  },
  {
   "cell_type": "raw",
   "id": "c9c94003",
   "metadata": {},
   "source": [
    "3. Example and Preparation Section"
   ]
  },
  {
   "cell_type": "code",
   "execution_count": 87,
   "id": "069aa04d",
   "metadata": {},
   "outputs": [
    {
     "name": "stdout",
     "output_type": "stream",
     "text": [
      "The President is Vladimir Putin (from 07/05/2012 to present)\n"
     ]
    }
   ],
   "source": [
    "client = wolframalpha.Client(wolfram_api)\n",
    "result = client.query('Who is current president of Russia')\n",
    "answer=next(result.results).text\n",
    "print('The President is ' + answer)"
   ]
  },
  {
   "cell_type": "code",
   "execution_count": 32,
   "id": "de5c53b8",
   "metadata": {},
   "outputs": [
    {
     "data": {
      "text/plain": [
       "'Ich lebe in Hamburg und heute möchte ich etwas essen'"
      ]
     },
     "execution_count": 32,
     "metadata": {},
     "output_type": "execute_result"
    }
   ],
   "source": [
    "ts.translate_text('I live in hamburg and today I want to eat something', translator='google',from_language ='en',to_language='de')"
   ]
  },
  {
   "cell_type": "code",
   "execution_count": 37,
   "id": "9282d080",
   "metadata": {},
   "outputs": [
    {
     "name": "stdout",
     "output_type": "stream",
     "text": [
      "Chuck Norris breaks the hand that feeds him.\n"
     ]
    }
   ],
   "source": [
    "chuck_norris_api ='https://api.chucknorris.io/jokes/random'\n",
    "cn_data=requests.get(chuck_norris_api)\n",
    "cn_json=cn_data.json()\n",
    "print(cn_json['value'])"
   ]
  },
  {
   "cell_type": "code",
   "execution_count": 21,
   "id": "b4815c37",
   "metadata": {},
   "outputs": [
    {
     "name": "stdout",
     "output_type": "stream",
     "text": [
      "{'status': 'ok', 'totalResults': 35, 'articles': [{'source': {'id': None, 'name': 'Florida Today'}, 'author': None, 'title': 'SpaceX launch sends more Starlink satellites to orbit late Wednesday - Florida Today', 'description': None, 'url': 'https://www.floridatoday.com/story/tech/science/space/2023/08/17/spacex-launch-sends-more-starlink-satellites-to-orbit-late-wednesday/70588910007/', 'urlToImage': None, 'publishedAt': '2023-08-18T09:46:10Z', 'content': None}, {'source': {'id': None, 'name': 'The Guardian'}, 'author': 'Sian Cain', 'title': 'Britney Spears’ estranged husband Sam Asghari denies he will challenge prenup in their divorce - The Guardian', 'description': 'Asghari says he and Spears will ‘hold onto the love and respect’ they have for each, after filing for divorce after 14 months of marriage', 'url': 'https://www.theguardian.com/music/2023/aug/18/britney-spears-husband-sam-asghari-divorce-prenup-prenuptial-agreement', 'urlToImage': 'https://i.guim.co.uk/img/media/fd59b953ff7f44f3970ab61166d0c2f5518ea067/0_63_4200_2519/master/4200.jpg?width=1200&height=630&quality=85&auto=format&fit=crop&overlay-align=bottom%2Cleft&overlay-width=100p&overlay-base64=L2ltZy9zdGF0aWMvb3ZlcmxheXMvdGctZGVmYXVsdC5wbmc&enable=upscale&s=69bf776d1c642ca6c96f122905e57661', 'publishedAt': '2023-08-18T09:46:00Z', 'content': 'Sam Asghari has denied he will challenge the prenuptial agreement he has with Britney Spears after filing for divorce after 14 months of marriage.\\r\\nIn a statement posted online on Thursday, the model… [+2818 chars]'}, {'source': {'id': 'the-wall-street-journal', 'name': 'The Wall Street Journal'}, 'author': 'Rebecca Feng, Weilun Soon', 'title': \"Investors Fear China's 'Lehman Moment' Is Looming - The Wall Street Journal\", 'description': 'Troubles at a big trust company are making investors worry about financial contagion from property developers’ distress', 'url': 'https://www.wsj.com/finance/investing/investors-fear-chinas-lehman-moment-is-looming-4364855d', 'urlToImage': 'https://images.wsj.net/im-837775/social', 'publishedAt': '2023-08-18T09:43:00Z', 'content': None}, {'source': {'id': 'politico', 'name': 'Politico'}, 'author': None, 'title': 'Why San Francisco is make or break for Gavin Newsom - POLITICO', 'description': 'Newsom has increasingly been moonlighting as a quasi-city executive of his hometown and approaching its woes as a litmus test for his success in Sacramento.', 'url': 'https://www.politico.com/news/2023/08/18/san-francisco-gavin-newsom-homeless-00111777', 'urlToImage': 'https://static.politico.com/2c/af/07196a1a43a69f1d20914c574043/gettyimages-1428462180.jpg', 'publishedAt': '2023-08-18T09:00:00Z', 'content': 'Through some combination of civic pride, personal obligation and an antenna for his own political liabilities, hes immersed himself in the citys struggles. He sent in state law enforcement to target … [+13418 chars]'}, {'source': {'id': 'the-verge', 'name': 'The Verge'}, 'author': 'Jess Weatherbed', 'title': 'The iPhone 15 might support faster charging speeds via USB-C - The Verge', 'description': 'Some of the new iPhone 15 models might support charging up to 35W, compared to the 27W speeds that the current iPhone 14 Pro is limited to via a wired Lightning charger.', 'url': 'https://www.theverge.com/2023/8/18/23836903/apple-iphone-15-usbc-lightning-cable-charging-speed-wattage', 'urlToImage': 'https://cdn.vox-cdn.com/thumbor/4_PqTFALDlB_SnxFV-trOIMPHWw=/0x0:3543x2362/1200x628/filters:focal(1772x1181:1773x1182)/cdn.vox-cdn.com/uploads/chorus_asset/file/24858179/1235497186.jpg', 'publishedAt': '2023-08-18T08:58:58Z', 'content': 'The iPhone 15 might have faster charging speeds\\r\\nThe iPhone 15 might have faster charging speeds\\r\\n / The transition from Lightning to USB-C could see iPhone 15 models achieve a charging speed of up t… [+2316 chars]'}, {'source': {'id': None, 'name': 'Yahoo Entertainment'}, 'author': 'Huw Jones', 'title': 'GLOBAL MARKETS-Shares hit two-month low as fading Fed cut hope hammers bonds - Yahoo Finance', 'description': 'Global shares hit two-month lows on Friday while US government bond yields remained near recent 16-year highs as investors bet on interest rates staying...', 'url': 'https://finance.yahoo.com/news/global-markets-shares-hit-two-084449208.html', 'urlToImage': 'https://s.yimg.com/ny/api/res/1.2/Td7FlIF6NL6pjShvRUGhAw--/YXBwaWQ9aGlnaGxhbmRlcjt3PTEyMDA7aD04MDA-/https://s.yimg.com/os/creatr-uploaded-images/2023-07/49be7d60-2d48-11ee-9fea-e3ca7a3411e8', 'publishedAt': '2023-08-18T08:44:49Z', 'content': \"Global shares hit two-month lows on Friday while US government bond yields remained near recent 16-year highs as investors bet on interest rates staying elevated for longer, with worries over China's… [+4798 chars]\"}, {'source': {'id': None, 'name': 'SciTechDaily'}, 'author': None, 'title': 'Unmasking the Long COVID Mystery: New Study Reveals Cause of Muscle Weakness - SciTechDaily', 'description': 'New research paves the way for new strategies to address long-term COVID-19 complications. Researchers from the University of Malta have identified a possible cause for the prolonged and frequently debilitating symptoms faced by individuals with long COVID-19…', 'url': 'https://scitechdaily.com/unmasking-the-long-covid-mystery-new-study-reveals-cause-of-muscle-weakness/', 'urlToImage': 'https://scitechdaily.com/images/Human-Anatomy-Back-Spine-Muscle-Bone.jpg', 'publishedAt': '2023-08-18T08:42:53Z', 'content': 'ByUniversity of MaltaAugust 18, 2023\\r\\nResearchers have found a potential cause for long COVID-19s enduring symptoms. Their study revealed that the ACE2 receptor, which the SARS-CoV-2 virus targets, p… [+5212 chars]'}, {'source': {'id': 'cnn', 'name': 'CNN'}, 'author': 'Elizabeth Wolfe, Mary Gilbert', 'title': 'Hurricane Hilary strengthens to a Category 4 storm, but is expected to weaken before bringing rain to the Southwest US this weekend - CNN', 'description': 'Hurricane Hilary has intensified into a Category 4 storm as it nears Mexico’s Baja California peninsula, yet is expected to weaken over the weekend as it brings rain and the threat of flooding to parts of the Southwest US.', 'url': 'https://www.cnn.com/2023/08/18/weather/hurricane-hilary-rain-flooding-forecast-friday/index.html', 'urlToImage': 'https://media.cnn.com/api/v1/images/stellar/prod/230817232659-01-hurricane-hilary-category-3-friday.jpg?c=16x9&q=w_800,c_fill', 'publishedAt': '2023-08-18T08:32:00Z', 'content': 'Hurricane Hilary has intensified into a Category 4 storm as it nears Mexicos Baja California peninsula, yet is expected to weaken over the weekend as it brings rain and the threat of flooding to part… [+4692 chars]'}, {'source': {'id': None, 'name': 'Yahoo Entertainment'}, 'author': 'SAM MEDNICK', 'title': \"Leading politician says victory for Niger's coup leaders would be 'the end of democracy' in Africa - Yahoo News\", 'description': \"If mutinous soldiers who ousted Niger's president succeed, it will threaten democracy and security across the region and the continent, a high-ranking member...\", 'url': 'https://news.yahoo.com/leading-politician-says-victory-nigers-080020420.html', 'urlToImage': 'https://s.yimg.com/ny/api/res/1.2/cRoGIZ8BnKjgyNDUfAvqGQ--/YXBwaWQ9aGlnaGxhbmRlcjt3PTEyMDA7aD04MDI-/https://media.zenfs.com/en/ap.org/55e39308524dd179f715ccc9cac998a7', 'publishedAt': '2023-08-18T08:00:20Z', 'content': \"NIAMEY, Niger (AP) If mutinous soldiers who ousted Niger's president succeed, it will threaten democracy and security across the region and the continent, a high-ranking member of Bazoum's political … [+4203 chars]\"}, {'source': {'id': 'the-washington-post', 'name': 'The Washington Post'}, 'author': 'Kelsey Ables, Christian Shepherd, Theodora Yu', 'title': 'China’s Evergrande files for Chapter 15 bankruptcy - The Washington Post', 'description': 'The heavily indebted company has become an emblem of China’s real estate crisis. It is seeking protection from creditors while it makes efforts to restructure.', 'url': 'https://www.washingtonpost.com/world/2023/08/18/evergrande-bankruptcy-chapter-15-china/', 'urlToImage': 'https://www.washingtonpost.com/wp-apps/imrs.php?src=https://arc-anglerfish-washpost-prod-washpost.s3.amazonaws.com/public/U3GHTSXNW7H6TLXIXUXXYIH6CE_size-normalized.JPG&w=1440', 'publishedAt': '2023-08-18T07:00:00Z', 'content': 'Comment on this story\\r\\nComment\\r\\nEvergrande, the heavily indebted Chinese property giant, filed for bankruptcy protection Thursday in New York, raising concerns about ripple effects as China faces slo… [+2700 chars]'}, {'source': {'id': None, 'name': 'The Moscow Times'}, 'author': 'AFP', 'title': 'Ukrainian Drone Crashes in Moscow, Says Russia - The Moscow Times', 'description': 'Russian forces have destroyed a Ukrainian drone targeting Moscow, officials said, the latest in a series of attacks on the capital.', 'url': 'https://www.themoscowtimes.com/2023/08/18/ukrainian-drone-crashes-in-moscow-says-russia-a82171', 'urlToImage': 'https://static.themoscowtimes.com/image/og/05/82171__05fed12a3640637a95ff13096174e1ab.jpg', 'publishedAt': '2023-08-18T06:29:00Z', 'content': \"Russian forces have destroyed a Ukrainian drone targeting Moscow, officials said, the latest in a series of attacks on the capital.\\r\\nRussia's Defense Ministry said its air force downed a Ukrainian dr… [+1350 chars]\"}, {'source': {'id': None, 'name': 'The Athletic'}, 'author': 'Meg Linehan', 'title': 'Vlatko Andonovski is out as USWNT manager… now what? Deadlines for clarity are fast approaching - The Athletic', 'description': 'Since the USWNT was eliminated from the 2023 World Cup, there has been scant information from the USSF about the road ahead', 'url': 'https://theathletic.com/4784616/2023/08/17/uswnt-coach-search-ussf/', 'urlToImage': 'https://cdn.theathletic.com/app/uploads/2023/08/17104531/GettyImages-1595744995.jpg', 'publishedAt': '2023-08-18T05:26:13Z', 'content': 'Vlatko Andonovskis departure as head coach of the USWNT is official, and the mutual agreement with U.S. Soccer is certainly an amicable one despite the teams early exit from the World Cup in the roun… [+5631 chars]'}, {'source': {'id': 'cbs-news', 'name': 'CBS News'}, 'author': 'Faris Tanyos', 'title': 'Maui emergency chief resigns following criticism for wildfire response - CBS News', 'description': 'When asked Wednesday by reporters if he regretted not activating warning sirens when the wildfires broke out Aug. 8, Herman Andaya responded, \"I do not.\"', 'url': 'https://www.cbsnews.com/news/maui-emergency-chief-herman-andaya-resigns-criticism-lahaina-wildfire-response/', 'urlToImage': 'https://assets2.cbsnewsstatic.com/hub/i/r/2023/08/18/40484ccb-50e9-4003-8f8d-eaa721fa6acd/thumbnail/1200x630/22927a8e3535ffc0acfe7a03d479f718/0817-en-vigliotti.jpg?v=0b4ae642db52799a178d90d83603a9dc', 'publishedAt': '2023-08-18T04:06:00Z', 'content': \"The head of the Maui Emergency Management Agency resigned his post on Thursday in the wake of significant criticism for his agency's response to the Lahaina fire, which has claimed the lives of at le… [+4726 chars]\"}, {'source': {'id': None, 'name': 'YouTube'}, 'author': None, 'title': \"Merab Dvalishvili Details Plan if Aljamain Sterling Vacates With UFC 292 Win vs. Sean O'Malley - MMA Junkie\", 'description': \"UFC bantamweight Merab Dvalishvili talks to MMA Junkie's Nolan King ahead of the UFC 292 main event between his teammate Aljamain Sterling and Sean O'Malley ...\", 'url': 'https://www.youtube.com/watch?v=hlITvxSo6lE', 'urlToImage': 'https://i.ytimg.com/vi/hlITvxSo6lE/maxresdefault.jpg', 'publishedAt': '2023-08-18T03:03:30Z', 'content': None}, {'source': {'id': 'espn', 'name': 'ESPN'}, 'author': 'NFL Nation', 'title': 'NFL preseason 2023 Week 2 takeaways and schedule - ESPN - ESPN', 'description': 'The NFL preseason continued Thursday night. Here are the key performances from the first of 16 games that will extend through Monday night.', 'url': 'https://www.espn.com/nfl/story/_/id/38210608/nfl-preseason-2023-week-2-takeaways-schedule-highlights', 'urlToImage': 'https://a1.espncdn.com/combiner/i?img=%2Fphoto%2F2023%2F0818%2Fr1212137_1296x729_16%2D9.jpg', 'publishedAt': '2023-08-18T03:03:00Z', 'content': 'The second week of preseason games for the 2023 NFL season kicked off Thursday night with a matchup between the defending NFC champion Philadelphia Eagles and the Cleveland Browns.\\r\\nNot many starters… [+3279 chars]'}, {'source': {'id': None, 'name': 'BBC News'}, 'author': 'https://www.facebook.com/bbcnews', 'title': 'Canada wildfire: Yellowknife evacuees turned away from full flights - BBC', 'description': 'There are queues on roads out of Yellowknife and at the airport as a fire bears down on the remote city.', 'url': 'https://www.bbc.com/news/world-us-canada-66539828', 'urlToImage': 'https://ichef.bbci.co.uk/news/1024/branded_news/6FB0/production/_130829582_p0g79m3l.jpg', 'publishedAt': '2023-08-18T02:00:56Z', 'content': 'Residents of Yellowknife are scrambling to leave the northern Canadian city by air and road ahead of a noon Friday evacuation deadline.\\r\\nThere are hours-long queues at the airport and hundreds of pas… [+4531 chars]'}, {'source': {'id': 'cnn', 'name': 'CNN'}, 'author': 'Sara Murray', 'title': 'Jeffrey Clark: Trump DOJ official urges judge to reject March 2024 trial date in Georgia case - CNN', 'description': 'Former Justice Department official Jeffrey Clark – one of the 18 co-defendants indicted alongside Donald Trump in a sweeping racketeering case in Georgia – asked a judge Thursday to reject the Fulton County district attorney’s proposed March 2024 trial date, …', 'url': 'https://www.cnn.com/2023/08/17/politics/jeffrey-clark-georgia-trial-date/index.html', 'urlToImage': 'https://media.cnn.com/api/v1/images/stellar/prod/230814234854-jeffrey-clark-091420.jpg?c=16x9&q=w_800,c_fill', 'publishedAt': '2023-08-18T01:59:00Z', 'content': 'Former Justice Department official Jeffrey Clark one of the 18 co-defendants indicted alongside Donald Trump in a sweeping racketeering case in Georgia asked a judge Thursday to reject the Fulton Cou… [+2063 chars]'}, {'source': {'id': 'cbs-news', 'name': 'CBS News'}, 'author': 'Alexander Tin', 'title': 'CDC tracking new COVID variant BA.2.86 after highly-mutated strain reported in Michigan - CBS News', 'description': 'Cases of the new COVID variant BA.2.86 have been spotted in Michigan, Denmark and Israel.', 'url': 'https://www.cbsnews.com/news/new-covid-variant-ba286-who-monitoring/', 'urlToImage': 'https://assets3.cbsnewsstatic.com/hub/i/r/2020/07/07/3fb032bf-c33e-4fe1-9b18-5941b6605c51/thumbnail/1200x630/779701c26a47a373f7c7208e7656b9a3/gettyimages-1224535313.jpg?v=0b4ae642db52799a178d90d83603a9dc', 'publishedAt': '2023-08-18T01:23:00Z', 'content': 'The U.S. Centers for Disease Control and Prevention announced Thursday it is tracking a recently discovered\\xa0COVID-19 strain, BA.2.86, after experts discovered a case of the highly-mutated strain in M… [+4795 chars]'}, {'source': {'id': None, 'name': 'Hollywood Reporter'}, 'author': 'Carly Thomas', 'title': 'David Spade Says He Refused to Swap Roles With David Bowie in ‘SNL’ Sketch - Hollywood Reporter', 'description': 'The comedian-actor recalled pitching the sketch for a November 1991 episode, hosted by Macaulay Culkin with Bowie and Tin Machine as the musical guest.', 'url': 'https://www.hollywoodreporter.com/tv/tv-news/david-spade-refused-swap-roles-david-bowie-snl-sketch-1235569617/', 'urlToImage': 'https://www.hollywoodreporter.com/wp-content/uploads/2023/08/David-Spade-and-David-Bowie.jpg?w=1024', 'publishedAt': '2023-08-18T01:08:38Z', 'content': 'David Spade is revealing the time he turned down David Bowie’s request to switch roles with him for a sketch on Saturday Night Live.\\r\\nDuring a recent episode of the Fly on the Wall podcast (recorded … [+2294 chars]'}, {'source': {'id': None, 'name': 'Variety'}, 'author': 'Angelique Jackson', 'title': '‘Blue Beetle’ Star Xolo Maridueña Reflects on His DC Superhero Journey: ‘It’s Taken My Whole Life to Prepare for This Moment’ - Variety', 'description': 'Most people hit snooze when their alarm goes off at 3:30 a.m. Not “Blue Beetle” star Xolo Maridueña, who leaped out of bed each day so he could head to set and begin the hourlong process of donning…', 'url': 'https://variety.com/2023/film/news/blue-beetle-xolo-mariduena-dc-superhero-1235698967/', 'urlToImage': 'https://variety.com/wp-content/uploads/2023/08/Xolo-Mariduena.jpg?w=1000&h=563&crop=1', 'publishedAt': '2023-08-18T00:44:12Z', 'content': 'Most people hit snooze when their alarm goes off at 3:30 a.m. Not “Blue Beetle” star Xolo Maridueña, who leaped out of bed each day so he could head to set and begin the hourlong process of donning h… [+12584 chars]'}]}\n",
      "[{'source': {'id': None, 'name': 'Florida Today'}, 'author': None, 'title': 'SpaceX launch sends more Starlink satellites to orbit late Wednesday - Florida Today', 'description': None, 'url': 'https://www.floridatoday.com/story/tech/science/space/2023/08/17/spacex-launch-sends-more-starlink-satellites-to-orbit-late-wednesday/70588910007/', 'urlToImage': None, 'publishedAt': '2023-08-18T09:46:10Z', 'content': None}, {'source': {'id': None, 'name': 'The Guardian'}, 'author': 'Sian Cain', 'title': 'Britney Spears’ estranged husband Sam Asghari denies he will challenge prenup in their divorce - The Guardian', 'description': 'Asghari says he and Spears will ‘hold onto the love and respect’ they have for each, after filing for divorce after 14 months of marriage', 'url': 'https://www.theguardian.com/music/2023/aug/18/britney-spears-husband-sam-asghari-divorce-prenup-prenuptial-agreement', 'urlToImage': 'https://i.guim.co.uk/img/media/fd59b953ff7f44f3970ab61166d0c2f5518ea067/0_63_4200_2519/master/4200.jpg?width=1200&height=630&quality=85&auto=format&fit=crop&overlay-align=bottom%2Cleft&overlay-width=100p&overlay-base64=L2ltZy9zdGF0aWMvb3ZlcmxheXMvdGctZGVmYXVsdC5wbmc&enable=upscale&s=69bf776d1c642ca6c96f122905e57661', 'publishedAt': '2023-08-18T09:46:00Z', 'content': 'Sam Asghari has denied he will challenge the prenuptial agreement he has with Britney Spears after filing for divorce after 14 months of marriage.\\r\\nIn a statement posted online on Thursday, the model… [+2818 chars]'}, {'source': {'id': 'the-wall-street-journal', 'name': 'The Wall Street Journal'}, 'author': 'Rebecca Feng, Weilun Soon', 'title': \"Investors Fear China's 'Lehman Moment' Is Looming - The Wall Street Journal\", 'description': 'Troubles at a big trust company are making investors worry about financial contagion from property developers’ distress', 'url': 'https://www.wsj.com/finance/investing/investors-fear-chinas-lehman-moment-is-looming-4364855d', 'urlToImage': 'https://images.wsj.net/im-837775/social', 'publishedAt': '2023-08-18T09:43:00Z', 'content': None}, {'source': {'id': 'politico', 'name': 'Politico'}, 'author': None, 'title': 'Why San Francisco is make or break for Gavin Newsom - POLITICO', 'description': 'Newsom has increasingly been moonlighting as a quasi-city executive of his hometown and approaching its woes as a litmus test for his success in Sacramento.', 'url': 'https://www.politico.com/news/2023/08/18/san-francisco-gavin-newsom-homeless-00111777', 'urlToImage': 'https://static.politico.com/2c/af/07196a1a43a69f1d20914c574043/gettyimages-1428462180.jpg', 'publishedAt': '2023-08-18T09:00:00Z', 'content': 'Through some combination of civic pride, personal obligation and an antenna for his own political liabilities, hes immersed himself in the citys struggles. He sent in state law enforcement to target … [+13418 chars]'}, {'source': {'id': 'the-verge', 'name': 'The Verge'}, 'author': 'Jess Weatherbed', 'title': 'The iPhone 15 might support faster charging speeds via USB-C - The Verge', 'description': 'Some of the new iPhone 15 models might support charging up to 35W, compared to the 27W speeds that the current iPhone 14 Pro is limited to via a wired Lightning charger.', 'url': 'https://www.theverge.com/2023/8/18/23836903/apple-iphone-15-usbc-lightning-cable-charging-speed-wattage', 'urlToImage': 'https://cdn.vox-cdn.com/thumbor/4_PqTFALDlB_SnxFV-trOIMPHWw=/0x0:3543x2362/1200x628/filters:focal(1772x1181:1773x1182)/cdn.vox-cdn.com/uploads/chorus_asset/file/24858179/1235497186.jpg', 'publishedAt': '2023-08-18T08:58:58Z', 'content': 'The iPhone 15 might have faster charging speeds\\r\\nThe iPhone 15 might have faster charging speeds\\r\\n / The transition from Lightning to USB-C could see iPhone 15 models achieve a charging speed of up t… [+2316 chars]'}, {'source': {'id': None, 'name': 'Yahoo Entertainment'}, 'author': 'Huw Jones', 'title': 'GLOBAL MARKETS-Shares hit two-month low as fading Fed cut hope hammers bonds - Yahoo Finance', 'description': 'Global shares hit two-month lows on Friday while US government bond yields remained near recent 16-year highs as investors bet on interest rates staying...', 'url': 'https://finance.yahoo.com/news/global-markets-shares-hit-two-084449208.html', 'urlToImage': 'https://s.yimg.com/ny/api/res/1.2/Td7FlIF6NL6pjShvRUGhAw--/YXBwaWQ9aGlnaGxhbmRlcjt3PTEyMDA7aD04MDA-/https://s.yimg.com/os/creatr-uploaded-images/2023-07/49be7d60-2d48-11ee-9fea-e3ca7a3411e8', 'publishedAt': '2023-08-18T08:44:49Z', 'content': \"Global shares hit two-month lows on Friday while US government bond yields remained near recent 16-year highs as investors bet on interest rates staying elevated for longer, with worries over China's… [+4798 chars]\"}, {'source': {'id': None, 'name': 'SciTechDaily'}, 'author': None, 'title': 'Unmasking the Long COVID Mystery: New Study Reveals Cause of Muscle Weakness - SciTechDaily', 'description': 'New research paves the way for new strategies to address long-term COVID-19 complications. Researchers from the University of Malta have identified a possible cause for the prolonged and frequently debilitating symptoms faced by individuals with long COVID-19…', 'url': 'https://scitechdaily.com/unmasking-the-long-covid-mystery-new-study-reveals-cause-of-muscle-weakness/', 'urlToImage': 'https://scitechdaily.com/images/Human-Anatomy-Back-Spine-Muscle-Bone.jpg', 'publishedAt': '2023-08-18T08:42:53Z', 'content': 'ByUniversity of MaltaAugust 18, 2023\\r\\nResearchers have found a potential cause for long COVID-19s enduring symptoms. Their study revealed that the ACE2 receptor, which the SARS-CoV-2 virus targets, p… [+5212 chars]'}, {'source': {'id': 'cnn', 'name': 'CNN'}, 'author': 'Elizabeth Wolfe, Mary Gilbert', 'title': 'Hurricane Hilary strengthens to a Category 4 storm, but is expected to weaken before bringing rain to the Southwest US this weekend - CNN', 'description': 'Hurricane Hilary has intensified into a Category 4 storm as it nears Mexico’s Baja California peninsula, yet is expected to weaken over the weekend as it brings rain and the threat of flooding to parts of the Southwest US.', 'url': 'https://www.cnn.com/2023/08/18/weather/hurricane-hilary-rain-flooding-forecast-friday/index.html', 'urlToImage': 'https://media.cnn.com/api/v1/images/stellar/prod/230817232659-01-hurricane-hilary-category-3-friday.jpg?c=16x9&q=w_800,c_fill', 'publishedAt': '2023-08-18T08:32:00Z', 'content': 'Hurricane Hilary has intensified into a Category 4 storm as it nears Mexicos Baja California peninsula, yet is expected to weaken over the weekend as it brings rain and the threat of flooding to part… [+4692 chars]'}, {'source': {'id': None, 'name': 'Yahoo Entertainment'}, 'author': 'SAM MEDNICK', 'title': \"Leading politician says victory for Niger's coup leaders would be 'the end of democracy' in Africa - Yahoo News\", 'description': \"If mutinous soldiers who ousted Niger's president succeed, it will threaten democracy and security across the region and the continent, a high-ranking member...\", 'url': 'https://news.yahoo.com/leading-politician-says-victory-nigers-080020420.html', 'urlToImage': 'https://s.yimg.com/ny/api/res/1.2/cRoGIZ8BnKjgyNDUfAvqGQ--/YXBwaWQ9aGlnaGxhbmRlcjt3PTEyMDA7aD04MDI-/https://media.zenfs.com/en/ap.org/55e39308524dd179f715ccc9cac998a7', 'publishedAt': '2023-08-18T08:00:20Z', 'content': \"NIAMEY, Niger (AP) If mutinous soldiers who ousted Niger's president succeed, it will threaten democracy and security across the region and the continent, a high-ranking member of Bazoum's political … [+4203 chars]\"}, {'source': {'id': 'the-washington-post', 'name': 'The Washington Post'}, 'author': 'Kelsey Ables, Christian Shepherd, Theodora Yu', 'title': 'China’s Evergrande files for Chapter 15 bankruptcy - The Washington Post', 'description': 'The heavily indebted company has become an emblem of China’s real estate crisis. It is seeking protection from creditors while it makes efforts to restructure.', 'url': 'https://www.washingtonpost.com/world/2023/08/18/evergrande-bankruptcy-chapter-15-china/', 'urlToImage': 'https://www.washingtonpost.com/wp-apps/imrs.php?src=https://arc-anglerfish-washpost-prod-washpost.s3.amazonaws.com/public/U3GHTSXNW7H6TLXIXUXXYIH6CE_size-normalized.JPG&w=1440', 'publishedAt': '2023-08-18T07:00:00Z', 'content': 'Comment on this story\\r\\nComment\\r\\nEvergrande, the heavily indebted Chinese property giant, filed for bankruptcy protection Thursday in New York, raising concerns about ripple effects as China faces slo… [+2700 chars]'}, {'source': {'id': None, 'name': 'The Moscow Times'}, 'author': 'AFP', 'title': 'Ukrainian Drone Crashes in Moscow, Says Russia - The Moscow Times', 'description': 'Russian forces have destroyed a Ukrainian drone targeting Moscow, officials said, the latest in a series of attacks on the capital.', 'url': 'https://www.themoscowtimes.com/2023/08/18/ukrainian-drone-crashes-in-moscow-says-russia-a82171', 'urlToImage': 'https://static.themoscowtimes.com/image/og/05/82171__05fed12a3640637a95ff13096174e1ab.jpg', 'publishedAt': '2023-08-18T06:29:00Z', 'content': \"Russian forces have destroyed a Ukrainian drone targeting Moscow, officials said, the latest in a series of attacks on the capital.\\r\\nRussia's Defense Ministry said its air force downed a Ukrainian dr… [+1350 chars]\"}, {'source': {'id': None, 'name': 'The Athletic'}, 'author': 'Meg Linehan', 'title': 'Vlatko Andonovski is out as USWNT manager… now what? Deadlines for clarity are fast approaching - The Athletic', 'description': 'Since the USWNT was eliminated from the 2023 World Cup, there has been scant information from the USSF about the road ahead', 'url': 'https://theathletic.com/4784616/2023/08/17/uswnt-coach-search-ussf/', 'urlToImage': 'https://cdn.theathletic.com/app/uploads/2023/08/17104531/GettyImages-1595744995.jpg', 'publishedAt': '2023-08-18T05:26:13Z', 'content': 'Vlatko Andonovskis departure as head coach of the USWNT is official, and the mutual agreement with U.S. Soccer is certainly an amicable one despite the teams early exit from the World Cup in the roun… [+5631 chars]'}, {'source': {'id': 'cbs-news', 'name': 'CBS News'}, 'author': 'Faris Tanyos', 'title': 'Maui emergency chief resigns following criticism for wildfire response - CBS News', 'description': 'When asked Wednesday by reporters if he regretted not activating warning sirens when the wildfires broke out Aug. 8, Herman Andaya responded, \"I do not.\"', 'url': 'https://www.cbsnews.com/news/maui-emergency-chief-herman-andaya-resigns-criticism-lahaina-wildfire-response/', 'urlToImage': 'https://assets2.cbsnewsstatic.com/hub/i/r/2023/08/18/40484ccb-50e9-4003-8f8d-eaa721fa6acd/thumbnail/1200x630/22927a8e3535ffc0acfe7a03d479f718/0817-en-vigliotti.jpg?v=0b4ae642db52799a178d90d83603a9dc', 'publishedAt': '2023-08-18T04:06:00Z', 'content': \"The head of the Maui Emergency Management Agency resigned his post on Thursday in the wake of significant criticism for his agency's response to the Lahaina fire, which has claimed the lives of at le… [+4726 chars]\"}, {'source': {'id': None, 'name': 'YouTube'}, 'author': None, 'title': \"Merab Dvalishvili Details Plan if Aljamain Sterling Vacates With UFC 292 Win vs. Sean O'Malley - MMA Junkie\", 'description': \"UFC bantamweight Merab Dvalishvili talks to MMA Junkie's Nolan King ahead of the UFC 292 main event between his teammate Aljamain Sterling and Sean O'Malley ...\", 'url': 'https://www.youtube.com/watch?v=hlITvxSo6lE', 'urlToImage': 'https://i.ytimg.com/vi/hlITvxSo6lE/maxresdefault.jpg', 'publishedAt': '2023-08-18T03:03:30Z', 'content': None}, {'source': {'id': 'espn', 'name': 'ESPN'}, 'author': 'NFL Nation', 'title': 'NFL preseason 2023 Week 2 takeaways and schedule - ESPN - ESPN', 'description': 'The NFL preseason continued Thursday night. Here are the key performances from the first of 16 games that will extend through Monday night.', 'url': 'https://www.espn.com/nfl/story/_/id/38210608/nfl-preseason-2023-week-2-takeaways-schedule-highlights', 'urlToImage': 'https://a1.espncdn.com/combiner/i?img=%2Fphoto%2F2023%2F0818%2Fr1212137_1296x729_16%2D9.jpg', 'publishedAt': '2023-08-18T03:03:00Z', 'content': 'The second week of preseason games for the 2023 NFL season kicked off Thursday night with a matchup between the defending NFC champion Philadelphia Eagles and the Cleveland Browns.\\r\\nNot many starters… [+3279 chars]'}, {'source': {'id': None, 'name': 'BBC News'}, 'author': 'https://www.facebook.com/bbcnews', 'title': 'Canada wildfire: Yellowknife evacuees turned away from full flights - BBC', 'description': 'There are queues on roads out of Yellowknife and at the airport as a fire bears down on the remote city.', 'url': 'https://www.bbc.com/news/world-us-canada-66539828', 'urlToImage': 'https://ichef.bbci.co.uk/news/1024/branded_news/6FB0/production/_130829582_p0g79m3l.jpg', 'publishedAt': '2023-08-18T02:00:56Z', 'content': 'Residents of Yellowknife are scrambling to leave the northern Canadian city by air and road ahead of a noon Friday evacuation deadline.\\r\\nThere are hours-long queues at the airport and hundreds of pas… [+4531 chars]'}, {'source': {'id': 'cnn', 'name': 'CNN'}, 'author': 'Sara Murray', 'title': 'Jeffrey Clark: Trump DOJ official urges judge to reject March 2024 trial date in Georgia case - CNN', 'description': 'Former Justice Department official Jeffrey Clark – one of the 18 co-defendants indicted alongside Donald Trump in a sweeping racketeering case in Georgia – asked a judge Thursday to reject the Fulton County district attorney’s proposed March 2024 trial date, …', 'url': 'https://www.cnn.com/2023/08/17/politics/jeffrey-clark-georgia-trial-date/index.html', 'urlToImage': 'https://media.cnn.com/api/v1/images/stellar/prod/230814234854-jeffrey-clark-091420.jpg?c=16x9&q=w_800,c_fill', 'publishedAt': '2023-08-18T01:59:00Z', 'content': 'Former Justice Department official Jeffrey Clark one of the 18 co-defendants indicted alongside Donald Trump in a sweeping racketeering case in Georgia asked a judge Thursday to reject the Fulton Cou… [+2063 chars]'}, {'source': {'id': 'cbs-news', 'name': 'CBS News'}, 'author': 'Alexander Tin', 'title': 'CDC tracking new COVID variant BA.2.86 after highly-mutated strain reported in Michigan - CBS News', 'description': 'Cases of the new COVID variant BA.2.86 have been spotted in Michigan, Denmark and Israel.', 'url': 'https://www.cbsnews.com/news/new-covid-variant-ba286-who-monitoring/', 'urlToImage': 'https://assets3.cbsnewsstatic.com/hub/i/r/2020/07/07/3fb032bf-c33e-4fe1-9b18-5941b6605c51/thumbnail/1200x630/779701c26a47a373f7c7208e7656b9a3/gettyimages-1224535313.jpg?v=0b4ae642db52799a178d90d83603a9dc', 'publishedAt': '2023-08-18T01:23:00Z', 'content': 'The U.S. Centers for Disease Control and Prevention announced Thursday it is tracking a recently discovered\\xa0COVID-19 strain, BA.2.86, after experts discovered a case of the highly-mutated strain in M… [+4795 chars]'}, {'source': {'id': None, 'name': 'Hollywood Reporter'}, 'author': 'Carly Thomas', 'title': 'David Spade Says He Refused to Swap Roles With David Bowie in ‘SNL’ Sketch - Hollywood Reporter', 'description': 'The comedian-actor recalled pitching the sketch for a November 1991 episode, hosted by Macaulay Culkin with Bowie and Tin Machine as the musical guest.', 'url': 'https://www.hollywoodreporter.com/tv/tv-news/david-spade-refused-swap-roles-david-bowie-snl-sketch-1235569617/', 'urlToImage': 'https://www.hollywoodreporter.com/wp-content/uploads/2023/08/David-Spade-and-David-Bowie.jpg?w=1024', 'publishedAt': '2023-08-18T01:08:38Z', 'content': 'David Spade is revealing the time he turned down David Bowie’s request to switch roles with him for a sketch on Saturday Night Live.\\r\\nDuring a recent episode of the Fly on the Wall podcast (recorded … [+2294 chars]'}, {'source': {'id': None, 'name': 'Variety'}, 'author': 'Angelique Jackson', 'title': '‘Blue Beetle’ Star Xolo Maridueña Reflects on His DC Superhero Journey: ‘It’s Taken My Whole Life to Prepare for This Moment’ - Variety', 'description': 'Most people hit snooze when their alarm goes off at 3:30 a.m. Not “Blue Beetle” star Xolo Maridueña, who leaped out of bed each day so he could head to set and begin the hourlong process of donning…', 'url': 'https://variety.com/2023/film/news/blue-beetle-xolo-mariduena-dc-superhero-1235698967/', 'urlToImage': 'https://variety.com/wp-content/uploads/2023/08/Xolo-Mariduena.jpg?w=1000&h=563&crop=1', 'publishedAt': '2023-08-18T00:44:12Z', 'content': 'Most people hit snooze when their alarm goes off at 3:30 a.m. Not “Blue Beetle” star Xolo Maridueña, who leaped out of bed each day so he could head to set and begin the hourlong process of donning h… [+12584 chars]'}]\n",
      "20\n"
     ]
    }
   ],
   "source": [
    "news_api_key='2f9d8961ce784d22944335e5ac7e2f80'\n",
    "news_url = 'https://newsapi.org/v2/top-headlines?country=us&apiKey='+news_api_key\n",
    "news = requests.get(news_url).json()\n",
    "print(news)\n",
    "articles=news['articles']\n",
    "print(articles)\n",
    "print(len(articles))"
   ]
  },
  {
   "cell_type": "code",
   "execution_count": 22,
   "id": "20031418",
   "metadata": {},
   "outputs": [
    {
     "name": "stdout",
     "output_type": "stream",
     "text": [
      "['SpaceX launch sends more Starlink satellites to orbit late Wednesday - Florida Today', 'Britney Spears’ estranged husband Sam Asghari denies he will challenge prenup in their divorce - The Guardian', \"Investors Fear China's 'Lehman Moment' Is Looming - The Wall Street Journal\", 'Why San Francisco is make or break for Gavin Newsom - POLITICO', 'The iPhone 15 might support faster charging speeds via USB-C - The Verge', 'GLOBAL MARKETS-Shares hit two-month low as fading Fed cut hope hammers bonds - Yahoo Finance', 'Unmasking the Long COVID Mystery: New Study Reveals Cause of Muscle Weakness - SciTechDaily', 'Hurricane Hilary strengthens to a Category 4 storm, but is expected to weaken before bringing rain to the Southwest US this weekend - CNN', \"Leading politician says victory for Niger's coup leaders would be 'the end of democracy' in Africa - Yahoo News\", 'China’s Evergrande files for Chapter 15 bankruptcy - The Washington Post', 'Ukrainian Drone Crashes in Moscow, Says Russia - The Moscow Times', 'Vlatko Andonovski is out as USWNT manager… now what? Deadlines for clarity are fast approaching - The Athletic', 'Maui emergency chief resigns following criticism for wildfire response - CBS News', \"Merab Dvalishvili Details Plan if Aljamain Sterling Vacates With UFC 292 Win vs. Sean O'Malley - MMA Junkie\", 'NFL preseason 2023 Week 2 takeaways and schedule - ESPN - ESPN', 'Canada wildfire: Yellowknife evacuees turned away from full flights - BBC', 'Jeffrey Clark: Trump DOJ official urges judge to reject March 2024 trial date in Georgia case - CNN', 'CDC tracking new COVID variant BA.2.86 after highly-mutated strain reported in Michigan - CBS News', 'David Spade Says He Refused to Swap Roles With David Bowie in ‘SNL’ Sketch - Hollywood Reporter', '‘Blue Beetle’ Star Xolo Maridueña Reflects on His DC Superhero Journey: ‘It’s Taken My Whole Life to Prepare for This Moment’ - Variety']\n"
     ]
    }
   ],
   "source": [
    "news_headlines=[]\n",
    "for art in articles :\n",
    "    news_headlines.append(art['title'])\n",
    "print(news_headlines)"
   ]
  },
  {
   "cell_type": "code",
   "execution_count": 23,
   "id": "14e221c2",
   "metadata": {},
   "outputs": [
    {
     "name": "stdout",
     "output_type": "stream",
     "text": [
      "SpaceX launch sends more Starlink satellites to orbit late Wednesday - Florida Today\n",
      "Britney Spears’ estranged husband Sam Asghari denies he will challenge prenup in their divorce - The Guardian\n",
      "Investors Fear China's 'Lehman Moment' Is Looming - The Wall Street Journal\n"
     ]
    }
   ],
   "source": [
    "for i in range(3):\n",
    "    print(news_headlines[i])\n"
   ]
  },
  {
   "cell_type": "code",
   "execution_count": null,
   "id": "f06f41b6",
   "metadata": {},
   "outputs": [],
   "source": []
  }
 ],
 "metadata": {
  "kernelspec": {
   "display_name": "Python 3 (ipykernel)",
   "language": "python",
   "name": "python3"
  },
  "language_info": {
   "codemirror_mode": {
    "name": "ipython",
    "version": 3
   },
   "file_extension": ".py",
   "mimetype": "text/x-python",
   "name": "python",
   "nbconvert_exporter": "python",
   "pygments_lexer": "ipython3",
   "version": "3.9.12"
  }
 },
 "nbformat": 4,
 "nbformat_minor": 5
}
