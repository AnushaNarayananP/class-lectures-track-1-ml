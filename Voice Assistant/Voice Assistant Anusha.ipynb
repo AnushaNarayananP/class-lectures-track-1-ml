{
 "cells": [
  {
   "cell_type": "raw",
   "id": "900fb64a",
   "metadata": {},
   "source": [
    "imports"
   ]
  },
  {
   "cell_type": "code",
   "execution_count": 1,
   "id": "b2107e1b",
   "metadata": {},
   "outputs": [],
   "source": [
    "import speech_recognition as sr\n",
    "from gtts import gTTS\n",
    "import playsound"
   ]
  },
  {
   "cell_type": "code",
   "execution_count": 2,
   "id": "7afd1cd1",
   "metadata": {},
   "outputs": [],
   "source": [
    "import os"
   ]
  },
  {
   "cell_type": "code",
   "execution_count": 15,
   "id": "8ca6f224",
   "metadata": {},
   "outputs": [],
   "source": [
    "from datetime import date,time,datetime"
   ]
  },
  {
   "cell_type": "code",
   "execution_count": 25,
   "id": "15ca9574",
   "metadata": {},
   "outputs": [],
   "source": [
    "import requests"
   ]
  },
  {
   "cell_type": "code",
   "execution_count": 51,
   "id": "2642f5e4",
   "metadata": {},
   "outputs": [],
   "source": [
    "import yfinance as yf"
   ]
  },
  {
   "cell_type": "code",
   "execution_count": 71,
   "id": "9a7b5aa2",
   "metadata": {},
   "outputs": [],
   "source": [
    "import wolframalpha"
   ]
  },
  {
   "cell_type": "raw",
   "id": "5f5fd6ba",
   "metadata": {},
   "source": [
    "1. Voice Assistant Coding Section"
   ]
  },
  {
   "cell_type": "code",
   "execution_count": 33,
   "id": "3a88717d",
   "metadata": {},
   "outputs": [],
   "source": [
    "crypto_api='https://api.geckoterminal.com/api/v2/networks/eth/dexes?page=1'"
   ]
  },
  {
   "cell_type": "code",
   "execution_count": 72,
   "id": "424e1700",
   "metadata": {},
   "outputs": [],
   "source": [
    "wolfram_api='UV7X63-L25EJ6R2WV'"
   ]
  },
  {
   "cell_type": "code",
   "execution_count": 77,
   "id": "8cb3b46c",
   "metadata": {},
   "outputs": [],
   "source": [
    "def wolfram_alpha_country_capital(text):\n",
    "    client = wolframalpha.Client(wolfram_api)\n",
    "    result = client.query(text)\n",
    "    answer=next(result.results).text\n",
    "    answer_split=answer.split()\n",
    "    capital_result = 'The capital of ' + answer_split[-1] + ' is '+ answer_split[0]\n",
    "    anusha_talk(capital_result)"
   ]
  },
  {
   "cell_type": "code",
   "execution_count": 83,
   "id": "45f946bc",
   "metadata": {},
   "outputs": [],
   "source": [
    "def wolfram_alpha_calculator(text):\n",
    "    client = wolframalpha.Client(wolfram_api)\n",
    "    result = client.query(text)\n",
    "    answer=next(result.results).text\n",
    "    print(answer)\n",
    "    anusha_talk('The answer is '+ answer)"
   ]
  },
  {
   "cell_type": "code",
   "execution_count": 88,
   "id": "689f2fa7",
   "metadata": {},
   "outputs": [],
   "source": [
    "def wolfram_alpha_president(text):\n",
    "    \n",
    "    client = wolframalpha.Client(wolfram_api)\n",
    "    result = client.query(text)\n",
    "    answer=next(result.results).text\n",
    "    anusha_talk('The President is ' + answer)"
   ]
  },
  {
   "cell_type": "markdown",
   "id": "8cc3815c",
   "metadata": {},
   "source": [
    "convert speech to text as we can use text for the next step"
   ]
  },
  {
   "cell_type": "code",
   "execution_count": 3,
   "id": "cad2b335",
   "metadata": {},
   "outputs": [],
   "source": [
    "def anusha_listen():\n",
    "    r= sr.Recognizer()\n",
    "    with sr.Microphone() as source:\n",
    "        audio= r.listen(source)\n",
    "        text =''\n",
    "        try:\n",
    "            text= r.recognize_google(audio)\n",
    "        except sr.RequestError as re:\n",
    "            print(re)\n",
    "        except sr.UnknownValueError as uve:\n",
    "            print(uve)\n",
    "        except sr.WaitTimeoutError as wte:\n",
    "            print(wte)\n",
    "    text= text.lower()\n",
    "    return text\n",
    "\n",
    "    "
   ]
  },
  {
   "cell_type": "markdown",
   "id": "6a91e701",
   "metadata": {},
   "source": [
    "convert text to speech"
   ]
  },
  {
   "cell_type": "code",
   "execution_count": null,
   "id": "706e6e31",
   "metadata": {},
   "outputs": [],
   "source": []
  },
  {
   "cell_type": "code",
   "execution_count": 18,
   "id": "506f4d66",
   "metadata": {},
   "outputs": [],
   "source": [
    "\n",
    "def anusha_talk(text):\n",
    "    now = datetime.now()\n",
    "    today_date = date.today()\n",
    "    today_time = now.strftime(\"%H_%M_%S\")\n",
    "    file_name ='file_'+str(today_date)+'_'+str(today_time)+'.mp3'\n",
    "    tts=gTTS(text=text,lang='en')\n",
    "    tts.save(file_name)\n",
    "    playsound.playsound(file_name)\n",
    "    os.remove(file_name)"
   ]
  },
  {
   "cell_type": "markdown",
   "id": "c3aeaac3",
   "metadata": {},
   "source": [
    "create a function which will give us reply based on input text"
   ]
  },
  {
   "cell_type": "code",
   "execution_count": 89,
   "id": "08667afc",
   "metadata": {},
   "outputs": [],
   "source": [
    "def anusha_reply(text):\n",
    "    if 'what' in text and 'name' in text :\n",
    "        anusha_talk('My name is Anusha and I am your personal assistant')\n",
    "    elif 'why' in text and 'name' in text:\n",
    "        anusha_talk('I was created to work for you. I dont need a break and I will never ask for days off.')\n",
    "    elif 'when' in text and 'sleep' in text :\n",
    "        anusha_talk('I never sleep .I was created to support you 24 hours')\n",
    "    elif 'you' in text and 'stupid' in text:\n",
    "        anusha_talk('No, I am not stupid . My grandmother told me that there are no stupid person out there'+'I try to give you my best everyday continously.')\n",
    "    elif 'favourite' in text or 'favorite' in text and 'movie' in text:\n",
    "        anusha_talk('My favourite movie is The Life of a Pie . I watch it with my friends all the time')\n",
    "    elif 'ethereum' in text:\n",
    "        response=requests.get(crypto_api)\n",
    "        crypto_json= response.json()\n",
    "        \n",
    "        def crypto(a):\n",
    "            l=[]\n",
    "            for i in range(len(a)):\n",
    "                l.append(a[i ]['id'])\n",
    "            return l\n",
    "        anusha_talk('current dexes of ethereum are ' + str(crypto(crypto_json['data'])))\n",
    "    elif 'apple' in text:\n",
    "        apple=yf.Ticker('AAPL')\n",
    "        anusha_talk('At this moment you can buy an apple share of '+ str(apple.info['dayHigh'])+' US dollars')\n",
    "    elif 'tesla' in text:\n",
    "        tsla=yf.Ticker('TSLA')\n",
    "        anusha_talk('At this moment you can buy an tesla share of '+str(tsla.info['dayHigh'])+' US dollars')\n",
    "    elif 'google' in text:\n",
    "        google=yf.Ticker('GOOG')\n",
    "        anusha_talk('At this moment you can buy an google share of '+str(google.info['dayHigh'])+' US dollars')\n",
    "    elif 'meta' in text:\n",
    "        meta=yf.Ticker('META')\n",
    "        anusha_talk('At this moment you can buy an meta share of '+str(meta.info['dayHigh'])+' US dollars')\n",
    "    elif  'capital' in text and 'of' in text:\n",
    "        wolfram_alpha_country_capital(text)\n",
    "    elif '+' in text or '-' in text or 'multiply' in text or 'multiplied' in text or 'divide' in text or 'root' in text :\n",
    "        wolfram_alpha_calculator(text)\n",
    "    elif 'who' in text and 'president' in text :\n",
    "        wolfram_alpha_president(text)\n",
    "    elif 'stop' in text:\n",
    "        anusha_talk('It was a pleasure to help you , I wish you a wonderful day')\n",
    "    else :\n",
    "        anusha_talk('Excuse me, I did not get that .Can you please repeat it')"
   ]
  },
  {
   "cell_type": "raw",
   "id": "a4aabbae",
   "metadata": {},
   "source": [
    "2. Voice Assistant Execution Section"
   ]
  },
  {
   "cell_type": "code",
   "execution_count": 22,
   "id": "400b7aeb",
   "metadata": {},
   "outputs": [],
   "source": [
    "def execute_assistant():\n",
    "    anusha_talk('Hi ,I am here to support you .Can you please tell me your name?')\n",
    "    listen_name = anusha_listen()\n",
    "    anusha_talk('Hi '+ listen_name + '.  what can I do for you?')\n",
    "    \n",
    "    while True:\n",
    "        listen_anusha=anusha_listen()\n",
    "        print(listen_anusha)\n",
    "        anusha_reply(listen_anusha)\n",
    "        if 'stop' in listen_anusha:\n",
    "            break"
   ]
  },
  {
   "cell_type": "code",
   "execution_count": 85,
   "id": "ec209bef",
   "metadata": {},
   "outputs": [
    {
     "name": "stdout",
     "output_type": "stream",
     "text": [
      "\n",
      "\n",
      "tell me the route of 24\n",
      "tell me the route of 24\n",
      "\n",
      "\n",
      "root of 24\n",
      "2 sqrt(6)\n",
      "\n",
      "\n",
      "stop\n"
     ]
    }
   ],
   "source": [
    "execute_assistant()"
   ]
  },
  {
   "cell_type": "raw",
   "id": "c9c94003",
   "metadata": {},
   "source": [
    "3. Example and Preparation Section"
   ]
  },
  {
   "cell_type": "code",
   "execution_count": 87,
   "id": "9b8c099f",
   "metadata": {},
   "outputs": [
    {
     "name": "stdout",
     "output_type": "stream",
     "text": [
      "The President is Vladimir Putin (from 07/05/2012 to present)\n"
     ]
    }
   ],
   "source": [
    "client = wolframalpha.Client(wolfram_api)\n",
    "result = client.query('Who is current president of Russia')\n",
    "answer=next(result.results).text\n",
    "print('The President is ' + answer)"
   ]
  },
  {
   "cell_type": "code",
   "execution_count": null,
   "id": "de5c53b8",
   "metadata": {},
   "outputs": [],
   "source": [
    "\n",
    "    \n",
    "        "
   ]
  }
 ],
 "metadata": {
  "kernelspec": {
   "display_name": "Python 3 (ipykernel)",
   "language": "python",
   "name": "python3"
  },
  "language_info": {
   "codemirror_mode": {
    "name": "ipython",
    "version": 3
   },
   "file_extension": ".py",
   "mimetype": "text/x-python",
   "name": "python",
   "nbconvert_exporter": "python",
   "pygments_lexer": "ipython3",
   "version": "3.9.12"
  }
 },
 "nbformat": 4,
 "nbformat_minor": 5
}
