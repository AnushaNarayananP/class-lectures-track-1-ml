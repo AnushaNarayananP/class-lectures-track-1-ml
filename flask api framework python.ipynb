{
 "cells": [
  {
   "cell_type": "code",
   "execution_count": 3,
   "id": "cba364d5",
   "metadata": {},
   "outputs": [
    {
     "name": "stdout",
     "output_type": "stream",
     "text": [
      "Collecting flask-restful\n",
      "  Downloading Flask_RESTful-0.3.9-py2.py3-none-any.whl (25 kB)\n",
      "Requirement already satisfied: six>=1.3.0 in c:\\users\\lenovo\\anaconda3\\lib\\site-packages (from flask-restful) (1.16.0)\n",
      "Requirement already satisfied: pytz in c:\\users\\lenovo\\anaconda3\\lib\\site-packages (from flask-restful) (2021.3)\n",
      "Collecting aniso8601>=0.82\n",
      "  Downloading aniso8601-9.0.1-py2.py3-none-any.whl (52 kB)\n",
      "Requirement already satisfied: Flask>=0.8 in c:\\users\\lenovo\\anaconda3\\lib\\site-packages (from flask-restful) (1.1.2)\n",
      "Requirement already satisfied: click>=5.1 in c:\\users\\lenovo\\anaconda3\\lib\\site-packages (from Flask>=0.8->flask-restful) (8.0.4)\n",
      "Requirement already satisfied: itsdangerous>=0.24 in c:\\users\\lenovo\\anaconda3\\lib\\site-packages (from Flask>=0.8->flask-restful) (2.0.1)\n",
      "Requirement already satisfied: Werkzeug>=0.15 in c:\\users\\lenovo\\anaconda3\\lib\\site-packages (from Flask>=0.8->flask-restful) (2.0.3)\n",
      "Requirement already satisfied: Jinja2>=2.10.1 in c:\\users\\lenovo\\anaconda3\\lib\\site-packages (from Flask>=0.8->flask-restful) (2.11.3)\n",
      "Requirement already satisfied: colorama in c:\\users\\lenovo\\anaconda3\\lib\\site-packages (from click>=5.1->Flask>=0.8->flask-restful) (0.4.4)\n",
      "Requirement already satisfied: MarkupSafe>=0.23 in c:\\users\\lenovo\\anaconda3\\lib\\site-packages (from Jinja2>=2.10.1->Flask>=0.8->flask-restful) (2.0.1)\n",
      "Installing collected packages: aniso8601, flask-restful\n",
      "Successfully installed aniso8601-9.0.1 flask-restful-0.3.9\n"
     ]
    }
   ],
   "source": [
    " !pip install flask-restful"
   ]
  },
  {
   "cell_type": "code",
   "execution_count": 5,
   "id": "8e5adfcc",
   "metadata": {},
   "outputs": [
    {
     "name": "stdout",
     "output_type": "stream",
     "text": [
      " * Serving Flask app \"__main__\" (lazy loading)\n",
      " * Environment: production\n",
      "\u001b[31m   WARNING: This is a development server. Do not use it in a production deployment.\u001b[0m\n",
      "\u001b[2m   Use a production WSGI server instead.\u001b[0m\n",
      " * Debug mode: on\n"
     ]
    },
    {
     "name": "stderr",
     "output_type": "stream",
     "text": [
      " * Restarting with watchdog (windowsapi)\n"
     ]
    },
    {
     "ename": "SystemExit",
     "evalue": "1",
     "output_type": "error",
     "traceback": [
      "An exception has occurred, use %tb to see the full traceback.\n",
      "\u001b[1;31mSystemExit\u001b[0m\u001b[1;31m:\u001b[0m 1\n"
     ]
    }
   ],
   "source": [
    "# Using flask to make an api\n",
    "# import necessary libraries and functions\n",
    "from flask import Flask, jsonify, request\n",
    "\n",
    "# creating a Flask app\n",
    "app = Flask(__name__)\n",
    "\n",
    "# on the terminal type: curl http://127.0.0.1:5000/\n",
    "# returns hello world when we use GET.\n",
    "# returns the data that we send when we use POST.\n",
    "@app.route('/', methods = ['GET', 'POST'])\n",
    "def home():\n",
    "\tif(request.method == 'GET'):\n",
    "\n",
    "\t\tdata = \"hello world\"\n",
    "\t\treturn jsonify({'data': data})\n",
    "\n",
    "\n",
    "# A simple function to calculate the square of a number\n",
    "# the number to be squared is sent in the URL when we use GET\n",
    "# on the terminal type: curl http://127.0.0.1:5000 / home / 10\n",
    "# this returns 100 (square of 10)\n",
    "@app.route('/home/<int:num>', methods = ['GET'])\n",
    "def disp(num):\n",
    "\n",
    "\treturn jsonify({'data': num**2})\n",
    "\n",
    "\n",
    "# driver function\n",
    "if __name__ == '__main__':\n",
    "\n",
    "\tapp.run(debug = True)\n"
   ]
  },
  {
   "cell_type": "code",
   "execution_count": 4,
   "id": "63ede7c4",
   "metadata": {},
   "outputs": [
    {
     "name": "stdout",
     "output_type": "stream",
     "text": [
      " * Serving Flask app \"__main__\" (lazy loading)\n",
      " * Environment: production\n",
      "\u001b[31m   WARNING: This is a development server. Do not use it in a production deployment.\u001b[0m\n",
      "\u001b[2m   Use a production WSGI server instead.\u001b[0m\n",
      " * Debug mode: on\n"
     ]
    },
    {
     "name": "stderr",
     "output_type": "stream",
     "text": [
      " * Restarting with watchdog (windowsapi)\n"
     ]
    },
    {
     "ename": "SystemExit",
     "evalue": "1",
     "output_type": "error",
     "traceback": [
      "An exception has occurred, use %tb to see the full traceback.\n",
      "\u001b[1;31mSystemExit\u001b[0m\u001b[1;31m:\u001b[0m 1\n"
     ]
    },
    {
     "name": "stderr",
     "output_type": "stream",
     "text": [
      "C:\\Users\\LENOVO\\anaconda3\\lib\\site-packages\\IPython\\core\\interactiveshell.py:3377: UserWarning: To exit: use 'exit', 'quit', or Ctrl-D.\n",
      "  warn(\"To exit: use 'exit', 'quit', or Ctrl-D.\", stacklevel=1)\n"
     ]
    }
   ],
   "source": [
    "# using flask_restful\n",
    "from flask import Flask, jsonify, request\n",
    "from flask_restful import Resource, Api\n",
    "\n",
    "# creating the flask app\n",
    "app = Flask(__name__)\n",
    "# creating an API object\n",
    "api = Api(app)\n",
    "\n",
    "# making a class for a particular resource\n",
    "# the get, post methods correspond to get and post requests\n",
    "# they are automatically mapped by flask_restful.\n",
    "# other methods include put, delete, etc.\n",
    "class Hello(Resource):\n",
    "\n",
    "\t# corresponds to the GET request.\n",
    "\t# this function is called whenever there\n",
    "\t# is a GET request for this resource\n",
    "\tdef get(self):\n",
    "\n",
    "\t\treturn jsonify({'message': 'hello world'})\n",
    "\n",
    "\t# Corresponds to POST request\n",
    "\tdef post(self):\n",
    "\t\t\n",
    "\t\tdata = request.get_json()\t # status code\n",
    "\t\treturn jsonify({'data': data}), 201\n",
    "\n",
    "\n",
    "# another resource to calculate the square of a number\n",
    "class Square(Resource):\n",
    "\n",
    "\tdef get(self, num):\n",
    "\n",
    "\t\treturn jsonify({'square': num**2})\n",
    "\n",
    "\n",
    "# adding the defined resources along with their corresponding urls\n",
    "api.add_resource(Hello, '/')\n",
    "api.add_resource(Square, '/square/<int:num>')\n",
    "\n",
    "\n",
    "# driver function\n",
    "if __name__ == '__main__':\n",
    "\n",
    "\tapp.run(debug = True)\n"
   ]
  },
  {
   "cell_type": "code",
   "execution_count": null,
   "id": "381167aa",
   "metadata": {},
   "outputs": [],
   "source": []
  }
 ],
 "metadata": {
  "kernelspec": {
   "display_name": "Python 3 (ipykernel)",
   "language": "python",
   "name": "python3"
  },
  "language_info": {
   "codemirror_mode": {
    "name": "ipython",
    "version": 3
   },
   "file_extension": ".py",
   "mimetype": "text/x-python",
   "name": "python",
   "nbconvert_exporter": "python",
   "pygments_lexer": "ipython3",
   "version": "3.9.12"
  }
 },
 "nbformat": 4,
 "nbformat_minor": 5
}
