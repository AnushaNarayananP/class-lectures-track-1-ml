{
 "cells": [
  {
   "cell_type": "markdown",
   "id": "f3f72fdb",
   "metadata": {},
   "source": [
    "polynomial regression"
   ]
  },
  {
   "cell_type": "code",
   "execution_count": 207,
   "id": "ea2f530b",
   "metadata": {},
   "outputs": [],
   "source": [
    "x=[1,2,3,4,5,6,7,8,9,10,11,12,13,14,15,16,17]\n",
    "y=[100,90,80,60,60,55,60,65,70,70,75,76,78,90,99,99,100]"
   ]
  },
  {
   "cell_type": "markdown",
   "id": "7fb85114",
   "metadata": {},
   "source": [
    "importing libraries"
   ]
  },
  {
   "cell_type": "code",
   "execution_count": 208,
   "id": "4971a215",
   "metadata": {},
   "outputs": [],
   "source": [
    "import pandas as pd\n",
    "import numpy as np\n",
    "import matplotlib.pyplot as plt\n",
    "from sklearn.linear_model import LinearRegression\n",
    "from sklearn.preprocessing import PolynomialFeatures "
   ]
  },
  {
   "cell_type": "markdown",
   "id": "c8410110",
   "metadata": {},
   "source": [
    "data visualization"
   ]
  },
  {
   "cell_type": "code",
   "execution_count": 209,
   "id": "86213ff6",
   "metadata": {},
   "outputs": [
    {
     "data": {
      "image/png": "[encoded data removed]",
      "text/plain": [
       "<Figure size 432x288 with 1 Axes>"
      ]
     },
     "metadata": {
      "needs_background": "light"
     },
     "output_type": "display_data"
    }
   ],
   "source": [
    "plt.scatter(x,y)\n",
    "plt.show()"
   ]
  },
  {
   "cell_type": "markdown",
   "id": "d94bca92",
   "metadata": {},
   "source": [
    "changing list to dataframe"
   ]
  },
  {
   "cell_type": "code",
   "execution_count": 210,
   "id": "71d1e6ac",
   "metadata": {},
   "outputs": [],
   "source": [
    "df1 = pd.Series(x,name='Time')\n",
    "df2 = pd.Series(y,name='Speed')\n",
    "df3 = pd.concat([df1,df2],axis =1)"
   ]
  },
  {
   "cell_type": "code",
   "execution_count": 211,
   "id": "53fd26f2",
   "metadata": {},
   "outputs": [
    {
     "data": {
      "text/plain": [
       "0      1\n",
       "1      2\n",
       "2      3\n",
       "3      4\n",
       "4      5\n",
       "5      6\n",
       "6      7\n",
       "7      8\n",
       "8      9\n",
       "9     10\n",
       "10    11\n",
       "11    12\n",
       "12    13\n",
       "13    14\n",
       "14    15\n",
       "15    16\n",
       "16    17\n",
       "Name: Time, dtype: int64"
      ]
     },
     "execution_count": 211,
     "metadata": {},
     "output_type": "execute_result"
    }
   ],
   "source": [
    "df1"
   ]
  },
  {
   "cell_type": "code",
   "execution_count": 212,
   "id": "8c25e475",
   "metadata": {},
   "outputs": [
    {
     "data": {
      "text/html": [
       "<div>\n",
       "<style scoped>\n",
       "    .dataframe tbody tr th:only-of-type {\n",
       "        vertical-align: middle;\n",
       "    }\n",
       "\n",
       "    .dataframe tbody tr th {\n",
       "        vertical-align: top;\n",
       "    }\n",
       "\n",
       "    .dataframe thead th {\n",
       "        text-align: right;\n",
       "    }\n",
       "</style>\n",
       "<table border=\"1\" class=\"dataframe\">\n",
       "  <thead>\n",
       "    <tr style=\"text-align: right;\">\n",
       "      <th></th>\n",
       "      <th>Time</th>\n",
       "      <th>Speed</th>\n",
       "    </tr>\n",
       "  </thead>\n",
       "  <tbody>\n",
       "    <tr>\n",
       "      <th>0</th>\n",
       "      <td>1</td>\n",
       "      <td>100</td>\n",
       "    </tr>\n",
       "    <tr>\n",
       "      <th>1</th>\n",
       "      <td>2</td>\n",
       "      <td>90</td>\n",
       "    </tr>\n",
       "    <tr>\n",
       "      <th>2</th>\n",
       "      <td>3</td>\n",
       "      <td>80</td>\n",
       "    </tr>\n",
       "    <tr>\n",
       "      <th>3</th>\n",
       "      <td>4</td>\n",
       "      <td>60</td>\n",
       "    </tr>\n",
       "    <tr>\n",
       "      <th>4</th>\n",
       "      <td>5</td>\n",
       "      <td>60</td>\n",
       "    </tr>\n",
       "    <tr>\n",
       "      <th>5</th>\n",
       "      <td>6</td>\n",
       "      <td>55</td>\n",
       "    </tr>\n",
       "    <tr>\n",
       "      <th>6</th>\n",
       "      <td>7</td>\n",
       "      <td>60</td>\n",
       "    </tr>\n",
       "    <tr>\n",
       "      <th>7</th>\n",
       "      <td>8</td>\n",
       "      <td>65</td>\n",
       "    </tr>\n",
       "    <tr>\n",
       "      <th>8</th>\n",
       "      <td>9</td>\n",
       "      <td>70</td>\n",
       "    </tr>\n",
       "    <tr>\n",
       "      <th>9</th>\n",
       "      <td>10</td>\n",
       "      <td>70</td>\n",
       "    </tr>\n",
       "    <tr>\n",
       "      <th>10</th>\n",
       "      <td>11</td>\n",
       "      <td>75</td>\n",
       "    </tr>\n",
       "    <tr>\n",
       "      <th>11</th>\n",
       "      <td>12</td>\n",
       "      <td>76</td>\n",
       "    </tr>\n",
       "    <tr>\n",
       "      <th>12</th>\n",
       "      <td>13</td>\n",
       "      <td>78</td>\n",
       "    </tr>\n",
       "    <tr>\n",
       "      <th>13</th>\n",
       "      <td>14</td>\n",
       "      <td>90</td>\n",
       "    </tr>\n",
       "    <tr>\n",
       "      <th>14</th>\n",
       "      <td>15</td>\n",
       "      <td>99</td>\n",
       "    </tr>\n",
       "    <tr>\n",
       "      <th>15</th>\n",
       "      <td>16</td>\n",
       "      <td>99</td>\n",
       "    </tr>\n",
       "    <tr>\n",
       "      <th>16</th>\n",
       "      <td>17</td>\n",
       "      <td>100</td>\n",
       "    </tr>\n",
       "  </tbody>\n",
       "</table>\n",
       "</div>"
      ],
      "text/plain": [
       "    Time  Speed\n",
       "0      1    100\n",
       "1      2     90\n",
       "2      3     80\n",
       "3      4     60\n",
       "4      5     60\n",
       "5      6     55\n",
       "6      7     60\n",
       "7      8     65\n",
       "8      9     70\n",
       "9     10     70\n",
       "10    11     75\n",
       "11    12     76\n",
       "12    13     78\n",
       "13    14     90\n",
       "14    15     99\n",
       "15    16     99\n",
       "16    17    100"
      ]
     },
     "execution_count": 212,
     "metadata": {},
     "output_type": "execute_result"
    }
   ],
   "source": [
    "df3"
   ]
  },
  {
   "cell_type": "code",
   "execution_count": 213,
   "id": "c7625df0",
   "metadata": {},
   "outputs": [],
   "source": [
    "x=df3[['Time']]\n",
    "y=df3[['Speed']]"
   ]
  },
  {
   "cell_type": "markdown",
   "id": "c811567f",
   "metadata": {},
   "source": [
    "y= mx + c     is straight line"
   ]
  },
  {
   "cell_type": "code",
   "execution_count": 214,
   "id": "c7ff7bea",
   "metadata": {},
   "outputs": [],
   "source": [
    "from sklearn.preprocessing import PolynomialFeatures "
   ]
  },
  {
   "cell_type": "markdown",
   "id": "714d6931",
   "metadata": {},
   "source": [
    "degree 2 "
   ]
  },
  {
   "cell_type": "code",
   "execution_count": 215,
   "id": "475429fc",
   "metadata": {},
   "outputs": [],
   "source": [
    "poly =PolynomialFeatures(degree =2)"
   ]
  },
  {
   "cell_type": "code",
   "execution_count": 216,
   "id": "35e63fdd",
   "metadata": {},
   "outputs": [
    {
     "data": {
      "text/plain": [
       "array([[  1.,   1.,   1.],\n",
       "       [  1.,   2.,   4.],\n",
       "       [  1.,   3.,   9.],\n",
       "       [  1.,   4.,  16.],\n",
       "       [  1.,   5.,  25.],\n",
       "       [  1.,   6.,  36.],\n",
       "       [  1.,   7.,  49.],\n",
       "       [  1.,   8.,  64.],\n",
       "       [  1.,   9.,  81.],\n",
       "       [  1.,  10., 100.],\n",
       "       [  1.,  11., 121.],\n",
       "       [  1.,  12., 144.],\n",
       "       [  1.,  13., 169.],\n",
       "       [  1.,  14., 196.],\n",
       "       [  1.,  15., 225.],\n",
       "       [  1.,  16., 256.],\n",
       "       [  1.,  17., 289.]])"
      ]
     },
     "execution_count": 216,
     "metadata": {},
     "output_type": "execute_result"
    }
   ],
   "source": [
    "df_poly =poly.fit_transform(x)\n",
    "df_poly"
   ]
  },
  {
   "cell_type": "code",
   "execution_count": 217,
   "id": "46aec596",
   "metadata": {},
   "outputs": [
    {
     "data": {
      "text/plain": [
       "LinearRegression()"
      ]
     },
     "execution_count": 217,
     "metadata": {},
     "output_type": "execute_result"
    }
   ],
   "source": [
    "model =LinearRegression()\n",
    "model.fit(df_poly, y)"
   ]
  },
  {
   "cell_type": "code",
   "execution_count": 218,
   "id": "a915af79",
   "metadata": {},
   "outputs": [
    {
     "data": {
      "text/plain": [
       "array([[ 0.        , -9.15879773,  0.57649639]])"
      ]
     },
     "execution_count": 218,
     "metadata": {},
     "output_type": "execute_result"
    }
   ],
   "source": [
    "coefficient=model.coef_\n",
    "coefficient"
   ]
  },
  {
   "cell_type": "code",
   "execution_count": 219,
   "id": "87a36ba7",
   "metadata": {},
   "outputs": [
    {
     "data": {
      "text/plain": [
       "array([99.95588235])"
      ]
     },
     "execution_count": 219,
     "metadata": {},
     "output_type": "execute_result"
    }
   ],
   "source": [
    "intercept = model.intercept_\n",
    "intercept   "
   ]
  },
  {
   "cell_type": "code",
   "execution_count": 220,
   "id": "4ebdc605",
   "metadata": {},
   "outputs": [
    {
     "data": {
      "text/plain": [
       "array([ 1. ,  1.1,  1.2,  1.3,  1.4,  1.5,  1.6,  1.7,  1.8,  1.9,  2. ,\n",
       "        2.1,  2.2,  2.3,  2.4,  2.5,  2.6,  2.7,  2.8,  2.9,  3. ,  3.1,\n",
       "        3.2,  3.3,  3.4,  3.5,  3.6,  3.7,  3.8,  3.9,  4. ,  4.1,  4.2,\n",
       "        4.3,  4.4,  4.5,  4.6,  4.7,  4.8,  4.9,  5. ,  5.1,  5.2,  5.3,\n",
       "        5.4,  5.5,  5.6,  5.7,  5.8,  5.9,  6. ,  6.1,  6.2,  6.3,  6.4,\n",
       "        6.5,  6.6,  6.7,  6.8,  6.9,  7. ,  7.1,  7.2,  7.3,  7.4,  7.5,\n",
       "        7.6,  7.7,  7.8,  7.9,  8. ,  8.1,  8.2,  8.3,  8.4,  8.5,  8.6,\n",
       "        8.7,  8.8,  8.9,  9. ,  9.1,  9.2,  9.3,  9.4,  9.5,  9.6,  9.7,\n",
       "        9.8,  9.9, 10. , 10.1, 10.2, 10.3, 10.4, 10.5, 10.6, 10.7, 10.8,\n",
       "       10.9, 11. , 11.1, 11.2, 11.3, 11.4, 11.5, 11.6, 11.7, 11.8, 11.9,\n",
       "       12. , 12.1, 12.2, 12.3, 12.4, 12.5, 12.6, 12.7, 12.8, 12.9, 13. ,\n",
       "       13.1, 13.2, 13.3, 13.4, 13.5, 13.6, 13.7, 13.8, 13.9, 14. , 14.1,\n",
       "       14.2, 14.3, 14.4, 14.5, 14.6, 14.7, 14.8, 14.9, 15. , 15.1, 15.2,\n",
       "       15.3, 15.4, 15.5, 15.6, 15.7, 15.8, 15.9, 16. , 16.1, 16.2, 16.3,\n",
       "       16.4, 16.5, 16.6, 16.7, 16.8, 16.9, 17. , 17.1, 17.2, 17.3, 17.4,\n",
       "       17.5, 17.6, 17.7, 17.8, 17.9])"
      ]
     },
     "execution_count": 220,
     "metadata": {},
     "output_type": "execute_result"
    }
   ],
   "source": [
    "line = np.arange(1,18,0.1)\n",
    "line"
   ]
  },
  {
   "cell_type": "code",
   "execution_count": 221,
   "id": "19a32b77",
   "metadata": {},
   "outputs": [
    {
     "data": {
      "text/plain": [
       "array([ 91.37358101,  90.57876548,  89.79547988,  89.0237242 ,\n",
       "        88.26349845,  87.51480263,  86.77763674,  86.05200077,\n",
       "        85.33789474,  84.63531863,  83.94427245,  83.26475619,\n",
       "        82.59676987,  81.94031347,  81.295387  ,  80.66199045,\n",
       "        80.04012384,  79.42978715,  78.83098039,  78.24370356,\n",
       "        77.66795666,  77.10373968,  76.55105263,  76.00989551,\n",
       "        75.48026832,  74.96217105,  74.45560372,  73.96056631,\n",
       "        73.47705882,  73.00508127,  72.54463364,  72.09571594,\n",
       "        71.65832817,  71.23247033,  70.81814241,  70.41534443,\n",
       "        70.02407637,  69.64433824,  69.27613003,  68.91945175,\n",
       "        68.57430341,  68.24068498,  67.91859649,  67.60803793,\n",
       "        67.30900929,  67.02151058,  66.7455418 ,  66.48110294,\n",
       "        66.22819401,  65.98681502,  65.75696594,  65.5386468 ,\n",
       "        65.33185759,  65.1365983 ,  64.95286894,  64.7806695 ,\n",
       "        64.62      ,  64.47086042,  64.33325077,  64.20717105,\n",
       "        64.09262126,  63.98960139,  63.89811146,  63.81815144,\n",
       "        63.74972136,  63.69282121,  63.64745098,  63.61361068,\n",
       "        63.59130031,  63.58051987,  63.58126935,  63.59354876,\n",
       "        63.6173581 ,  63.65269737,  63.69956656,  63.75796569,\n",
       "        63.82789474,  63.90935372,  64.00234262,  64.10686146,\n",
       "        64.22291022,  64.35048891,  64.48959752,  64.64023607,\n",
       "        64.80240454,  64.97610294,  65.16133127,  65.35808953,\n",
       "        65.56637771,  65.78619582,  66.01754386,  66.26042183,\n",
       "        66.51482972,  66.78076754,  67.05823529,  67.34723297,\n",
       "        67.64776058,  67.95981811,  68.28340557,  68.61852296,\n",
       "        68.96517028,  69.32334752,  69.6930547 ,  70.0742918 ,\n",
       "        70.46705882,  70.87135578,  71.28718266,  71.71453947,\n",
       "        72.15342621,  72.60384288,  73.06578947,  73.539266  ,\n",
       "        74.02427245,  74.52080882,  75.02887513,  75.54847136,\n",
       "        76.07959752,  76.62225361,  77.17643963,  77.74215557,\n",
       "        78.31940144,  78.90817724,  79.50848297,  80.12031863,\n",
       "        80.74368421,  81.37857972,  82.02500516,  82.68296053,\n",
       "        83.35244582,  84.03346104,  84.72600619,  85.43008127,\n",
       "        86.14568627,  86.87282121,  87.61148607,  88.36168086,\n",
       "        89.12340557,  89.89666022,  90.68144479,  91.47775929,\n",
       "        92.28560372,  93.10497807,  93.93588235,  94.77831656,\n",
       "        95.6322807 ,  96.49777477,  97.37479876,  98.26335268,\n",
       "        99.16343653, 100.07505031, 100.99819401, 101.93286765,\n",
       "       102.87907121, 103.8368047 , 104.80606811, 105.78686146,\n",
       "       106.77918473, 107.78303793, 108.79842105, 109.82533411,\n",
       "       110.86377709, 111.91375   , 112.97525284, 114.0482856 ,\n",
       "       115.1328483 , 116.22894092, 117.33656347, 118.45571594,\n",
       "       119.58639835, 120.72861068])"
      ]
     },
     "execution_count": 221,
     "metadata": {},
     "output_type": "execute_result"
    }
   ],
   "source": [
    "y_pred = intercept + coefficient[0][1]*line + coefficient[0][2]*line**2\n",
    "y_pred"
   ]
  },
  {
   "cell_type": "code",
   "execution_count": 222,
   "id": "fdbc9dde",
   "metadata": {},
   "outputs": [
    {
     "data": {
      "image/png": "[encoded data removed]",
      "text/plain": [
       "<Figure size 432x288 with 1 Axes>"
      ]
     },
     "metadata": {
      "needs_background": "light"
     },
     "output_type": "display_data"
    }
   ],
   "source": [
    "plt.scatter(x,y)\n",
    "plt.plot(line,y_pred,color = 'red')\n",
    "plt.show()"
   ]
  },
  {
   "cell_type": "code",
   "execution_count": 223,
   "id": "805510ed",
   "metadata": {},
   "outputs": [
    {
     "data": {
      "text/plain": [
       "0.8049137165831246"
      ]
     },
     "execution_count": 223,
     "metadata": {},
     "output_type": "execute_result"
    }
   ],
   "source": [
    "model.score(df_poly,y)"
   ]
  },
  {
   "cell_type": "code",
   "execution_count": 224,
   "id": "a21aaef1",
   "metadata": {},
   "outputs": [],
   "source": [
    "poly =PolynomialFeatures(degree =3)"
   ]
  },
  {
   "cell_type": "code",
   "execution_count": 225,
   "id": "b8de19b0",
   "metadata": {},
   "outputs": [
    {
     "data": {
      "text/plain": [
       "array([[1.000e+00, 1.000e+00, 1.000e+00, 1.000e+00],\n",
       "       [1.000e+00, 2.000e+00, 4.000e+00, 8.000e+00],\n",
       "       [1.000e+00, 3.000e+00, 9.000e+00, 2.700e+01],\n",
       "       [1.000e+00, 4.000e+00, 1.600e+01, 6.400e+01],\n",
       "       [1.000e+00, 5.000e+00, 2.500e+01, 1.250e+02],\n",
       "       [1.000e+00, 6.000e+00, 3.600e+01, 2.160e+02],\n",
       "       [1.000e+00, 7.000e+00, 4.900e+01, 3.430e+02],\n",
       "       [1.000e+00, 8.000e+00, 6.400e+01, 5.120e+02],\n",
       "       [1.000e+00, 9.000e+00, 8.100e+01, 7.290e+02],\n",
       "       [1.000e+00, 1.000e+01, 1.000e+02, 1.000e+03],\n",
       "       [1.000e+00, 1.100e+01, 1.210e+02, 1.331e+03],\n",
       "       [1.000e+00, 1.200e+01, 1.440e+02, 1.728e+03],\n",
       "       [1.000e+00, 1.300e+01, 1.690e+02, 2.197e+03],\n",
       "       [1.000e+00, 1.400e+01, 1.960e+02, 2.744e+03],\n",
       "       [1.000e+00, 1.500e+01, 2.250e+02, 3.375e+03],\n",
       "       [1.000e+00, 1.600e+01, 2.560e+02, 4.096e+03],\n",
       "       [1.000e+00, 1.700e+01, 2.890e+02, 4.913e+03]])"
      ]
     },
     "execution_count": 225,
     "metadata": {},
     "output_type": "execute_result"
    }
   ],
   "source": [
    "df_poly =poly.fit_transform(x)\n",
    "df_poly"
   ]
  },
  {
   "cell_type": "code",
   "execution_count": 226,
   "id": "45a711c9",
   "metadata": {},
   "outputs": [
    {
     "data": {
      "text/plain": [
       "LinearRegression()"
      ]
     },
     "execution_count": 226,
     "metadata": {},
     "output_type": "execute_result"
    }
   ],
   "source": [
    "model =LinearRegression()\n",
    "model.fit(df_poly, y)"
   ]
  },
  {
   "cell_type": "code",
   "execution_count": 227,
   "id": "8632c5ba",
   "metadata": {},
   "outputs": [
    {
     "data": {
      "text/plain": [
       "array([[  0.        , -21.46529928,   2.2378741 ,  -0.06153251]])"
      ]
     },
     "execution_count": 227,
     "metadata": {},
     "output_type": "execute_result"
    }
   ],
   "source": [
    "coefficient=model.coef_\n",
    "coefficient"
   ]
  },
  {
   "cell_type": "code",
   "execution_count": 228,
   "id": "9be413fe",
   "metadata": {},
   "outputs": [
    {
     "data": {
      "text/plain": [
       "array([121.])"
      ]
     },
     "execution_count": 228,
     "metadata": {},
     "output_type": "execute_result"
    }
   ],
   "source": [
    "intercept = model.intercept_\n",
    "intercept  "
   ]
  },
  {
   "cell_type": "code",
   "execution_count": 229,
   "id": "83bc63d7",
   "metadata": {},
   "outputs": [
    {
     "data": {
      "text/plain": [
       "array([ 1. ,  1.1,  1.2,  1.3,  1.4,  1.5,  1.6,  1.7,  1.8,  1.9,  2. ,\n",
       "        2.1,  2.2,  2.3,  2.4,  2.5,  2.6,  2.7,  2.8,  2.9,  3. ,  3.1,\n",
       "        3.2,  3.3,  3.4,  3.5,  3.6,  3.7,  3.8,  3.9,  4. ,  4.1,  4.2,\n",
       "        4.3,  4.4,  4.5,  4.6,  4.7,  4.8,  4.9,  5. ,  5.1,  5.2,  5.3,\n",
       "        5.4,  5.5,  5.6,  5.7,  5.8,  5.9,  6. ,  6.1,  6.2,  6.3,  6.4,\n",
       "        6.5,  6.6,  6.7,  6.8,  6.9,  7. ,  7.1,  7.2,  7.3,  7.4,  7.5,\n",
       "        7.6,  7.7,  7.8,  7.9,  8. ,  8.1,  8.2,  8.3,  8.4,  8.5,  8.6,\n",
       "        8.7,  8.8,  8.9,  9. ,  9.1,  9.2,  9.3,  9.4,  9.5,  9.6,  9.7,\n",
       "        9.8,  9.9, 10. , 10.1, 10.2, 10.3, 10.4, 10.5, 10.6, 10.7, 10.8,\n",
       "       10.9, 11. , 11.1, 11.2, 11.3, 11.4, 11.5, 11.6, 11.7, 11.8, 11.9,\n",
       "       12. , 12.1, 12.2, 12.3, 12.4, 12.5, 12.6, 12.7, 12.8, 12.9, 13. ,\n",
       "       13.1, 13.2, 13.3, 13.4, 13.5, 13.6, 13.7, 13.8, 13.9, 14. , 14.1,\n",
       "       14.2, 14.3, 14.4, 14.5, 14.6, 14.7, 14.8, 14.9, 15. , 15.1, 15.2,\n",
       "       15.3, 15.4, 15.5, 15.6, 15.7, 15.8, 15.9, 16. , 16.1, 16.2, 16.3,\n",
       "       16.4, 16.5, 16.6, 16.7, 16.8, 16.9, 17. , 17.1, 17.2, 17.3, 17.4,\n",
       "       17.5, 17.6, 17.7, 17.8, 17.9])"
      ]
     },
     "execution_count": 229,
     "metadata": {},
     "output_type": "execute_result"
    }
   ],
   "source": [
    "line1 = np.arange(1,18,0.1)\n",
    "line1"
   ]
  },
  {
   "cell_type": "code",
   "execution_count": 230,
   "id": "ac1d56c7",
   "metadata": {},
   "outputs": [
    {
     "data": {
      "text/plain": [
       "array([101.71104231, 100.01409868,  98.35785139,  96.74193124,\n",
       "        95.16596904,  93.62959559,  92.13244169,  90.67413816,\n",
       "        89.25431579,  87.87260539,  86.52863777,  85.22204373,\n",
       "        83.95245408,  82.71949961,  81.52281115,  80.36201948,\n",
       "        79.23675542,  78.14664977,  77.09133333,  76.07043692,\n",
       "        75.08359133,  74.13042737,  73.21057585,  72.32366757,\n",
       "        71.46933333,  70.64720395,  69.85691022,  69.09808295,\n",
       "        68.37035294,  67.67335101,  67.00670795,  66.37005457,\n",
       "        65.76302167,  65.18524007,  64.63634056,  64.11595395,\n",
       "        63.62371104,  63.15924265,  62.72217957,  62.31215261,\n",
       "        61.92879257,  61.57173026,  61.24059649,  60.93502206,\n",
       "        60.65463777,  60.39907443,  60.16796285,  59.96093382,\n",
       "        59.77761816,  59.61764667,  59.48065015,  59.36625942,\n",
       "        59.27410526,  59.2038185 ,  59.15502993,  59.12737036,\n",
       "        59.12047059,  59.13396143,  59.16747368,  59.22063816,\n",
       "        59.29308566,  59.38444698,  59.49435294,  59.62243434,\n",
       "        59.76832198,  59.93164667,  60.11203922,  60.30913042,\n",
       "        60.52255108,  60.75193202,  60.99690402,  61.25709791,\n",
       "        61.53214448,  61.82167454,  62.12531889,  62.44270833,\n",
       "        62.77347368,  63.11724574,  63.47365531,  63.8423332 ,\n",
       "        64.22291022,  64.61501716,  65.01828483,  65.43234404,\n",
       "        65.85682559,  66.29136029,  66.73557895,  67.18911236,\n",
       "        67.65159133,  68.12264667,  68.60190918,  69.08900967,\n",
       "        69.58357895,  70.08524781,  70.59364706,  71.10840751,\n",
       "        71.62915996,  72.15553522,  72.68716409,  73.22367737,\n",
       "        73.76470588,  74.30988042,  74.85883179,  75.41119079,\n",
       "        75.96658824,  76.52465493,  77.08502167,  77.64731927,\n",
       "        78.21117853,  78.77623026,  79.34210526,  79.90843434,\n",
       "        80.4748483 ,  81.04097794,  81.60645408,  82.17090751,\n",
       "        82.73396904,  83.29526948,  83.85443963,  84.41111029,\n",
       "        84.96491228,  85.51547639,  86.06243344,  86.60541422,\n",
       "        87.14404954,  87.6779702 ,  88.20680702,  88.73019079,\n",
       "        89.24775232,  89.75912242,  90.26393189,  90.76181153,\n",
       "        91.25239216,  91.73530457,  92.21017957,  92.67664796,\n",
       "        93.13434056,  93.58288816,  94.02192157,  94.45107159,\n",
       "        94.86996904,  95.27824471,  95.67552941,  96.06145395,\n",
       "        96.43564912,  96.79774574,  97.14737461,  97.48416654,\n",
       "        97.80775232,  98.11776277,  98.41382869,  98.69558088,\n",
       "        98.96265015,  99.21466731,  99.45126316,  99.6720685 ,\n",
       "        99.87671414, 100.06483088, 100.23604954, 100.3900009 ,\n",
       "       100.52631579, 100.644625  , 100.74455934, 100.82574961,\n",
       "       100.88782663, 100.93042118, 100.95316409, 100.95568615,\n",
       "       100.93761816, 100.89859094])"
      ]
     },
     "execution_count": 230,
     "metadata": {},
     "output_type": "execute_result"
    }
   ],
   "source": [
    "y_pred1 = intercept + coefficient[0][1]*line + coefficient[0][2]*line**2 + coefficient[0][3]*line**3\n",
    "y_pred1"
   ]
  },
  {
   "cell_type": "code",
   "execution_count": 231,
   "id": "dfbe20bc",
   "metadata": {},
   "outputs": [
    {
     "data": {
      "image/png": "[encoded data removed]",
      "text/plain": [
       "<Figure size 432x288 with 1 Axes>"
      ]
     },
     "metadata": {
      "needs_background": "light"
     },
     "output_type": "display_data"
    }
   ],
   "source": [
    "plt.scatter(x,y)\n",
    "plt.plot(line1,y_pred1,color = 'red')\n",
    "plt.show()"
   ]
  },
  {
   "cell_type": "code",
   "execution_count": 232,
   "id": "b765d719",
   "metadata": {},
   "outputs": [
    {
     "data": {
      "text/plain": [
       "array([[1.0000000e+00, 1.0000000e+00, 1.0000000e+00, 1.0000000e+00,\n",
       "        1.0000000e+00, 1.0000000e+00, 1.0000000e+00],\n",
       "       [1.0000000e+00, 2.0000000e+00, 4.0000000e+00, 8.0000000e+00,\n",
       "        1.6000000e+01, 3.2000000e+01, 6.4000000e+01],\n",
       "       [1.0000000e+00, 3.0000000e+00, 9.0000000e+00, 2.7000000e+01,\n",
       "        8.1000000e+01, 2.4300000e+02, 7.2900000e+02],\n",
       "       [1.0000000e+00, 4.0000000e+00, 1.6000000e+01, 6.4000000e+01,\n",
       "        2.5600000e+02, 1.0240000e+03, 4.0960000e+03],\n",
       "       [1.0000000e+00, 5.0000000e+00, 2.5000000e+01, 1.2500000e+02,\n",
       "        6.2500000e+02, 3.1250000e+03, 1.5625000e+04],\n",
       "       [1.0000000e+00, 6.0000000e+00, 3.6000000e+01, 2.1600000e+02,\n",
       "        1.2960000e+03, 7.7760000e+03, 4.6656000e+04],\n",
       "       [1.0000000e+00, 7.0000000e+00, 4.9000000e+01, 3.4300000e+02,\n",
       "        2.4010000e+03, 1.6807000e+04, 1.1764900e+05],\n",
       "       [1.0000000e+00, 8.0000000e+00, 6.4000000e+01, 5.1200000e+02,\n",
       "        4.0960000e+03, 3.2768000e+04, 2.6214400e+05],\n",
       "       [1.0000000e+00, 9.0000000e+00, 8.1000000e+01, 7.2900000e+02,\n",
       "        6.5610000e+03, 5.9049000e+04, 5.3144100e+05],\n",
       "       [1.0000000e+00, 1.0000000e+01, 1.0000000e+02, 1.0000000e+03,\n",
       "        1.0000000e+04, 1.0000000e+05, 1.0000000e+06],\n",
       "       [1.0000000e+00, 1.1000000e+01, 1.2100000e+02, 1.3310000e+03,\n",
       "        1.4641000e+04, 1.6105100e+05, 1.7715610e+06],\n",
       "       [1.0000000e+00, 1.2000000e+01, 1.4400000e+02, 1.7280000e+03,\n",
       "        2.0736000e+04, 2.4883200e+05, 2.9859840e+06],\n",
       "       [1.0000000e+00, 1.3000000e+01, 1.6900000e+02, 2.1970000e+03,\n",
       "        2.8561000e+04, 3.7129300e+05, 4.8268090e+06],\n",
       "       [1.0000000e+00, 1.4000000e+01, 1.9600000e+02, 2.7440000e+03,\n",
       "        3.8416000e+04, 5.3782400e+05, 7.5295360e+06],\n",
       "       [1.0000000e+00, 1.5000000e+01, 2.2500000e+02, 3.3750000e+03,\n",
       "        5.0625000e+04, 7.5937500e+05, 1.1390625e+07],\n",
       "       [1.0000000e+00, 1.6000000e+01, 2.5600000e+02, 4.0960000e+03,\n",
       "        6.5536000e+04, 1.0485760e+06, 1.6777216e+07],\n",
       "       [1.0000000e+00, 1.7000000e+01, 2.8900000e+02, 4.9130000e+03,\n",
       "        8.3521000e+04, 1.4198570e+06, 2.4137569e+07]])"
      ]
     },
     "execution_count": 232,
     "metadata": {},
     "output_type": "execute_result"
    }
   ],
   "source": [
    "poly =PolynomialFeatures(degree =6)\n",
    "df_poly =poly.fit_transform(x)\n",
    "df_poly"
   ]
  },
  {
   "cell_type": "code",
   "execution_count": 233,
   "id": "6467cb8b",
   "metadata": {},
   "outputs": [
    {
     "data": {
      "text/plain": [
       "LinearRegression()"
      ]
     },
     "execution_count": 233,
     "metadata": {},
     "output_type": "execute_result"
    }
   ],
   "source": [
    "model =LinearRegression()\n",
    "model.fit(df_poly, y)"
   ]
  },
  {
   "cell_type": "code",
   "execution_count": 234,
   "id": "bc81fe15",
   "metadata": {},
   "outputs": [
    {
     "data": {
      "text/plain": [
       "array([[ 0.00000000e+00,  3.08058381e+01, -2.29668006e+01,\n",
       "         5.20523638e+00, -5.33544729e-01,  2.58096519e-02,\n",
       "        -4.77763569e-04]])"
      ]
     },
     "execution_count": 234,
     "metadata": {},
     "output_type": "execute_result"
    }
   ],
   "source": [
    "coefficient=model.coef_\n",
    "coefficient"
   ]
  },
  {
   "cell_type": "code",
   "execution_count": 235,
   "id": "915d564f",
   "metadata": {},
   "outputs": [
    {
     "data": {
      "text/plain": [
       "array([87.43212676])"
      ]
     },
     "execution_count": 235,
     "metadata": {},
     "output_type": "execute_result"
    }
   ],
   "source": [
    "intercept = model.intercept_\n",
    "intercept   "
   ]
  },
  {
   "cell_type": "code",
   "execution_count": 236,
   "id": "43d321ed",
   "metadata": {},
   "outputs": [
    {
     "data": {
      "text/plain": [
       "array([ 1. ,  1.1,  1.2,  1.3,  1.4,  1.5,  1.6,  1.7,  1.8,  1.9,  2. ,\n",
       "        2.1,  2.2,  2.3,  2.4,  2.5,  2.6,  2.7,  2.8,  2.9,  3. ,  3.1,\n",
       "        3.2,  3.3,  3.4,  3.5,  3.6,  3.7,  3.8,  3.9,  4. ,  4.1,  4.2,\n",
       "        4.3,  4.4,  4.5,  4.6,  4.7,  4.8,  4.9,  5. ,  5.1,  5.2,  5.3,\n",
       "        5.4,  5.5,  5.6,  5.7,  5.8,  5.9,  6. ,  6.1,  6.2,  6.3,  6.4,\n",
       "        6.5,  6.6,  6.7,  6.8,  6.9,  7. ,  7.1,  7.2,  7.3,  7.4,  7.5,\n",
       "        7.6,  7.7,  7.8,  7.9,  8. ,  8.1,  8.2,  8.3,  8.4,  8.5,  8.6,\n",
       "        8.7,  8.8,  8.9,  9. ,  9.1,  9.2,  9.3,  9.4,  9.5,  9.6,  9.7,\n",
       "        9.8,  9.9, 10. , 10.1, 10.2, 10.3, 10.4, 10.5, 10.6, 10.7, 10.8,\n",
       "       10.9, 11. , 11.1, 11.2, 11.3, 11.4, 11.5, 11.6, 11.7, 11.8, 11.9,\n",
       "       12. , 12.1, 12.2, 12.3, 12.4, 12.5, 12.6, 12.7, 12.8, 12.9, 13. ,\n",
       "       13.1, 13.2, 13.3, 13.4, 13.5, 13.6, 13.7, 13.8, 13.9, 14. , 14.1,\n",
       "       14.2, 14.3, 14.4, 14.5, 14.6, 14.7, 14.8, 14.9, 15. , 15.1, 15.2,\n",
       "       15.3, 15.4, 15.5, 15.6, 15.7, 15.8, 15.9, 16. , 16.1, 16.2, 16.3,\n",
       "       16.4, 16.5, 16.6, 16.7, 16.8, 16.9, 17. , 17.1, 17.2, 17.3, 17.4,\n",
       "       17.5, 17.6, 17.7, 17.8, 17.9])"
      ]
     },
     "execution_count": 236,
     "metadata": {},
     "output_type": "execute_result"
    }
   ],
   "source": [
    "line = np.arange(1,18,0.1)\n",
    "line"
   ]
  },
  {
   "cell_type": "code",
   "execution_count": 237,
   "id": "4eaf87dc",
   "metadata": {},
   "outputs": [
    {
     "data": {
      "text/plain": [
       "array([ 99.96818773,  99.71644696,  99.27802572,  98.67139375,\n",
       "        97.91408716,  97.02273504,  96.01308578,  94.90003313,\n",
       "        93.69764175,  92.41917257,  91.07710771,  89.68317508,\n",
       "        88.24837268,  86.78299249,  85.29664405,  83.79827772,\n",
       "        82.29620751,  80.79813367,  79.3111649 ,  77.84184015,\n",
       "        76.3961502 ,  74.97955875,  73.59702333,  72.25301572,\n",
       "        70.9515421 ,  69.69616284,  68.49001197,  67.33581626,\n",
       "        66.23591398,  65.19227333,  64.2065105 ,  63.27990741,\n",
       "        62.41342908,  61.60774067,  60.86322421,  60.1799949 ,\n",
       "        59.55791714,  58.99662021,  58.49551359,  58.05380188,\n",
       "        57.67049952,  57.34444501,  57.07431488,  56.85863729,\n",
       "        56.69580528,  56.58408969,  56.52165173,  56.50655517,\n",
       "        56.53677829,  56.61022533,  56.72473777,  56.87810509,\n",
       "        57.06807536,  57.29236533,  57.54867029,  57.83467351,\n",
       "        58.14805542,  58.48650232,  58.84771488,  59.22941622,\n",
       "        59.62935964,  60.04533608,  60.47518111,  60.91678173,\n",
       "        61.36808267,  61.8270925 ,  62.29188925,  62.76062578,\n",
       "        63.23153481,  63.70293352,  64.17322792,  64.64091677,\n",
       "        65.10459522,  65.56295812,  66.01480291,  66.45903224,\n",
       "        66.89465622,  67.3207943 ,  67.73667686,  68.14164641,\n",
       "        68.53515847,  68.91678209,  69.28620004,  69.64320866,\n",
       "        69.98771732,  70.31974762,  70.63943218,  70.94701309,\n",
       "        71.24284004,  71.52736812,  71.80115521,  72.06485909,\n",
       "        72.3192342 ,  72.56512801,  72.80347711,  73.03530288,\n",
       "        73.26170691,  73.48386598,  73.70302676,  73.92050015,\n",
       "        74.13765527,  74.3559131 ,  74.57673979,  74.80163963,\n",
       "        75.03214766,  75.26982192,  75.51623544,  75.77296774,\n",
       "        76.04159614,  76.32368664,  76.62078445,  76.93440422,\n",
       "        77.26601989,  77.61705424,  77.98886802,  78.38274883,\n",
       "        78.79989958,  79.24142664,  79.70832766,  80.20147899,\n",
       "        80.72162282,  81.26935395,  81.8451062 ,  82.44913851,\n",
       "        83.08152064,  83.74211862,  84.43057974,  85.1463173 ,\n",
       "        85.88849495,  86.65601069,  87.4474806 ,  88.26122211,\n",
       "        89.095237  ,  89.94719405,  90.81441137,  91.69383826,\n",
       "        92.58203693,  93.47516368,  94.36894987,  95.25868246,\n",
       "        96.13918429,  97.00479393,  97.84934524,  98.66614656,\n",
       "        99.44795958, 100.18697786, 100.87480498, 101.50243236,\n",
       "       102.06021679, 102.53785749, 102.92437298, 103.20807747,\n",
       "       103.37655701, 103.4166452 , 103.31439868, 103.05507212,\n",
       "       102.62309302, 102.00203605, 101.17459711, 100.12256703,\n",
       "        98.82680491,  97.26721114,  95.42270007,  93.2711723 ,\n",
       "        90.78948671,  87.95343204,  84.73769822,  81.11584729,\n",
       "        77.06028402,  72.54222615])"
      ]
     },
     "execution_count": 237,
     "metadata": {},
     "output_type": "execute_result"
    }
   ],
   "source": [
    "y_pred = intercept + coefficient[0][1]*line + coefficient[0][2]*line**2+coefficient[0][3]*line**3 + coefficient[0][4]*line**4 + coefficient[0][5]*line**5 + coefficient[0][6]*line**6\n",
    "y_pred "
   ]
  },
  {
   "cell_type": "code",
   "execution_count": 238,
   "id": "b7b5f88c",
   "metadata": {},
   "outputs": [
    {
     "data": {
      "image/png": "[encoded data removed]",
      "text/plain": [
       "<Figure size 432x288 with 1 Axes>"
      ]
     },
     "metadata": {
      "needs_background": "light"
     },
     "output_type": "display_data"
    }
   ],
   "source": [
    "plt.scatter(x,y)\n",
    "plt.plot(line,y_pred,color = 'red')\n",
    "plt.show()"
   ]
  },
  {
   "cell_type": "code",
   "execution_count": 239,
   "id": "3b589d20",
   "metadata": {},
   "outputs": [
    {
     "data": {
      "text/plain": [
       "0.978125469750183"
      ]
     },
     "execution_count": 239,
     "metadata": {},
     "output_type": "execute_result"
    }
   ],
   "source": [
    "model.score(df_poly,y)"
   ]
  },
  {
   "cell_type": "code",
   "execution_count": 240,
   "id": "74ef3b7a",
   "metadata": {},
   "outputs": [
    {
     "data": {
      "text/plain": [
       "array([[91.07710771]])"
      ]
     },
     "execution_count": 240,
     "metadata": {},
     "output_type": "execute_result"
    }
   ],
   "source": [
    "model.predict([[1,2,4,8,16,32,64]])"
   ]
  },
  {
   "cell_type": "markdown",
   "id": "a86c2262",
   "metadata": {},
   "source": [
    "we can also write in"
   ]
  },
  {
   "cell_type": "markdown",
   "id": "ddc1a30c",
   "metadata": {},
   "source": [
    "degree 2"
   ]
  },
  {
   "cell_type": "code",
   "execution_count": 241,
   "id": "1a4015cd",
   "metadata": {},
   "outputs": [],
   "source": [
    "x=[1,2,3,4,5,6,7,8,9,10,11,12,13,14,15,16,17]\n",
    "y=[100,90,80,60,60,55,60,65,70,70,75,76,78,90,99,99,100]"
   ]
  },
  {
   "cell_type": "code",
   "execution_count": 242,
   "id": "787028ef",
   "metadata": {},
   "outputs": [],
   "source": [
    "model = np.poly1d(np.polyfit(x,y,2))"
   ]
  },
  {
   "cell_type": "code",
   "execution_count": 243,
   "id": "3b418164",
   "metadata": {},
   "outputs": [
    {
     "data": {
      "text/plain": [
       "array([ 0.57649639, -9.15879773, 99.95588235])"
      ]
     },
     "execution_count": 243,
     "metadata": {},
     "output_type": "execute_result"
    }
   ],
   "source": [
    "model.coefficients"
   ]
  },
  {
   "cell_type": "code",
   "execution_count": 244,
   "id": "4628dc15",
   "metadata": {},
   "outputs": [
    {
     "data": {
      "text/plain": [
       "array([ 91.37358101,  83.94427245,  77.66795666,  72.54463364,\n",
       "        68.57430341,  65.75696594,  64.09262126,  63.58126935,\n",
       "        64.22291022,  66.01754386,  68.96517028,  73.06578947,\n",
       "        78.31940144,  84.72600619,  92.28560372, 100.99819401,\n",
       "       110.86377709])"
      ]
     },
     "execution_count": 244,
     "metadata": {},
     "output_type": "execute_result"
    }
   ],
   "source": [
    "model(x)"
   ]
  },
  {
   "cell_type": "code",
   "execution_count": 245,
   "id": "90e52d2b",
   "metadata": {},
   "outputs": [
    {
     "data": {
      "text/plain": [
       "array([ 1.        ,  1.17171717,  1.34343434,  1.51515152,  1.68686869,\n",
       "        1.85858586,  2.03030303,  2.2020202 ,  2.37373737,  2.54545455,\n",
       "        2.71717172,  2.88888889,  3.06060606,  3.23232323,  3.4040404 ,\n",
       "        3.57575758,  3.74747475,  3.91919192,  4.09090909,  4.26262626,\n",
       "        4.43434343,  4.60606061,  4.77777778,  4.94949495,  5.12121212,\n",
       "        5.29292929,  5.46464646,  5.63636364,  5.80808081,  5.97979798,\n",
       "        6.15151515,  6.32323232,  6.49494949,  6.66666667,  6.83838384,\n",
       "        7.01010101,  7.18181818,  7.35353535,  7.52525253,  7.6969697 ,\n",
       "        7.86868687,  8.04040404,  8.21212121,  8.38383838,  8.55555556,\n",
       "        8.72727273,  8.8989899 ,  9.07070707,  9.24242424,  9.41414141,\n",
       "        9.58585859,  9.75757576,  9.92929293, 10.1010101 , 10.27272727,\n",
       "       10.44444444, 10.61616162, 10.78787879, 10.95959596, 11.13131313,\n",
       "       11.3030303 , 11.47474747, 11.64646465, 11.81818182, 11.98989899,\n",
       "       12.16161616, 12.33333333, 12.50505051, 12.67676768, 12.84848485,\n",
       "       13.02020202, 13.19191919, 13.36363636, 13.53535354, 13.70707071,\n",
       "       13.87878788, 14.05050505, 14.22222222, 14.39393939, 14.56565657,\n",
       "       14.73737374, 14.90909091, 15.08080808, 15.25252525, 15.42424242,\n",
       "       15.5959596 , 15.76767677, 15.93939394, 16.11111111, 16.28282828,\n",
       "       16.45454545, 16.62626263, 16.7979798 , 16.96969697, 17.14141414,\n",
       "       17.31313131, 17.48484848, 17.65656566, 17.82828283, 18.        ])"
      ]
     },
     "execution_count": 245,
     "metadata": {},
     "output_type": "execute_result"
    }
   ],
   "source": [
    "line = np.linspace(1,18,100)\n",
    "line"
   ]
  },
  {
   "cell_type": "code",
   "execution_count": 246,
   "id": "42d5571c",
   "metadata": {},
   "outputs": [
    {
     "data": {
      "image/png": "[encoded data removed]",
      "text/plain": [
       "<Figure size 432x288 with 1 Axes>"
      ]
     },
     "metadata": {
      "needs_background": "light"
     },
     "output_type": "display_data"
    }
   ],
   "source": [
    "plt.scatter(x,y)\n",
    "plt.plot(line,model(line))\n",
    "plt.show()"
   ]
  },
  {
   "cell_type": "markdown",
   "id": "ae590b6b",
   "metadata": {},
   "source": [
    "degree 3"
   ]
  },
  {
   "cell_type": "code",
   "execution_count": 247,
   "id": "70daad1b",
   "metadata": {},
   "outputs": [
    {
     "data": {
      "text/plain": [
       "array([-6.15325077e-02,  2.23787410e+00, -2.14652993e+01,  1.21000000e+02])"
      ]
     },
     "execution_count": 247,
     "metadata": {},
     "output_type": "execute_result"
    }
   ],
   "source": [
    "model = np.poly1d(np.polyfit(x,y,3))\n",
    "model.coefficients"
   ]
  },
  {
   "cell_type": "code",
   "execution_count": 248,
   "id": "710d466a",
   "metadata": {},
   "outputs": [
    {
     "data": {
      "text/plain": [
       "array([101.71104231,  86.52863777,  75.08359133,  67.00670795,\n",
       "        61.92879257,  59.48065015,  59.29308566,  60.99690402,\n",
       "        64.22291022,  68.60190918,  73.76470588,  79.34210526,\n",
       "        84.96491228,  90.26393189,  94.86996904,  98.41382869,\n",
       "       100.52631579])"
      ]
     },
     "execution_count": 248,
     "metadata": {},
     "output_type": "execute_result"
    }
   ],
   "source": [
    "model(x)"
   ]
  },
  {
   "cell_type": "code",
   "execution_count": 249,
   "id": "40ef4b39",
   "metadata": {},
   "outputs": [
    {
     "data": {
      "image/png": "[encoded data removed]",
      "text/plain": [
       "<Figure size 432x288 with 1 Axes>"
      ]
     },
     "metadata": {
      "needs_background": "light"
     },
     "output_type": "display_data"
    }
   ],
   "source": [
    "plt.scatter(x,y)\n",
    "plt.plot(line,model(line))\n",
    "plt.show()"
   ]
  },
  {
   "cell_type": "code",
   "execution_count": 250,
   "id": "2df62770",
   "metadata": {},
   "outputs": [
    {
     "data": {
      "image/png": "[encoded data removed]",
      "text/plain": [
       "<Figure size 432x288 with 2 Axes>"
      ]
     },
     "metadata": {
      "needs_background": "light"
     },
     "output_type": "display_data"
    }
   ],
   "source": [
    "plt.subplot(1,2,1)\n",
    "plt.scatter(x,y)\n",
    "plt.plot(line1,y_pred1,color='r')\n",
    "plt.xlabel('hours')\n",
    "plt.ylabel('speed')\n",
    "plt.title('poly features')\n",
    "plt.grid()\n",
    "\n",
    "plt.subplot(1,2,2)\n",
    "plt.scatter(x,y)\n",
    "plt.plot(line,model(line),color='r')\n",
    "plt.xlabel('hours')\n",
    "plt.ylabel('speed')\n",
    "plt.title('poly1d')\n",
    "plt.grid()\n",
    " \n",
    "plt.suptitle('difference')\n",
    "plt.show()"
   ]
  },
  {
   "cell_type": "code",
   "execution_count": null,
   "id": "602363c6",
   "metadata": {},
   "outputs": [],
   "source": []
  }
 ],
 "metadata": {
  "kernelspec": {
   "display_name": "Python 3 (ipykernel)",
   "language": "python",
   "name": "python3"
  },
  "language_info": {
   "codemirror_mode": {
    "name": "ipython",
    "version": 3
   },
   "file_extension": ".py",
   "mimetype": "text/x-python",
   "name": "python",
   "nbconvert_exporter": "python",
   "pygments_lexer": "ipython3",
   "version": "3.9.12"
  }
 },
 "nbformat": 4,
 "nbformat_minor": 5
}
